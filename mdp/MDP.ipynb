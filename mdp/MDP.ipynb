{
 "cells": [
  {
   "cell_type": "code",
   "execution_count": 138,
   "metadata": {},
   "outputs": [],
   "source": [
    "import numpy as np\n",
    "import mdptoolbox, mdptoolbox.example"
   ]
  },
  {
   "cell_type": "code",
   "execution_count": 139,
   "metadata": {},
   "outputs": [],
   "source": [
    "TT = np.array([[[1/2, 1/4, 1/4],\n",
    "                [1/2, 0, 1/2],\n",
    "                [1/4, 1/4, 1/2]],\n",
    "               \n",
    "               [[1/16, 3/4, 3/16],\n",
    "                [1/16, 7/8, 1/16],\n",
    "                [1/8, 3/4, 1/8]],\n",
    "               \n",
    "               [[1/4, 1/8, 5/8], \n",
    "                [0, 1, 0], \n",
    "                [3/4, 1/16, 3/16]]\n",
    "              ]\n",
    "             )"
   ]
  },
  {
   "cell_type": "code",
   "execution_count": 140,
   "metadata": {},
   "outputs": [],
   "source": [
    "TT1 = np.array([[[0.5   , 0.25  , 0.25  ],\n",
    "                 [0.0625, 0.75  , 0.1875],\n",
    "                 [0.25  , 0.125 , 0.625 ]],\n",
    "\n",
    "                 [[0.5   , 0.    , 0.5   ],\n",
    "                 [0.0625, 0.875 , 0.0625],\n",
    "                 [0.    , 0.    , 1.    ]],\n",
    "\n",
    "                [[0.25  , 0.25  , 0.5   ],\n",
    "                 [0.125 , 0.75  , 0.125 ],\n",
    "                 [0.75  , 0.0625, 0.1875]]\n",
    "               ]\n",
    "              )"
   ]
  },
  {
   "cell_type": "code",
   "execution_count": 141,
   "metadata": {},
   "outputs": [],
   "source": [
    "RR = np.array([[[10, 4, 8],\n",
    "                [14, 0, 18],\n",
    "                [10, 2, 8]],\n",
    "               \n",
    "               [[8, 2, 4],\n",
    "                [8, 16, 8],\n",
    "                [6, 4, 2]],\n",
    "               \n",
    "               [[4, 6, 4], \n",
    "                [0, 0, 0], \n",
    "                [4, 0, 8]]\n",
    "              ]\n",
    "             )"
   ]
  },
  {
   "cell_type": "code",
   "execution_count": 142,
   "metadata": {},
   "outputs": [],
   "source": [
    "RR1 = np.array([ [ [10, 4, 8],\n",
    "                   [8, 2, 4],\n",
    "                   [4, 6, 4] ],\n",
    "               \n",
    "                [\n",
    "                [14, 0, 18],\n",
    "                [8, 16, 8],\n",
    "                [0, 0, 0]\n",
    "                ],\n",
    "               \n",
    "                [\n",
    "                [10, 2, 8], \n",
    "                [6, 4, 2], \n",
    "                [4, 0, 8]\n",
    "                ]\n",
    "              ]\n",
    "             )"
   ]
  },
  {
   "cell_type": "code",
   "execution_count": 143,
   "metadata": {},
   "outputs": [],
   "source": [
    "p0 = np.array([1,1,1])"
   ]
  },
  {
   "cell_type": "code",
   "execution_count": 177,
   "metadata": {},
   "outputs": [],
   "source": [
    "pi = mdptoolbox.mdp.PolicyIteration(TT1, RR1, 0.01, policy0=p0)"
   ]
  },
  {
   "cell_type": "code",
   "execution_count": 178,
   "metadata": {},
   "outputs": [],
   "source": [
    "pi.run()"
   ]
  },
  {
   "cell_type": "code",
   "execution_count": 179,
   "metadata": {},
   "outputs": [
    {
     "data": {
      "text/plain": [
       "(1, 1, 2)"
      ]
     },
     "execution_count": 179,
     "metadata": {},
     "output_type": "execute_result"
    }
   ],
   "source": [
    "pi.policy"
   ]
  },
  {
   "cell_type": "code",
   "execution_count": 180,
   "metadata": {},
   "outputs": [
    {
     "data": {
      "text/plain": [
       "(16.10371327535132, 15.145487172175452, 4.638941794913206)"
      ]
     },
     "execution_count": 180,
     "metadata": {},
     "output_type": "execute_result"
    }
   ],
   "source": [
    "pi.V"
   ]
  },
  {
   "cell_type": "code",
   "execution_count": 181,
   "metadata": {},
   "outputs": [
    {
     "data": {
      "text/plain": [
       "2"
      ]
     },
     "execution_count": 181,
     "metadata": {},
     "output_type": "execute_result"
    }
   ],
   "source": [
    "pi.iter"
   ]
  },
  {
   "cell_type": "code",
   "execution_count": 182,
   "metadata": {},
   "outputs": [
    {
     "data": {
      "text/plain": [
       "0.00584101676940918"
      ]
     },
     "execution_count": 182,
     "metadata": {},
     "output_type": "execute_result"
    }
   ],
   "source": [
    "pi.time"
   ]
  },
  {
   "cell_type": "code",
   "execution_count": null,
   "metadata": {},
   "outputs": [],
   "source": []
  }
 ],
 "metadata": {
  "kernelspec": {
   "display_name": "Python 3",
   "language": "python",
   "name": "python3"
  },
  "language_info": {
   "codemirror_mode": {
    "name": "ipython",
    "version": 3
   },
   "file_extension": ".py",
   "mimetype": "text/x-python",
   "name": "python",
   "nbconvert_exporter": "python",
   "pygments_lexer": "ipython3",
   "version": "3.7.2"
  }
 },
 "nbformat": 4,
 "nbformat_minor": 2
}
