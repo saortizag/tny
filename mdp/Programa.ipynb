{
 "cells": [
  {
   "cell_type": "code",
   "execution_count": 1,
   "metadata": {},
   "outputs": [],
   "source": [
    "import numpy as np\n",
    "from random import*"
   ]
  },
  {
   "cell_type": "code",
   "execution_count": 2,
   "metadata": {},
   "outputs": [],
   "source": [
    "#takes place the generation of a matrix. In particular, a NxN matrix, full of ones.\n",
    "#N=randrange(randint(10,100))\n",
    "N=4\n",
    "#M=4\n",
    "MA=np.ones((N,N))"
   ]
  },
  {
   "cell_type": "code",
   "execution_count": 3,
   "metadata": {},
   "outputs": [
    {
     "name": "stdout",
     "output_type": "stream",
     "text": [
      "[[1. 1. 1. 1.]\n",
      " [1. 1. 1. 1.]\n",
      " [1. 1. 1. 1.]\n",
      " [1. 1. 1. 1.]]\n"
     ]
    }
   ],
   "source": [
    "#print it\n",
    "print(MA)"
   ]
  },
  {
   "cell_type": "code",
   "execution_count": 4,
   "metadata": {},
   "outputs": [
    {
     "data": {
      "text/plain": [
       "(4, 4)"
      ]
     },
     "execution_count": 4,
     "metadata": {},
     "output_type": "execute_result"
    }
   ],
   "source": [
    "#Its shape\n",
    "MA.shape"
   ]
  },
  {
   "cell_type": "code",
   "execution_count": 5,
   "metadata": {
    "scrolled": true
   },
   "outputs": [
    {
     "name": "stdout",
     "output_type": "stream",
     "text": [
      "[[0.79676701 0.70721337 0.47840546 0.72699573]\n",
      " [0.14411764 0.4786106  0.43416338 0.55419151]\n",
      " [0.46959663 0.75803494 0.12284698 0.57867024]\n",
      " [0.29576703 0.91204138 0.83510876 0.32329858]]\n"
     ]
    }
   ],
   "source": [
    "#filling it with random numbers.\n",
    "for ii in range(N):\n",
    "    for jj in range(N):\n",
    "        MA[ii,jj]=random()\n",
    "print(MA)"
   ]
  },
  {
   "cell_type": "code",
   "execution_count": 8,
   "metadata": {},
   "outputs": [
    {
     "name": "stdout",
     "output_type": "stream",
     "text": [
      "[[0.29407707 0.26102391 0.17657368 0.26832534]\n",
      " [0.08945388 0.29707381 0.2694854  0.34398691]\n",
      " [0.24342168 0.39293752 0.06367937 0.29996143]\n",
      " [0.1249958  0.38544303 0.3529301  0.13663107]]\n"
     ]
    }
   ],
   "source": [
    "#determining the sum of the entries of the row. --I think it should be rows--. \n",
    "#then, divide each entry of a column by the sum; normalizing.\n",
    "for ii in range(N):\n",
    "    sf1=np.sum(MA[ii,:])\n",
    "    MA[ii,:]=MA[ii,:]/sf1\n",
    "print(MA)"
   ]
  },
  {
   "cell_type": "code",
   "execution_count": 9,
   "metadata": {},
   "outputs": [
    {
     "data": {
      "text/plain": [
       "array([1., 1., 1., 1.])"
      ]
     },
     "execution_count": 9,
     "metadata": {},
     "output_type": "execute_result"
    }
   ],
   "source": [
    "#checking that the sum of a column is\n",
    "np.sum(MA,axis=1)"
   ]
  },
  {
   "cell_type": "code",
   "execution_count": 10,
   "metadata": {},
   "outputs": [
    {
     "data": {
      "text/plain": [
       "(array([ 1.        +0.j        ,  0.15226828+0.j        ,\n",
       "        -0.18040348+0.03456711j, -0.18040348-0.03456711j]),\n",
       " array([[-0.5       +0.j        ,  0.89211243+0.j        ,\n",
       "         -0.14332173-0.01354746j, -0.14332173+0.01354746j],\n",
       "        [-0.5       +0.j        , -0.40647962+0.j        ,\n",
       "         -0.41266274-0.19343971j, -0.41266274+0.19343971j],\n",
       "        [-0.5       +0.j        ,  0.12107001+0.j        ,\n",
       "         -0.21619193+0.29430307j, -0.21619193-0.29430307j],\n",
       "        [-0.5       +0.j        , -0.15572984+0.j        ,\n",
       "          0.79888212+0.j        ,  0.79888212-0.j        ]]))"
      ]
     },
     "execution_count": 10,
     "metadata": {},
     "output_type": "execute_result"
    }
   ],
   "source": [
    "#finding eigenvalues and eigenstates.\n",
    "np.linalg.eig(MA)"
   ]
  },
  {
   "cell_type": "code",
   "execution_count": 11,
   "metadata": {},
   "outputs": [
    {
     "name": "stdout",
     "output_type": "stream",
     "text": [
      "[0.29407707 0.26102391 0.17657368 0.26832534 0.08945388 0.29707381\n",
      " 0.2694854  0.34398691 0.24342168 0.39293752 0.06367937 0.29996143\n",
      " 0.1249958  0.38544303 0.3529301  0.13663107]\n"
     ]
    }
   ],
   "source": [
    "#Making the matrix a 1D array\n",
    "VecMA = np.asarray(MA).reshape(-1)\n",
    "print(VecMA)"
   ]
  },
  {
   "cell_type": "code",
   "execution_count": 104,
   "metadata": {},
   "outputs": [],
   "source": [
    "#import csv\n",
    "#with open('Medallion_2011_specifc_time_dataset.csv') as csvfile:\n",
    "#     reader = csv.DictReader(csvfile)\n",
    "#     for col in reader:\n",
    "#         print(col['Zones'])"
   ]
  },
  {
   "cell_type": "code",
   "execution_count": 12,
   "metadata": {},
   "outputs": [],
   "source": [
    "#pandas is simpler than numpy.\n",
    "import pandas as pd"
   ]
  },
  {
   "cell_type": "code",
   "execution_count": 13,
   "metadata": {},
   "outputs": [
    {
     "name": "stderr",
     "output_type": "stream",
     "text": [
      "D:\\Programas\\Anaconda\\lib\\site-packages\\IPython\\core\\interactiveshell.py:2785: DtypeWarning: Columns (0) have mixed types. Specify dtype option on import or set low_memory=False.\n",
      "  interactivity=interactivity, compiler=compiler, result=result)\n"
     ]
    }
   ],
   "source": [
    "#creating a DataFrame --pandas matrix, if you want-- with a command. no header means to use every values as data, not as names. \n",
    "\n",
    "#m = pd.read_csv('Medallion_2011_specifc_time_dataset.csv', header=None)\n",
    "m1 = pd.read_csv('Demand_Jun_04_2011.csv', header=None)\n",
    "m2 = pd.read_csv('Demand_Jun_05_2011.csv', header=None)\n",
    "m3 = pd.read_csv('Demand_Jun_06_2011.csv', header=None)\n",
    "m4 = pd.read_csv('Demand_Jun_07_2011.csv', header=None)\n",
    "m5 = pd.read_csv('Demand_Jun_08_2011.csv', header=None)\n"
   ]
  },
  {
   "cell_type": "code",
   "execution_count": 14,
   "metadata": {},
   "outputs": [],
   "source": [
    "#Crating a matrix (numpy array) with the values of the mi (i=1,2,3,4,5) pandas files.\n",
    "\n",
    "#MT = m.values\n",
    "MT1 = m1.values\n",
    "MT2 = m2.values\n",
    "MT3 = m3.values\n",
    "MT4 = m4.values\n",
    "MT5 = m5.values"
   ]
  },
  {
   "cell_type": "code",
   "execution_count": 15,
   "metadata": {},
   "outputs": [
    {
     "name": "stdout",
     "output_type": "stream",
     "text": [
      "(8301, 8301)\n",
      "(8301, 8301)\n",
      "(8301, 8301)\n",
      "(8301, 8301)\n",
      "(8301, 8301)\n"
     ]
    }
   ],
   "source": [
    "#Checking the size of the arrays.\n",
    "\n",
    "#print(MT.shape)\n",
    "print(MT1.shape)\n",
    "print(MT2.shape)\n",
    "print(MT3.shape)\n",
    "print(MT4.shape)\n",
    "print(MT5.shape)"
   ]
  },
  {
   "cell_type": "code",
   "execution_count": 16,
   "metadata": {},
   "outputs": [
    {
     "name": "stdout",
     "output_type": "stream",
     "text": [
      "['PZone' '309269' '309270' ... 391366 391367 391368]\n",
      "['PZone' 309269 309270 ... 391366 391367 391368]\n",
      "['PZone' '309269' '309270' ... 391366 391367 391368]\n",
      "['PZone' 309269 309270 ... 391366 391367 391368]\n",
      "['PZone' '309269' '309270' ... 391366 391367 391368]\n",
      "['PZone' 309269 309270 ... 391366 391367 391368]\n",
      "['PZone' '309269' '309270' ... 391366 391367 391368]\n",
      "['PZone' 309269 309270 ... 391366 391367 391368]\n",
      "['PZone' '309269' '309270' ... 391366 391367 391368]\n",
      "['PZone' 309269 309270 ... 391366 391367 391368]\n"
     ]
    }
   ],
   "source": [
    "#Checkin that the first column and row are the headers.\n",
    "\n",
    "#print(MT[:,0])\n",
    "#print(MT[0,:])\n",
    "\n",
    "print(MT1[:,0])\n",
    "print(MT1[0,:])\n",
    "\n",
    "print(MT2[:,0])\n",
    "print(MT2[0,:])\n",
    "\n",
    "print(MT3[:,0])\n",
    "print(MT3[0,:])\n",
    "\n",
    "print(MT4[:,0])\n",
    "print(MT4[0,:])\n",
    "\n",
    "print(MT5[:,0])\n",
    "print(MT5[0,:])"
   ]
  },
  {
   "cell_type": "code",
   "execution_count": 17,
   "metadata": {},
   "outputs": [],
   "source": [
    "#Deleting the headers.\n",
    "\n",
    "#Mm = np.delete(MT,0,1)\n",
    "#Mm = np.delete(Mm,0,0)\n",
    "\n",
    "M1 = np.delete(MT1,0,1)\n",
    "M1 = np.delete(M1,0,0)\n",
    "\n",
    "M2 = np.delete(MT2,0,1)\n",
    "M2 = np.delete(M2,0,0)\n",
    "\n",
    "M3 = np.delete(MT3,0,1)\n",
    "M3 = np.delete(M3,0,0)\n",
    "\n",
    "M4 = np.delete(MT4,0,1)\n",
    "M4 = np.delete(M4,0,0)\n",
    "\n",
    "M5 = np.delete(MT5,0,1)\n",
    "M5 = np.delete(M5,0,0)"
   ]
  },
  {
   "cell_type": "code",
   "execution_count": 18,
   "metadata": {},
   "outputs": [
    {
     "name": "stdout",
     "output_type": "stream",
     "text": [
      "(8300, 8300)\n",
      "(8300, 8300)\n",
      "(8300, 8300)\n",
      "(8300, 8300)\n",
      "(8300, 8300)\n"
     ]
    }
   ],
   "source": [
    "#Checking the size\n",
    "\n",
    "#print(Mm.shape)\n",
    "print(M1.shape)\n",
    "print(M2.shape)\n",
    "print(M3.shape)\n",
    "print(M4.shape)\n",
    "print(M5.shape)"
   ]
  },
  {
   "cell_type": "code",
   "execution_count": 19,
   "metadata": {},
   "outputs": [
    {
     "name": "stdout",
     "output_type": "stream",
     "text": [
      "(8300, 8300)\n"
     ]
    }
   ],
   "source": [
    "#Adding the matrices, elementwise.\n",
    "\n",
    "suma1=np.add(M1, M2)\n",
    "suma2=np.add(suma1,M3)\n",
    "suma3=np.add(suma2,M4)\n",
    "preMint=np.add(suma3,M5)\n",
    "print(preMint.shape)"
   ]
  },
  {
   "cell_type": "code",
   "execution_count": 20,
   "metadata": {},
   "outputs": [],
   "source": [
    "preMfloat=preMint.astype(float)"
   ]
  },
  {
   "cell_type": "code",
   "execution_count": 21,
   "metadata": {},
   "outputs": [
    {
     "data": {
      "text/plain": [
       "numpy.float64"
      ]
     },
     "execution_count": 21,
     "metadata": {},
     "output_type": "execute_result"
    }
   ],
   "source": [
    "type(preMfloat[4,7])"
   ]
  },
  {
   "cell_type": "code",
   "execution_count": 22,
   "metadata": {
    "scrolled": false
   },
   "outputs": [
    {
     "data": {
      "text/plain": [
       "array([[0., 0., 0., ..., 0., 0., 0.],\n",
       "       [0., 0., 0., ..., 0., 0., 0.],\n",
       "       [0., 0., 0., ..., 0., 0., 0.],\n",
       "       ...,\n",
       "       [0., 0., 0., ..., 0., 0., 0.],\n",
       "       [0., 0., 0., ..., 0., 0., 0.],\n",
       "       [0., 0., 0., ..., 0., 0., 0.]])"
      ]
     },
     "execution_count": 22,
     "metadata": {},
     "output_type": "execute_result"
    }
   ],
   "source": [
    "#see M\n",
    "preMfloat"
   ]
  },
  {
   "cell_type": "code",
   "execution_count": 23,
   "metadata": {},
   "outputs": [
    {
     "name": "stdout",
     "output_type": "stream",
     "text": [
      "[[0.00012048 0.00012048 0.00012048 ... 0.00012048 0.00012048 0.00012048]\n",
      " [0.00012048 0.00012048 0.00012048 ... 0.00012048 0.00012048 0.00012048]\n",
      " [0.00012048 0.00012048 0.00012048 ... 0.00012048 0.00012048 0.00012048]\n",
      " ...\n",
      " [0.00012048 0.00012048 0.00012048 ... 0.00012048 0.00012048 0.00012048]\n",
      " [0.00012048 0.00012048 0.00012048 ... 0.00012048 0.00012048 0.00012048]\n",
      " [0.00012048 0.00012048 0.00012048 ... 0.00012048 0.00012048 0.00012048]]\n",
      "<class 'numpy.ndarray'>\n"
     ]
    }
   ],
   "source": [
    "#determining the sum of the entries of the column --I think it should be rows--. \n",
    "#then, divide each entry of a column by the sum; normalizing.\n",
    "\n",
    "preM=preMfloat.copy()                       #creates a copy of MT.\n",
    "#case=\"0\"                       #chooses the way of changing 0.0.\n",
    "lsf=[]                             #creates a list of the row sums \"list suma fila\".\n",
    "lzeros=[]                          #creates a list of zeros.\n",
    "\n",
    "for ii in range(0,8300): \n",
    "    sf=np.sum(preM[ii,:])            #the values of the sum of the elements each row.\n",
    "    lsf.append(sf)                 #filling the lsf list with its values.\n",
    "    sumlsf=sum(lsf)                #this is the sum of the entries of lsf. \n",
    "    if sf!=0.0:                      #if sf is different from 0,\n",
    "        preM[ii,:]=preM[ii,:]/sf       #divide each value of the row by the sum of the elements of the row. Normalizing.\n",
    "    else:\n",
    "#        lzeros.append(ii)          #otherwise, fill the lzeros list with something, in this case, ii.\n",
    "        preM[ii,:]=1.0/8300\n",
    "print(preM)\n",
    "print(type(preM))\n",
    "\n",
    "#if case==\"0\":                      #to change 0.0 with 0.0. Actually, does nothing.\n",
    "#    pass\n",
    "#    print(MN)\n",
    "\n",
    "#elif case==\"1/n\":                  #to change 0.0 with a fraction of unit. It is a mean that adds up to 1.\n",
    "#    for ii in lzeros:\n",
    "#        MN[ii,:]=1.0/8300\n",
    "#    print(MN)\n",
    "    \n",
    "#elif case==\"mean1\":             \n",
    "#    entries=len(lsf)-len(lzeros)   #quantity of non-zero-sum columns. lenght of lsf (equal to the number of rows) minus lenght of the list of rows with zero sum.\n",
    "#    for ii in lzeros:\n",
    "#        MN[ii,:]=sumlsf/entries\n",
    "#        MN[ii,:]=MN[ii,:]/np.sum(MN[ii,:])\n",
    "#    print(MN)\n",
    "    \n",
    "#elif case==\"mean2\":\n",
    "#    for ii in lzeros:\n",
    "#        MN[ii,:]=sumlsf/len(lsf)\n",
    "#        MN[ii,:]=MN[ii,:]/np.sum(MN[ii,:])\n",
    "#    print(MN)\n"
   ]
  },
  {
   "cell_type": "code",
   "execution_count": 24,
   "metadata": {},
   "outputs": [],
   "source": [
    "A = np.asmatrix(preM)"
   ]
  },
  {
   "cell_type": "code",
   "execution_count": 25,
   "metadata": {},
   "outputs": [
    {
     "name": "stdout",
     "output_type": "stream",
     "text": [
      "<class 'numpy.ndarray'>\n",
      "[0.00012048 0.00012048 0.00012048 ... 0.00012048 0.00012048 0.00012048]\n"
     ]
    }
   ],
   "source": [
    "unapcked = preM.ravel()\n",
    "#unapcked = np.matrix.ravel(A)\n",
    "#unpacked = np.asarray(unapcked)\n",
    "print(type(unapcked))\n",
    "print(unapcked)"
   ]
  },
  {
   "cell_type": "code",
   "execution_count": 26,
   "metadata": {},
   "outputs": [],
   "source": [
    "#checking for NaNs\n",
    "\n",
    "for i, elemnt in enumerate(unapcked):\n",
    "    \n",
    "    if elemnt != elemnt:\n",
    "        \n",
    "        print(i)"
   ]
  },
  {
   "cell_type": "code",
   "execution_count": 27,
   "metadata": {},
   "outputs": [
    {
     "data": {
      "text/plain": [
       "matrix([[1.],\n",
       "        [1.],\n",
       "        [1.],\n",
       "        ...,\n",
       "        [1.],\n",
       "        [1.],\n",
       "        [1.]])"
      ]
     },
     "execution_count": 27,
     "metadata": {},
     "output_type": "execute_result"
    }
   ],
   "source": [
    "np.sum(A,axis=1)"
   ]
  },
  {
   "cell_type": "code",
   "execution_count": 28,
   "metadata": {},
   "outputs": [],
   "source": [
    "#Creating the csv file of the transition matrix.\n",
    "np.savetxt('transition.csv', A, delimiter=',')"
   ]
  },
  {
   "cell_type": "code",
   "execution_count": 29,
   "metadata": {},
   "outputs": [],
   "source": [
    "#Creating a file with the values of the sum of the rows of A. To eye-check.\n",
    "sumrows=np.sum(A,axis=1)\n",
    "np.savetxt('sumrows.csv', sumrows, delimiter=',')"
   ]
  },
  {
   "cell_type": "code",
   "execution_count": 78,
   "metadata": {
    "scrolled": true
   },
   "outputs": [
    {
     "data": {
      "text/plain": [
       "(array([0.99768504+0.j, 0.94327584+0.j, 0.74991261+0.j, ...,\n",
       "        1.        +0.j, 1.        +0.j, 1.        +0.j]),\n",
       " matrix([[ 0.01098103+0.j, -0.0111715 +0.j, -0.00097839+0.j, ...,\n",
       "           0.0093138 +0.j,  0.0093138 +0.j,  0.01010558+0.j],\n",
       "         [ 0.01098103+0.j, -0.0111715 +0.j, -0.00097839+0.j, ...,\n",
       "           0.0093138 +0.j,  0.0093138 +0.j,  0.01010558+0.j],\n",
       "         [ 0.01098103+0.j, -0.0111715 +0.j, -0.00097839+0.j, ...,\n",
       "           0.0093138 +0.j,  0.0093138 +0.j,  0.01010558+0.j],\n",
       "         ...,\n",
       "         [ 0.01098103+0.j, -0.0111715 +0.j, -0.00097839+0.j, ...,\n",
       "           0.0093138 +0.j,  0.0093138 +0.j,  0.01010558+0.j],\n",
       "         [ 0.01098103+0.j, -0.0111715 +0.j, -0.00097839+0.j, ...,\n",
       "           0.0093138 +0.j,  0.0093138 +0.j,  0.01010558+0.j],\n",
       "         [ 0.01098103+0.j, -0.0111715 +0.j, -0.00097839+0.j, ...,\n",
       "           0.0093138 +0.j,  0.0093138 +0.j,  0.01010558+0.j]]))"
      ]
     },
     "execution_count": 78,
     "metadata": {},
     "output_type": "execute_result"
    }
   ],
   "source": [
    "#finding eigenvalues and eigenstates.\n",
    "np.linalg.eig(A)"
   ]
  },
  {
   "cell_type": "code",
   "execution_count": 1,
   "metadata": {},
   "outputs": [],
   "source": [
    "from scipy import linalg as LN"
   ]
  },
  {
   "cell_type": "code",
   "execution_count": 80,
   "metadata": {},
   "outputs": [
    {
     "data": {
      "text/plain": [
       "(array([0.99768504+0.j, 0.94327584+0.j, 0.74991261+0.j, ...,\n",
       "        1.        +0.j, 1.        +0.j, 1.        +0.j]),\n",
       " array([[ 0.01098103+0.j, -0.0111715 +0.j, -0.00097839+0.j, ...,\n",
       "          0.0093138 +0.j,  0.0093138 +0.j,  0.01010558+0.j],\n",
       "        [ 0.01098103+0.j, -0.0111715 +0.j, -0.00097839+0.j, ...,\n",
       "          0.0093138 +0.j,  0.0093138 +0.j,  0.01010558+0.j],\n",
       "        [ 0.01098103+0.j, -0.0111715 +0.j, -0.00097839+0.j, ...,\n",
       "          0.0093138 +0.j,  0.0093138 +0.j,  0.01010558+0.j],\n",
       "        ...,\n",
       "        [ 0.01098103+0.j, -0.0111715 +0.j, -0.00097839+0.j, ...,\n",
       "          0.0093138 +0.j,  0.0093138 +0.j,  0.01010558+0.j],\n",
       "        [ 0.01098103+0.j, -0.0111715 +0.j, -0.00097839+0.j, ...,\n",
       "          0.0093138 +0.j,  0.0093138 +0.j,  0.01010558+0.j],\n",
       "        [ 0.01098103+0.j, -0.0111715 +0.j, -0.00097839+0.j, ...,\n",
       "          0.0093138 +0.j,  0.0093138 +0.j,  0.01010558+0.j]]))"
      ]
     },
     "execution_count": 80,
     "metadata": {},
     "output_type": "execute_result"
    }
   ],
   "source": [
    "LN.eig(A)"
   ]
  },
  {
   "cell_type": "code",
   "execution_count": 30,
   "metadata": {
    "scrolled": true
   },
   "outputs": [],
   "source": [
    "eigvals = np.linalg.eigvals(A)"
   ]
  },
  {
   "cell_type": "code",
   "execution_count": 31,
   "metadata": {},
   "outputs": [],
   "source": [
    "np.savetxt('eigvals.csv', eigvals, delimiter=',')"
   ]
  },
  {
   "cell_type": "code",
   "execution_count": null,
   "metadata": {},
   "outputs": [],
   "source": []
  }
 ],
 "metadata": {
  "kernelspec": {
   "display_name": "Python 3",
   "language": "python",
   "name": "python3"
  },
  "language_info": {
   "codemirror_mode": {
    "name": "ipython",
    "version": 3
   },
   "file_extension": ".py",
   "mimetype": "text/x-python",
   "name": "python",
   "nbconvert_exporter": "python",
   "pygments_lexer": "ipython3",
   "version": "3.7.2"
  }
 },
 "nbformat": 4,
 "nbformat_minor": 2
}
