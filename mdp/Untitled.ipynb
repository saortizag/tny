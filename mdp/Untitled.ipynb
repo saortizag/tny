{
 "cells": [
  {
   "cell_type": "code",
   "execution_count": 1,
   "metadata": {},
   "outputs": [],
   "source": [
    "import numpy as np\n",
    "import pandas as pd\n",
    "from random import*\n",
    "import mdptoolbox\n",
    "import time"
   ]
  },
  {
   "cell_type": "code",
   "execution_count": 2,
   "metadata": {},
   "outputs": [],
   "source": [
    "#Transformation of data set into DataFrame, into np.matrix, without headers or other stuff.\n",
    "def Prepared_Matrix(csv):\n",
    "    _ = pd.read_csv(csv, header=None)\n",
    "    _ = _.values\n",
    "    _ = np.delete(_,0,1)\n",
    "    _ = np.delete(_,0,0)\n",
    "    _ = _.astype(float)\n",
    "    _ = np.asmatrix(_)\n",
    "    return _"
   ]
  },
  {
   "cell_type": "code",
   "execution_count": 3,
   "metadata": {},
   "outputs": [],
   "source": [
    "#If you want to create one mean matrix using various preapared matrices.\n",
    "def Mean_Matrix(M1, M2, M3=None, M4=None, M5=None, n=2):\n",
    "    matrices = [M1, M2, M3, M4, M5]\n",
    "    return sum(matrices)/n"
   ]
  },
  {
   "cell_type": "code",
   "execution_count": 4,
   "metadata": {},
   "outputs": [],
   "source": [
    "#If you want to reduce the dimensions of the original matrix.\n",
    "def nxn(M, desired_n):\n",
    "    rows = np.shape(M)[0]\n",
    "    cols = np.shape(M)[1]\n",
    "    if (rows == cols) & rows%desired_n == 0:\n",
    "        _ = np.empty((desired_n,desired_n), dtype=int)\n",
    "        n = int(rows/desired_n)\n",
    "        for ii in range(int(desired_n)):\n",
    "            for jj in range(int(desired_n)):\n",
    "                _[ii,jj] = np.sum(M[ii*n:(ii+1)*n, jj*n:(jj+1)*n])\n",
    "    else:\n",
    "        print(\"Error: non-square matrix, or no exact division\")\n",
    "    return _"
   ]
  },
  {
   "cell_type": "code",
   "execution_count": 5,
   "metadata": {},
   "outputs": [],
   "source": [
    "#Creates a Markov matrix; a transition matrix.\n",
    "def Transition_Matrix(M):\n",
    "    n = np.shape(M)[0]\n",
    "    _ = np.empty((n,n), dtype=float)\n",
    "    for ii in range(n):\n",
    "        sf = np.sum(M[ii,:])\n",
    "        if sf != 0:\n",
    "            _[ii,:] = M[ii,:]/(np.sum(M[ii,:]))\n",
    "        else:\n",
    "            _[ii,:] = 1/n\n",
    "    return _"
   ]
  },
  {
   "cell_type": "code",
   "execution_count": 6,
   "metadata": {},
   "outputs": [],
   "source": [
    "#Creates a reward matrix.\n",
    "def Reward_Matrix(desired_n, mean_price, std_dev):\n",
    "    _ = np.zeros((desired_n, desired_n))\n",
    "    for ii in range(desired_n):\n",
    "        for jj in range(desired_n):\n",
    "            _[ii,jj] = normalvariate(mean_price, std_dev)\n",
    "    return _"
   ]
  },
  {
   "cell_type": "code",
   "execution_count": 7,
   "metadata": {},
   "outputs": [
    {
     "name": "stderr",
     "output_type": "stream",
     "text": [
      "/home/santiagortiz/anaconda3/lib/python3.7/site-packages/IPython/core/interactiveshell.py:2901: DtypeWarning: Columns (0) have mixed types. Specify dtype option on import or set low_memory=False.\n",
      "  if self.run_code(code, result):\n"
     ]
    },
    {
     "name": "stdout",
     "output_type": "stream",
     "text": [
      "One csv took 13.319872856140137.\n",
      "All csv took 72.3278112411499.\n"
     ]
    }
   ],
   "source": [
    "t0 = time.time()\n",
    "P1 = Prepared_Matrix(\"Demand_Jun_04_2011.csv\")\n",
    "print(\"One csv took \"+str(time.time()-t0)+\".\")\n",
    "P2 = Prepared_Matrix(\"Demand_Jun_05_2011.csv\")\n",
    "P3 = Prepared_Matrix(\"Demand_Jun_06_2011.csv\")\n",
    "P4 = Prepared_Matrix(\"Demand_Jun_07_2011.csv\")\n",
    "P5 = Prepared_Matrix(\"Demand_Jun_08_2011.csv\")\n",
    "print(\"All csv took \"+str(time.time() - t0)+\".\")"
   ]
  },
  {
   "cell_type": "code",
   "execution_count": 8,
   "metadata": {},
   "outputs": [],
   "source": [
    "n1 = nxn(P1, 10)\n",
    "n2 = nxn(P2, 10)\n",
    "n3 = nxn(P3, 10)\n",
    "n4 = nxn(P4, 10)\n",
    "n5 = nxn(P5, 10)"
   ]
  },
  {
   "cell_type": "code",
   "execution_count": 9,
   "metadata": {},
   "outputs": [],
   "source": [
    "T1 = Transition_Matrix(n1)\n",
    "T2 = Transition_Matrix(n2)\n",
    "T3 = Transition_Matrix(n3)\n",
    "T4 = Transition_Matrix(n4)\n",
    "T5 = Transition_Matrix(n5)"
   ]
  },
  {
   "cell_type": "code",
   "execution_count": 10,
   "metadata": {},
   "outputs": [],
   "source": [
    "R1 = Reward_Matrix(10, 31, 9)\n",
    "R2 = Reward_Matrix(10, 24, 7)\n",
    "R3 = Reward_Matrix(10, 40, 1)\n",
    "R4 = Reward_Matrix(10, 41, 30)\n",
    "R5 = Reward_Matrix(10, 30, 2)"
   ]
  },
  {
   "cell_type": "code",
   "execution_count": 11,
   "metadata": {},
   "outputs": [],
   "source": [
    "#Creating the initial policy vector. Required by MDPToolbox.\n",
    "p0 = np.array([1,1,1,1,1,1,1,1,1,1])"
   ]
  },
  {
   "cell_type": "code",
   "execution_count": 12,
   "metadata": {},
   "outputs": [],
   "source": [
    "#The np.array that contains the transition matrices. Required by MDPToolbox.\n",
    "T = np.array([T1, T2, T3, T4, T5])"
   ]
  },
  {
   "cell_type": "code",
   "execution_count": 13,
   "metadata": {},
   "outputs": [],
   "source": [
    "#The np.array that contains the reward matrices. Required by MDPToolbox.\n",
    "R = np.array([R1, R2, R3, R4, R5])"
   ]
  },
  {
   "cell_type": "code",
   "execution_count": 14,
   "metadata": {},
   "outputs": [],
   "source": [
    "#MDPToolbox object. Uses the method PolicyIteration.\n",
    "pi = mdptoolbox.mdp.PolicyIteration(T, R, 0.4)"
   ]
  },
  {
   "cell_type": "code",
   "execution_count": 15,
   "metadata": {},
   "outputs": [],
   "source": [
    "pi.run()"
   ]
  },
  {
   "cell_type": "code",
   "execution_count": 16,
   "metadata": {},
   "outputs": [
    {
     "data": {
      "text/plain": [
       "(2, 3, 3, 2, 3, 3, 2, 2, 2, 3)"
      ]
     },
     "execution_count": 16,
     "metadata": {},
     "output_type": "execute_result"
    }
   ],
   "source": [
    "#The optimal policy vector.\n",
    "pi.policy"
   ]
  },
  {
   "cell_type": "code",
   "execution_count": 17,
   "metadata": {},
   "outputs": [
    {
     "data": {
      "text/plain": [
       "(71.31754521571456,\n",
       " 74.41280392042704,\n",
       " 86.84266159938865,\n",
       " 74.60110758866284,\n",
       " 97.96769525931659,\n",
       " 82.07655675146275,\n",
       " 72.69954089987955,\n",
       " 70.06556665016687,\n",
       " 70.9937498324574,\n",
       " 80.10988992844396)"
      ]
     },
     "execution_count": 17,
     "metadata": {},
     "output_type": "execute_result"
    }
   ],
   "source": [
    "#Value function.\n",
    "pi.V"
   ]
  },
  {
   "cell_type": "code",
   "execution_count": 18,
   "metadata": {},
   "outputs": [
    {
     "data": {
      "text/plain": [
       "0.018876314163208008"
      ]
     },
     "execution_count": 18,
     "metadata": {},
     "output_type": "execute_result"
    }
   ],
   "source": [
    "#CPU time.\n",
    "pi.time"
   ]
  },
  {
   "cell_type": "code",
   "execution_count": 19,
   "metadata": {},
   "outputs": [
    {
     "data": {
      "text/plain": [
       "1"
      ]
     },
     "execution_count": 19,
     "metadata": {},
     "output_type": "execute_result"
    }
   ],
   "source": [
    "pi.iter"
   ]
  },
  {
   "cell_type": "code",
   "execution_count": 20,
   "metadata": {},
   "outputs": [],
   "source": [
    "piRVI = mdptoolbox.mdp.RelativeValueIteration(T, R, 0.4)"
   ]
  },
  {
   "cell_type": "code",
   "execution_count": 21,
   "metadata": {},
   "outputs": [],
   "source": [
    "piRVI.run()"
   ]
  },
  {
   "cell_type": "code",
   "execution_count": 22,
   "metadata": {},
   "outputs": [
    {
     "data": {
      "text/plain": [
       "(2, 3, 3, 2, 3, 3, 2, 2, 2, 3)"
      ]
     },
     "execution_count": 22,
     "metadata": {},
     "output_type": "execute_result"
    }
   ],
   "source": [
    "piRVI.policy"
   ]
  },
  {
   "cell_type": "code",
   "execution_count": 23,
   "metadata": {},
   "outputs": [
    {
     "data": {
      "text/plain": [
       "6"
      ]
     },
     "execution_count": 23,
     "metadata": {},
     "output_type": "execute_result"
    }
   ],
   "source": [
    "piRVI.iter"
   ]
  },
  {
   "cell_type": "code",
   "execution_count": 24,
   "metadata": {},
   "outputs": [],
   "source": [
    "piMod = mdptoolbox.mdp.PolicyIterationModified(T, R, 0.4)"
   ]
  },
  {
   "cell_type": "code",
   "execution_count": 25,
   "metadata": {},
   "outputs": [],
   "source": [
    "piMod.run()"
   ]
  },
  {
   "cell_type": "code",
   "execution_count": 27,
   "metadata": {},
   "outputs": [
    {
     "data": {
      "text/plain": [
       "(2, 3, 3, 2, 3, 3, 2, 2, 2, 3)"
      ]
     },
     "execution_count": 27,
     "metadata": {},
     "output_type": "execute_result"
    }
   ],
   "source": [
    "piMod.policy"
   ]
  },
  {
   "cell_type": "code",
   "execution_count": 28,
   "metadata": {},
   "outputs": [
    {
     "data": {
      "text/plain": [
       "2"
      ]
     },
     "execution_count": 28,
     "metadata": {},
     "output_type": "execute_result"
    }
   ],
   "source": [
    "piMod.iter"
   ]
  },
  {
   "cell_type": "code",
   "execution_count": 33,
   "metadata": {},
   "outputs": [],
   "source": [
    "piVI = mdptoolbox.mdp.ValueIteration(T, R, 0.4)"
   ]
  },
  {
   "cell_type": "code",
   "execution_count": 34,
   "metadata": {},
   "outputs": [],
   "source": [
    "piVI.run()"
   ]
  },
  {
   "cell_type": "code",
   "execution_count": 35,
   "metadata": {},
   "outputs": [
    {
     "data": {
      "text/plain": [
       "(2, 3, 3, 2, 3, 3, 2, 2, 2, 3)"
      ]
     },
     "execution_count": 35,
     "metadata": {},
     "output_type": "execute_result"
    }
   ],
   "source": [
    "piVI.policy"
   ]
  },
  {
   "cell_type": "code",
   "execution_count": 36,
   "metadata": {},
   "outputs": [
    {
     "data": {
      "text/plain": [
       "6"
      ]
     },
     "execution_count": 36,
     "metadata": {},
     "output_type": "execute_result"
    }
   ],
   "source": [
    "piVI.iter"
   ]
  },
  {
   "cell_type": "code",
   "execution_count": 37,
   "metadata": {},
   "outputs": [],
   "source": [
    "piVIGS = mdptoolbox.mdp.ValueIteration(T, R, 0.4)"
   ]
  },
  {
   "cell_type": "code",
   "execution_count": 38,
   "metadata": {},
   "outputs": [],
   "source": [
    "piVIGS.run()"
   ]
  },
  {
   "cell_type": "code",
   "execution_count": 39,
   "metadata": {},
   "outputs": [
    {
     "data": {
      "text/plain": [
       "(2, 3, 3, 2, 3, 3, 2, 2, 2, 3)"
      ]
     },
     "execution_count": 39,
     "metadata": {},
     "output_type": "execute_result"
    }
   ],
   "source": [
    "piVIGS.policy"
   ]
  },
  {
   "cell_type": "code",
   "execution_count": 40,
   "metadata": {},
   "outputs": [
    {
     "data": {
      "text/plain": [
       "6"
      ]
     },
     "execution_count": 40,
     "metadata": {},
     "output_type": "execute_result"
    }
   ],
   "source": [
    "piVIGS.iter"
   ]
  },
  {
   "cell_type": "markdown",
   "metadata": {},
   "source": [
    "### Ideas\n",
    "- Transition matrices could be dynamic. Not quite Markovian dynamics. The present state depends on previous states.\n",
    "    - LEARNING DEEP MEAN FIELD GAMES FOR MODELING LARGE POPULATION BEHAVIOR. (2018). Jiachen Yang, Xiaojing Ye, Rakshit Trivedi, Huan Xu & Hongyuan Zha.\n",
    "- Good predictors of the transition matrix are:\n",
    "    - the transition matrix of the same time one week ago\n",
    "    - the transition matrix of the previous time bin (a nearest previous neighbour model)\n",
    "    - reflection of demand directions: if many people go to j, many people must return from j.\n",
    "    - real time feedback, somehow reinforced."
   ]
  }
 ],
 "metadata": {
  "kernelspec": {
   "display_name": "Python 3",
   "language": "python",
   "name": "python3"
  },
  "language_info": {
   "codemirror_mode": {
    "name": "ipython",
    "version": 3
   },
   "file_extension": ".py",
   "mimetype": "text/x-python",
   "name": "python",
   "nbconvert_exporter": "python",
   "pygments_lexer": "ipython3",
   "version": "3.7.3"
  }
 },
 "nbformat": 4,
 "nbformat_minor": 2
}
