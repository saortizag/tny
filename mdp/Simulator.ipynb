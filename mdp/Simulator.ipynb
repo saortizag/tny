{
 "cells": [
  {
   "cell_type": "code",
   "execution_count": 1,
   "metadata": {},
   "outputs": [],
   "source": [
    "import numpy as np\n",
    "import pandas as pd\n",
    "from random import*\n",
    "import mdptoolbox\n",
    "import time\n",
    "import math\n",
    "import statistics"
   ]
  },
  {
   "cell_type": "code",
   "execution_count": 2,
   "metadata": {},
   "outputs": [],
   "source": [
    "from matplotlib import pyplot as plt\n",
    "%matplotlib inline"
   ]
  },
  {
   "cell_type": "code",
   "execution_count": 3,
   "metadata": {},
   "outputs": [],
   "source": [
    "#Transformation of data set into DataFrame, into np.matrix, without headers or other stuff.\n",
    "def Demand_Matrix(csv):\n",
    "    _ = pd.read_csv(csv, header=None)\n",
    "    _ = _.values\n",
    "    _ = np.delete(_,0,1)\n",
    "    _ = np.delete(_,0,0)\n",
    "    _ = _.astype(float)\n",
    "    _ = np.asmatrix(_)\n",
    "    return _"
   ]
  },
  {
   "cell_type": "code",
   "execution_count": 4,
   "metadata": {},
   "outputs": [],
   "source": [
    "#If you want to create one mean matrix using various preapared matrices.\n",
    "def Mean_Matrix(M1, M2, M3=None, M4=None, M5=None, n=2):\n",
    "    matrices = [M1, M2, M3, M4, M5]\n",
    "    return sum(matrices)/n"
   ]
  },
  {
   "cell_type": "code",
   "execution_count": 5,
   "metadata": {},
   "outputs": [],
   "source": [
    "#If you want to reduce the dimensions of the original matrix.\n",
    "def nxn(M, desired_n):\n",
    "    rows = np.shape(M)[0]\n",
    "    cols = np.shape(M)[1]\n",
    "    if (rows == cols) & rows%desired_n == 0:\n",
    "        _ = np.empty((desired_n,desired_n), dtype=int)\n",
    "        chunk = int(rows/desired_n)\n",
    "        for ii in range(int(desired_n)):\n",
    "            for jj in range(int(desired_n)):\n",
    "                _[ii,jj] = np.sum(M[ii*chunk:(ii+1)*chunk, jj*chunk:(jj+1)*chunk])\n",
    "    else:\n",
    "        print(\"Error: non-square matrix, or no exact division\")\n",
    "    return _, chunk"
   ]
  },
  {
   "cell_type": "code",
   "execution_count": 6,
   "metadata": {},
   "outputs": [],
   "source": [
    "#Creates a Markov matrix; a transition matrix.\n",
    "def Transition_Matrix(M):\n",
    "    n = np.shape(M)[0]\n",
    "    _ = np.empty((n,n), dtype=float)\n",
    "    for ii in range(n):\n",
    "        sf = np.sum(M[ii,:])\n",
    "        if sf != 0:\n",
    "            _[ii,:] = M[ii,:]/(np.sum(M[ii,:]))\n",
    "        else:\n",
    "            _[ii,:] = 1/n\n",
    "    return _"
   ]
  },
  {
   "cell_type": "code",
   "execution_count": 7,
   "metadata": {},
   "outputs": [],
   "source": [
    "#Creates a reward matrix.\n",
    "def Reward_Matrix(desired_n, mean_price, std_dev):\n",
    "    _ = np.zeros((desired_n, desired_n))\n",
    "    for ii in range(desired_n):\n",
    "        for jj in range(desired_n):\n",
    "            _[ii,jj] = normalvariate(mean_price, std_dev)\n",
    "    return _"
   ]
  },
  {
   "cell_type": "code",
   "execution_count": 8,
   "metadata": {},
   "outputs": [],
   "source": [
    "def select_interest_region(demand_matrix, chunk):\n",
    "    l = demand_matrix.shape[0]\n",
    "    matrix = demand_matrix[chunk*3:(l-(chunk*3)),(chunk*3):(l-(chunk*3))]\n",
    "    return matrix"
   ]
  },
  {
   "cell_type": "code",
   "execution_count": 4,
   "metadata": {},
   "outputs": [
    {
     "name": "stderr",
     "output_type": "stream",
     "text": [
      "/home/santiagortiz/anaconda3/lib/python3.7/site-packages/IPython/core/interactiveshell.py:2901: DtypeWarning: Columns (0) have mixed types. Specify dtype option on import or set low_memory=False.\n",
      "  if self.run_code(code, result):\n"
     ]
    }
   ],
   "source": [
    "complete_demand_matrix4 = Demand_Matrix(\"Demand_Jun_04_2011.csv\")\n",
    "complete_demand_matrix5 = Demand_Matrix(\"Demand_Jun_05_2011.csv\")\n",
    "complete_demand_matrix6 = Demand_Matrix(\"Demand_Jun_06_2011.csv\")\n",
    "complete_demand_matrix7 = Demand_Matrix(\"Demand_Jun_07_2011.csv\")\n",
    "complete_demand_matrix8 = Demand_Matrix(\"Demand_Jun_08_2011.csv\")"
   ]
  },
  {
   "cell_type": "code",
   "execution_count": 10,
   "metadata": {},
   "outputs": [],
   "source": [
    "desired_n = 10"
   ]
  },
  {
   "cell_type": "code",
   "execution_count": 11,
   "metadata": {},
   "outputs": [],
   "source": [
    "demand_matrix4, c4 = nxn(complete_demand_matrix4, desired_n)\n",
    "demand_matrix5, c5 = nxn(complete_demand_matrix5, desired_n)\n",
    "demand_matrix6, c6 = nxn(complete_demand_matrix6, desired_n)\n",
    "demand_matrix7, c7 = nxn(complete_demand_matrix7, desired_n)\n",
    "demand_matrix8, c8 = nxn(complete_demand_matrix8, desired_n)"
   ]
  },
  {
   "cell_type": "markdown",
   "metadata": {},
   "source": [
    "### 4"
   ]
  },
  {
   "cell_type": "code",
   "execution_count": 12,
   "metadata": {},
   "outputs": [
    {
     "data": {
      "text/plain": [
       "array([[   0,    0,    0,    0,    0,    0,    0,    0,    0,    0],\n",
       "       [   0,    0,    0,    0,    0,    0,    0,    0,    0,    0],\n",
       "       [   0,    0,    1,    1,    4,    1,    1,    0,    0,    0],\n",
       "       [   0,    1,    7,   17,   62,   75,    4,    1,    0,    0],\n",
       "       [   0,    0,    3,   21,  588,  966,    6,    2,    0,    0],\n",
       "       [   0,    0,    9,   33,  640, 2735,  128,    8,    0,    0],\n",
       "       [   0,    0,    2,    3,   12,  129,   48,    0,    0,    0],\n",
       "       [   0,    0,    0,    0,    0,    1,    0,    1,    0,    1],\n",
       "       [   0,    0,    0,    0,    0,    0,    0,    0,    0,    0],\n",
       "       [   0,    0,    0,    0,    0,    0,    0,    0,    0,    0]])"
      ]
     },
     "execution_count": 12,
     "metadata": {},
     "output_type": "execute_result"
    }
   ],
   "source": [
    "demand_matrix4"
   ]
  },
  {
   "cell_type": "code",
   "execution_count": 13,
   "metadata": {},
   "outputs": [
    {
     "data": {
      "text/plain": [
       "5511"
      ]
     },
     "execution_count": 13,
     "metadata": {},
     "output_type": "execute_result"
    }
   ],
   "source": [
    "np.sum(demand_matrix4)"
   ]
  },
  {
   "cell_type": "code",
   "execution_count": 14,
   "metadata": {},
   "outputs": [
    {
     "data": {
      "text/plain": [
       "array([[0.  , 0.  , 0.  , 0.  , 0.  , 0.  , 0.  , 0.  , 0.  , 0.  ],\n",
       "       [0.  , 0.  , 0.  , 0.  , 0.  , 0.  , 0.  , 0.  , 0.  , 0.  ],\n",
       "       [0.  , 0.  , 0.  , 0.  , 0.  , 0.  , 0.  , 0.  , 0.  , 0.  ],\n",
       "       [0.  , 0.  , 0.  , 0.  , 0.01, 0.01, 0.  , 0.  , 0.  , 0.  ],\n",
       "       [0.  , 0.  , 0.  , 0.  , 0.11, 0.18, 0.  , 0.  , 0.  , 0.  ],\n",
       "       [0.  , 0.  , 0.  , 0.01, 0.12, 0.5 , 0.02, 0.  , 0.  , 0.  ],\n",
       "       [0.  , 0.  , 0.  , 0.  , 0.  , 0.02, 0.01, 0.  , 0.  , 0.  ],\n",
       "       [0.  , 0.  , 0.  , 0.  , 0.  , 0.  , 0.  , 0.  , 0.  , 0.  ],\n",
       "       [0.  , 0.  , 0.  , 0.  , 0.  , 0.  , 0.  , 0.  , 0.  , 0.  ],\n",
       "       [0.  , 0.  , 0.  , 0.  , 0.  , 0.  , 0.  , 0.  , 0.  , 0.  ]])"
      ]
     },
     "execution_count": 14,
     "metadata": {},
     "output_type": "execute_result"
    }
   ],
   "source": [
    "n4 = np.around((demand_matrix4/np.sum(demand_matrix4)),2)\n",
    "n4"
   ]
  },
  {
   "cell_type": "markdown",
   "metadata": {},
   "source": [
    "### 5"
   ]
  },
  {
   "cell_type": "code",
   "execution_count": 15,
   "metadata": {},
   "outputs": [
    {
     "data": {
      "text/plain": [
       "array([[   0,    0,    0,    0,    0,    0,    0,    0,    0,    0],\n",
       "       [   0,    0,    0,    0,    0,    0,    0,    0,    0,    0],\n",
       "       [   0,    0,    1,    3,    3,    4,    0,    0,    0,    0],\n",
       "       [   0,    0,    4,   29,   65,   53,    1,    1,    0,    0],\n",
       "       [   0,    0,    9,   27,  569, 1056,   11,    0,    0,    0],\n",
       "       [   0,    0,    7,   28,  596, 2705,  130,   10,    0,    0],\n",
       "       [   0,    0,    1,    3,   14,  130,   51,    3,    0,    0],\n",
       "       [   0,    0,    0,    0,    0,    0,    0,    1,    0,    0],\n",
       "       [   0,    0,    0,    0,    0,    0,    0,    0,    0,    0],\n",
       "       [   0,    0,    0,    0,    0,    0,    0,    0,    0,    0]])"
      ]
     },
     "execution_count": 15,
     "metadata": {},
     "output_type": "execute_result"
    }
   ],
   "source": [
    "demand_matrix5"
   ]
  },
  {
   "cell_type": "code",
   "execution_count": 16,
   "metadata": {},
   "outputs": [
    {
     "data": {
      "text/plain": [
       "5515"
      ]
     },
     "execution_count": 16,
     "metadata": {},
     "output_type": "execute_result"
    }
   ],
   "source": [
    "np.sum(demand_matrix5)"
   ]
  },
  {
   "cell_type": "code",
   "execution_count": 17,
   "metadata": {},
   "outputs": [
    {
     "data": {
      "text/plain": [
       "array([[0.  , 0.  , 0.  , 0.  , 0.  , 0.  , 0.  , 0.  , 0.  , 0.  ],\n",
       "       [0.  , 0.  , 0.  , 0.  , 0.  , 0.  , 0.  , 0.  , 0.  , 0.  ],\n",
       "       [0.  , 0.  , 0.  , 0.  , 0.  , 0.  , 0.  , 0.  , 0.  , 0.  ],\n",
       "       [0.  , 0.  , 0.  , 0.01, 0.01, 0.01, 0.  , 0.  , 0.  , 0.  ],\n",
       "       [0.  , 0.  , 0.  , 0.  , 0.1 , 0.19, 0.  , 0.  , 0.  , 0.  ],\n",
       "       [0.  , 0.  , 0.  , 0.01, 0.11, 0.49, 0.02, 0.  , 0.  , 0.  ],\n",
       "       [0.  , 0.  , 0.  , 0.  , 0.  , 0.02, 0.01, 0.  , 0.  , 0.  ],\n",
       "       [0.  , 0.  , 0.  , 0.  , 0.  , 0.  , 0.  , 0.  , 0.  , 0.  ],\n",
       "       [0.  , 0.  , 0.  , 0.  , 0.  , 0.  , 0.  , 0.  , 0.  , 0.  ],\n",
       "       [0.  , 0.  , 0.  , 0.  , 0.  , 0.  , 0.  , 0.  , 0.  , 0.  ]])"
      ]
     },
     "execution_count": 17,
     "metadata": {},
     "output_type": "execute_result"
    }
   ],
   "source": [
    "n5 = np.around((demand_matrix5/np.sum(demand_matrix5)),2)\n",
    "n5"
   ]
  },
  {
   "cell_type": "markdown",
   "metadata": {},
   "source": [
    "### 6"
   ]
  },
  {
   "cell_type": "code",
   "execution_count": 18,
   "metadata": {},
   "outputs": [
    {
     "data": {
      "text/plain": [
       "array([[   0,    0,    0,    0,    0,    0,    0,    0,    0,    0],\n",
       "       [   0,    0,    0,    0,    0,    0,    0,    0,    0,    0],\n",
       "       [   0,    0,    4,    2,    4,    3,    0,    0,    0,    0],\n",
       "       [   0,    1,    4,   15,   55,   65,    4,    0,    0,    0],\n",
       "       [   0,    0,   10,   31,  567, 1037,   14,    2,    0,    0],\n",
       "       [   0,    0,    4,   26,  628, 2811,  110,    7,    0,    0],\n",
       "       [   0,    0,    1,    1,   23,  121,   50,    2,    0,    0],\n",
       "       [   0,    0,    0,    0,    0,    1,    1,    1,    0,    0],\n",
       "       [   0,    0,    0,    0,    0,    0,    0,    0,    0,    0],\n",
       "       [   0,    0,    0,    0,    0,    0,    0,    0,    0,    0]])"
      ]
     },
     "execution_count": 18,
     "metadata": {},
     "output_type": "execute_result"
    }
   ],
   "source": [
    "demand_matrix6"
   ]
  },
  {
   "cell_type": "code",
   "execution_count": 19,
   "metadata": {},
   "outputs": [
    {
     "data": {
      "text/plain": [
       "5605"
      ]
     },
     "execution_count": 19,
     "metadata": {},
     "output_type": "execute_result"
    }
   ],
   "source": [
    "np.sum(demand_matrix6)"
   ]
  },
  {
   "cell_type": "code",
   "execution_count": 20,
   "metadata": {},
   "outputs": [
    {
     "data": {
      "text/plain": [
       "array([[0.  , 0.  , 0.  , 0.  , 0.  , 0.  , 0.  , 0.  , 0.  , 0.  ],\n",
       "       [0.  , 0.  , 0.  , 0.  , 0.  , 0.  , 0.  , 0.  , 0.  , 0.  ],\n",
       "       [0.  , 0.  , 0.  , 0.  , 0.  , 0.  , 0.  , 0.  , 0.  , 0.  ],\n",
       "       [0.  , 0.  , 0.  , 0.  , 0.01, 0.01, 0.  , 0.  , 0.  , 0.  ],\n",
       "       [0.  , 0.  , 0.  , 0.01, 0.1 , 0.19, 0.  , 0.  , 0.  , 0.  ],\n",
       "       [0.  , 0.  , 0.  , 0.  , 0.11, 0.5 , 0.02, 0.  , 0.  , 0.  ],\n",
       "       [0.  , 0.  , 0.  , 0.  , 0.  , 0.02, 0.01, 0.  , 0.  , 0.  ],\n",
       "       [0.  , 0.  , 0.  , 0.  , 0.  , 0.  , 0.  , 0.  , 0.  , 0.  ],\n",
       "       [0.  , 0.  , 0.  , 0.  , 0.  , 0.  , 0.  , 0.  , 0.  , 0.  ],\n",
       "       [0.  , 0.  , 0.  , 0.  , 0.  , 0.  , 0.  , 0.  , 0.  , 0.  ]])"
      ]
     },
     "execution_count": 20,
     "metadata": {},
     "output_type": "execute_result"
    }
   ],
   "source": [
    "n6 = np.around((demand_matrix6/np.sum(demand_matrix6)),2)\n",
    "n6"
   ]
  },
  {
   "cell_type": "markdown",
   "metadata": {},
   "source": [
    "### 7"
   ]
  },
  {
   "cell_type": "code",
   "execution_count": 21,
   "metadata": {},
   "outputs": [
    {
     "data": {
      "text/plain": [
       "array([[   0,    0,    0,    0,    0,    0,    0,    0,    0,    0],\n",
       "       [   0,    0,    0,    0,    0,    0,    0,    0,    0,    0],\n",
       "       [   0,    0,    3,    2,    5,    8,    0,    0,    0,    0],\n",
       "       [   0,    1,    5,   29,   59,   68,    3,    3,    0,    0],\n",
       "       [   0,    0,    3,   35,  658,  977,   14,    3,    0,    0],\n",
       "       [   0,    1,   12,   42,  654, 2944,   88,    9,    2,    0],\n",
       "       [   0,    0,    1,    2,   20,  139,   70,    2,    0,    0],\n",
       "       [   0,    0,    0,    0,    1,    1,    1,    2,    0,    0],\n",
       "       [   0,    0,    0,    0,    0,    0,    1,    0,    0,    0],\n",
       "       [   0,    0,    0,    0,    0,    0,    0,    0,    0,    0]])"
      ]
     },
     "execution_count": 21,
     "metadata": {},
     "output_type": "execute_result"
    }
   ],
   "source": [
    "demand_matrix7"
   ]
  },
  {
   "cell_type": "code",
   "execution_count": 22,
   "metadata": {},
   "outputs": [
    {
     "data": {
      "text/plain": [
       "5868"
      ]
     },
     "execution_count": 22,
     "metadata": {},
     "output_type": "execute_result"
    }
   ],
   "source": [
    "np.sum(demand_matrix7)"
   ]
  },
  {
   "cell_type": "code",
   "execution_count": 23,
   "metadata": {},
   "outputs": [
    {
     "data": {
      "text/plain": [
       "array([[0.  , 0.  , 0.  , 0.  , 0.  , 0.  , 0.  , 0.  , 0.  , 0.  ],\n",
       "       [0.  , 0.  , 0.  , 0.  , 0.  , 0.  , 0.  , 0.  , 0.  , 0.  ],\n",
       "       [0.  , 0.  , 0.  , 0.  , 0.  , 0.  , 0.  , 0.  , 0.  , 0.  ],\n",
       "       [0.  , 0.  , 0.  , 0.  , 0.01, 0.01, 0.  , 0.  , 0.  , 0.  ],\n",
       "       [0.  , 0.  , 0.  , 0.01, 0.11, 0.17, 0.  , 0.  , 0.  , 0.  ],\n",
       "       [0.  , 0.  , 0.  , 0.01, 0.11, 0.5 , 0.01, 0.  , 0.  , 0.  ],\n",
       "       [0.  , 0.  , 0.  , 0.  , 0.  , 0.02, 0.01, 0.  , 0.  , 0.  ],\n",
       "       [0.  , 0.  , 0.  , 0.  , 0.  , 0.  , 0.  , 0.  , 0.  , 0.  ],\n",
       "       [0.  , 0.  , 0.  , 0.  , 0.  , 0.  , 0.  , 0.  , 0.  , 0.  ],\n",
       "       [0.  , 0.  , 0.  , 0.  , 0.  , 0.  , 0.  , 0.  , 0.  , 0.  ]])"
      ]
     },
     "execution_count": 23,
     "metadata": {},
     "output_type": "execute_result"
    }
   ],
   "source": [
    "n7 = np.around((demand_matrix7/np.sum(demand_matrix7)),2)\n",
    "n7"
   ]
  },
  {
   "cell_type": "markdown",
   "metadata": {},
   "source": [
    "### 8"
   ]
  },
  {
   "cell_type": "code",
   "execution_count": 24,
   "metadata": {},
   "outputs": [
    {
     "data": {
      "text/plain": [
       "array([[  0,   0,   0,   0,   0,   0,   0,   0,   0,   0],\n",
       "       [  0,   1,   0,   0,   0,   0,   0,   0,   0,   0],\n",
       "       [  0,   0,   2,   1,   0,   0,   0,   0,   0,   0],\n",
       "       [  0,   0,   2,  24,  26,  43,   1,   0,   0,   0],\n",
       "       [  0,   0,   4,  21, 223, 342,   6,   2,   0,   0],\n",
       "       [  0,   0,   6,  30, 154, 740,  56,   7,   3,   0],\n",
       "       [  0,   0,   0,   3,  13,  64,  17,   1,   1,   0],\n",
       "       [  0,   0,   0,   0,   0,   1,   0,   1,   0,   0],\n",
       "       [  0,   0,   0,   0,   0,   0,   0,   0,   0,   0],\n",
       "       [  0,   0,   0,   0,   0,   0,   0,   0,   0,   0]])"
      ]
     },
     "execution_count": 24,
     "metadata": {},
     "output_type": "execute_result"
    }
   ],
   "source": [
    "demand_matrix8"
   ]
  },
  {
   "cell_type": "code",
   "execution_count": 25,
   "metadata": {},
   "outputs": [
    {
     "data": {
      "text/plain": [
       "1795"
      ]
     },
     "execution_count": 25,
     "metadata": {},
     "output_type": "execute_result"
    }
   ],
   "source": [
    "np.sum(demand_matrix8)"
   ]
  },
  {
   "cell_type": "code",
   "execution_count": 26,
   "metadata": {},
   "outputs": [
    {
     "data": {
      "text/plain": [
       "array([[0.  , 0.  , 0.  , 0.  , 0.  , 0.  , 0.  , 0.  , 0.  , 0.  ],\n",
       "       [0.  , 0.  , 0.  , 0.  , 0.  , 0.  , 0.  , 0.  , 0.  , 0.  ],\n",
       "       [0.  , 0.  , 0.  , 0.  , 0.  , 0.  , 0.  , 0.  , 0.  , 0.  ],\n",
       "       [0.  , 0.  , 0.  , 0.01, 0.01, 0.02, 0.  , 0.  , 0.  , 0.  ],\n",
       "       [0.  , 0.  , 0.  , 0.01, 0.12, 0.19, 0.  , 0.  , 0.  , 0.  ],\n",
       "       [0.  , 0.  , 0.  , 0.02, 0.09, 0.41, 0.03, 0.  , 0.  , 0.  ],\n",
       "       [0.  , 0.  , 0.  , 0.  , 0.01, 0.04, 0.01, 0.  , 0.  , 0.  ],\n",
       "       [0.  , 0.  , 0.  , 0.  , 0.  , 0.  , 0.  , 0.  , 0.  , 0.  ],\n",
       "       [0.  , 0.  , 0.  , 0.  , 0.  , 0.  , 0.  , 0.  , 0.  , 0.  ],\n",
       "       [0.  , 0.  , 0.  , 0.  , 0.  , 0.  , 0.  , 0.  , 0.  , 0.  ]])"
      ]
     },
     "execution_count": 26,
     "metadata": {},
     "output_type": "execute_result"
    }
   ],
   "source": [
    "n8 = np.around((demand_matrix8/np.sum(demand_matrix8)),2)\n",
    "n8"
   ]
  },
  {
   "cell_type": "markdown",
   "metadata": {},
   "source": [
    "### Distancias"
   ]
  },
  {
   "cell_type": "code",
   "execution_count": 27,
   "metadata": {},
   "outputs": [],
   "source": [
    "complete_demand_matrix_selected_4 = select_interest_region(complete_demand_matrix4, c4)\n",
    "demand_matrix_selected_4, _ = nxn(complete_demand_matrix_selected_4, 10)\n",
    "\n",
    "complete_demand_matrix_selected_5 = select_interest_region(complete_demand_matrix5, c5)\n",
    "demand_matrix_selected_5, _ = nxn(complete_demand_matrix_selected_5, 10)\n",
    "\n",
    "complete_demand_matrix_selected_6 = select_interest_region(complete_demand_matrix5, c6)\n",
    "demand_matrix_selected_6, _ = nxn(complete_demand_matrix_selected_6, 10)\n",
    "\n",
    "complete_demand_matrix_selected_7 = select_interest_region(complete_demand_matrix7, c7)\n",
    "demand_matrix_selected_7, _ = nxn(complete_demand_matrix_selected_7, 10)\n",
    "\n",
    "complete_demand_matrix_selected_8 = select_interest_region(complete_demand_matrix8, c8)\n",
    "demand_matrix_selected_8, _ = nxn(complete_demand_matrix_selected_8, 10)\n"
   ]
  },
  {
   "cell_type": "code",
   "execution_count": 30,
   "metadata": {},
   "outputs": [
    {
     "name": "stdout",
     "output_type": "stream",
     "text": [
      "5467\n",
      "5468\n",
      "5468\n",
      "5802\n",
      "1763\n"
     ]
    }
   ],
   "source": [
    "print(np.sum(demand_matrix_selected_4))\n",
    "print(np.sum(demand_matrix_selected_5))\n",
    "print(np.sum(demand_matrix_selected_6))\n",
    "print(np.sum(demand_matrix_selected_7))\n",
    "print(np.sum(demand_matrix_selected_8))"
   ]
  },
  {
   "cell_type": "code",
   "execution_count": 34,
   "metadata": {},
   "outputs": [],
   "source": [
    "ff4 = np.around((demand_matrix_selected_4/np.sum(demand_matrix_selected_4)),2)\n",
    "ff5 = np.around((demand_matrix_selected_5/np.sum(demand_matrix_selected_5)),2)\n",
    "ff6 = np.around((demand_matrix_selected_6/np.sum(demand_matrix_selected_6)),2)\n",
    "ff7 = np.around((demand_matrix_selected_7/np.sum(demand_matrix_selected_7)),2)\n",
    "ff8 = np.around((demand_matrix_selected_8/np.sum(demand_matrix_selected_8)),2)"
   ]
  },
  {
   "cell_type": "code",
   "execution_count": 35,
   "metadata": {},
   "outputs": [
    {
     "name": "stdout",
     "output_type": "stream",
     "text": [
      "[[0.   0.   0.   0.   0.   0.01 0.   0.   0.   0.  ]\n",
      " [0.   0.   0.   0.   0.   0.   0.   0.   0.   0.  ]\n",
      " [0.   0.   0.   0.   0.   0.01 0.   0.   0.   0.  ]\n",
      " [0.   0.   0.   0.02 0.01 0.03 0.   0.   0.   0.  ]\n",
      " [0.   0.   0.   0.03 0.05 0.12 0.02 0.   0.   0.  ]\n",
      " [0.   0.   0.   0.02 0.04 0.17 0.04 0.01 0.   0.  ]\n",
      " [0.   0.   0.   0.02 0.02 0.14 0.06 0.02 0.01 0.  ]\n",
      " [0.   0.   0.   0.   0.   0.03 0.02 0.02 0.01 0.  ]\n",
      " [0.   0.   0.   0.   0.   0.   0.   0.   0.   0.  ]\n",
      " [0.   0.   0.   0.   0.   0.   0.   0.   0.   0.  ]]\n",
      "[[0.   0.   0.   0.   0.   0.   0.   0.   0.   0.  ]\n",
      " [0.   0.   0.   0.   0.   0.   0.   0.   0.   0.  ]\n",
      " [0.   0.   0.   0.   0.   0.01 0.   0.   0.   0.  ]\n",
      " [0.   0.   0.   0.01 0.01 0.03 0.01 0.   0.   0.  ]\n",
      " [0.   0.   0.   0.03 0.05 0.13 0.02 0.   0.   0.  ]\n",
      " [0.   0.   0.   0.02 0.04 0.17 0.04 0.01 0.   0.  ]\n",
      " [0.   0.   0.   0.01 0.02 0.14 0.06 0.02 0.01 0.  ]\n",
      " [0.   0.   0.   0.   0.   0.03 0.02 0.01 0.01 0.  ]\n",
      " [0.   0.   0.   0.   0.   0.   0.01 0.   0.   0.  ]\n",
      " [0.   0.   0.   0.   0.   0.   0.   0.   0.   0.  ]]\n",
      "[[0.   0.   0.   0.   0.   0.   0.   0.   0.   0.  ]\n",
      " [0.   0.   0.   0.   0.   0.   0.   0.   0.   0.  ]\n",
      " [0.   0.   0.   0.   0.   0.01 0.   0.   0.   0.  ]\n",
      " [0.   0.   0.   0.01 0.01 0.03 0.01 0.   0.   0.  ]\n",
      " [0.   0.   0.   0.03 0.05 0.13 0.02 0.   0.   0.  ]\n",
      " [0.   0.   0.   0.02 0.04 0.17 0.04 0.01 0.   0.  ]\n",
      " [0.   0.   0.   0.01 0.02 0.14 0.06 0.02 0.01 0.  ]\n",
      " [0.   0.   0.   0.   0.   0.03 0.02 0.01 0.01 0.  ]\n",
      " [0.   0.   0.   0.   0.   0.   0.01 0.   0.   0.  ]\n",
      " [0.   0.   0.   0.   0.   0.   0.   0.   0.   0.  ]]\n",
      "[[0.   0.   0.   0.   0.   0.01 0.   0.   0.   0.  ]\n",
      " [0.   0.   0.   0.   0.   0.   0.   0.   0.   0.  ]\n",
      " [0.   0.   0.   0.   0.   0.   0.   0.   0.   0.  ]\n",
      " [0.   0.   0.   0.02 0.01 0.03 0.01 0.   0.   0.  ]\n",
      " [0.   0.   0.   0.03 0.05 0.11 0.02 0.   0.   0.  ]\n",
      " [0.   0.   0.   0.02 0.05 0.21 0.05 0.01 0.   0.  ]\n",
      " [0.   0.   0.   0.01 0.02 0.12 0.06 0.02 0.   0.  ]\n",
      " [0.   0.   0.   0.   0.   0.02 0.02 0.01 0.01 0.  ]\n",
      " [0.   0.   0.   0.   0.   0.   0.   0.   0.01 0.  ]\n",
      " [0.   0.   0.   0.   0.   0.   0.   0.   0.   0.  ]]\n",
      "[[0.01 0.   0.   0.   0.01 0.01 0.01 0.   0.   0.  ]\n",
      " [0.   0.   0.   0.   0.   0.   0.   0.   0.   0.  ]\n",
      " [0.   0.   0.   0.   0.   0.   0.   0.   0.   0.  ]\n",
      " [0.   0.   0.   0.02 0.02 0.02 0.02 0.   0.   0.  ]\n",
      " [0.01 0.   0.   0.01 0.07 0.1  0.04 0.   0.   0.  ]\n",
      " [0.01 0.   0.   0.01 0.03 0.11 0.07 0.01 0.   0.  ]\n",
      " [0.   0.   0.   0.01 0.02 0.07 0.09 0.01 0.01 0.  ]\n",
      " [0.   0.   0.   0.   0.01 0.02 0.04 0.02 0.01 0.  ]\n",
      " [0.   0.   0.   0.   0.   0.   0.01 0.   0.   0.  ]\n",
      " [0.   0.   0.   0.   0.   0.   0.   0.   0.   0.  ]]\n"
     ]
    }
   ],
   "source": [
    "print(ff4)\n",
    "print(ff5)\n",
    "print(ff6)\n",
    "print(ff7)\n",
    "print(ff8)"
   ]
  },
  {
   "cell_type": "code",
   "execution_count": 30,
   "metadata": {},
   "outputs": [
    {
     "data": {
      "image/png": "[encoded data removed]",
      "text/plain": [
       "<Figure size 432x288 with 1 Axes>"
      ]
     },
     "metadata": {
      "needs_background": "light"
     },
     "output_type": "display_data"
    },
    {
     "data": {
      "image/png": "[encoded data removed]",
      "text/plain": [
       "<Figure size 432x288 with 1 Axes>"
      ]
     },
     "metadata": {
      "needs_background": "light"
     },
     "output_type": "display_data"
    },
    {
     "data": {
      "image/png": "[encoded data removed]",
      "text/plain": [
       "<Figure size 432x288 with 1 Axes>"
      ]
     },
     "metadata": {
      "needs_background": "light"
     },
     "output_type": "display_data"
    },
    {
     "data": {
      "image/png": "[encoded data removed]",
      "text/plain": [
       "<Figure size 432x288 with 1 Axes>"
      ]
     },
     "metadata": {
      "needs_background": "light"
     },
     "output_type": "display_data"
    },
    {
     "data": {
      "image/png": "[encoded data removed]",
      "text/plain": [
       "<Figure size 432x288 with 1 Axes>"
      ]
     },
     "metadata": {
      "needs_background": "light"
     },
     "output_type": "display_data"
    },
    {
     "data": {
      "image/png": "[encoded data removed]",
      "text/plain": [
       "<Figure size 432x288 with 1 Axes>"
      ]
     },
     "metadata": {
      "needs_background": "light"
     },
     "output_type": "display_data"
    },
    {
     "data": {
      "image/png": "[encoded data removed]",
      "text/plain": [
       "<Figure size 432x288 with 1 Axes>"
      ]
     },
     "metadata": {
      "needs_background": "light"
     },
     "output_type": "display_data"
    },
    {
     "data": {
      "image/png": "[encoded data removed]",
      "text/plain": [
       "<Figure size 432x288 with 1 Axes>"
      ]
     },
     "metadata": {
      "needs_background": "light"
     },
     "output_type": "display_data"
    },
    {
     "data": {
      "image/png": "[encoded data removed]",
      "text/plain": [
       "<Figure size 432x288 with 1 Axes>"
      ]
     },
     "metadata": {
      "needs_background": "light"
     },
     "output_type": "display_data"
    },
    {
     "data": {
      "image/png": "[encoded data removed]",
      "text/plain": [
       "<Figure size 432x288 with 1 Axes>"
      ]
     },
     "metadata": {
      "needs_background": "light"
     },
     "output_type": "display_data"
    },
    {
     "data": {
      "image/png": "[encoded data removed]",
      "text/plain": [
       "<Figure size 432x288 with 1 Axes>"
      ]
     },
     "metadata": {
      "needs_background": "light"
     },
     "output_type": "display_data"
    },
    {
     "data": {
      "image/png": "[encoded data removed]",
      "text/plain": [
       "<Figure size 432x288 with 1 Axes>"
      ]
     },
     "metadata": {
      "needs_background": "light"
     },
     "output_type": "display_data"
    },
    {
     "data": {
      "image/png": "[encoded data removed]",
      "text/plain": [
       "<Figure size 432x288 with 1 Axes>"
      ]
     },
     "metadata": {
      "needs_background": "light"
     },
     "output_type": "display_data"
    },
    {
     "data": {
      "image/png": "[encoded data removed]",
      "text/plain": [
       "<Figure size 432x288 with 1 Axes>"
      ]
     },
     "metadata": {
      "needs_background": "light"
     },
     "output_type": "display_data"
    },
    {
     "data": {
      "image/png": "[encoded data removed]",
      "text/plain": [
       "<Figure size 432x288 with 1 Axes>"
      ]
     },
     "metadata": {
      "needs_background": "light"
     },
     "output_type": "display_data"
    },
    {
     "data": {
      "image/png": "[encoded data removed]",
      "text/plain": [
       "<Figure size 432x288 with 1 Axes>"
      ]
     },
     "metadata": {
      "needs_background": "light"
     },
     "output_type": "display_data"
    },
    {
     "data": {
      "image/png": "[encoded data removed]",
      "text/plain": [
       "<Figure size 432x288 with 1 Axes>"
      ]
     },
     "metadata": {
      "needs_background": "light"
     },
     "output_type": "display_data"
    },
    {
     "data": {
      "image/png": "[encoded data removed]",
      "text/plain": [
       "<Figure size 432x288 with 1 Axes>"
      ]
     },
     "metadata": {
      "needs_background": "light"
     },
     "output_type": "display_data"
    },
    {
     "data": {
      "image/png": "[encoded data removed]",
      "text/plain": [
       "<Figure size 432x288 with 1 Axes>"
      ]
     },
     "metadata": {
      "needs_background": "light"
     },
     "output_type": "display_data"
    },
    {
     "data": {
      "image/png": "[encoded data removed]",
      "text/plain": [
       "<Figure size 432x288 with 1 Axes>"
      ]
     },
     "metadata": {
      "needs_background": "light"
     },
     "output_type": "display_data"
    },
    {
     "data": {
      "image/png": "[encoded data removed]",
      "text/plain": [
       "<Figure size 432x288 with 1 Axes>"
      ]
     },
     "metadata": {
      "needs_background": "light"
     },
     "output_type": "display_data"
    },
    {
     "data": {
      "image/png": "[encoded data removed]",
      "text/plain": [
       "<Figure size 432x288 with 1 Axes>"
      ]
     },
     "metadata": {
      "needs_background": "light"
     },
     "output_type": "display_data"
    },
    {
     "data": {
      "image/png": "[encoded data removed]",
      "text/plain": [
       "<Figure size 432x288 with 1 Axes>"
      ]
     },
     "metadata": {
      "needs_background": "light"
     },
     "output_type": "display_data"
    },
    {
     "data": {
      "image/png": "[encoded data removed]",
      "text/plain": [
       "<Figure size 432x288 with 1 Axes>"
      ]
     },
     "metadata": {
      "needs_background": "light"
     },
     "output_type": "display_data"
    },
    {
     "data": {
      "image/png": "[encoded data removed]",
      "text/plain": [
       "<Figure size 432x288 with 1 Axes>"
      ]
     },
     "metadata": {
      "needs_background": "light"
     },
     "output_type": "display_data"
    },
    {
     "data": {
      "image/png": "[encoded data removed]",
      "text/plain": [
       "<Figure size 432x288 with 1 Axes>"
      ]
     },
     "metadata": {
      "needs_background": "light"
     },
     "output_type": "display_data"
    },
    {
     "data": {
      "image/png": "[encoded data removed]",
      "text/plain": [
       "<Figure size 432x288 with 1 Axes>"
      ]
     },
     "metadata": {
      "needs_background": "light"
     },
     "output_type": "display_data"
    },
    {
     "data": {
      "image/png": "[encoded data removed]",
      "text/plain": [
       "<Figure size 432x288 with 1 Axes>"
      ]
     },
     "metadata": {
      "needs_background": "light"
     },
     "output_type": "display_data"
    },
    {
     "data": {
      "image/png": "[encoded data removed]",
      "text/plain": [
       "<Figure size 432x288 with 1 Axes>"
      ]
     },
     "metadata": {
      "needs_background": "light"
     },
     "output_type": "display_data"
    },
    {
     "data": {
      "image/png": "[encoded data removed]",
      "text/plain": [
       "<Figure size 432x288 with 1 Axes>"
      ]
     },
     "metadata": {
      "needs_background": "light"
     },
     "output_type": "display_data"
    },
    {
     "data": {
      "image/png": "[encoded data removed]",
      "text/plain": [
       "<Figure size 432x288 with 1 Axes>"
      ]
     },
     "metadata": {
      "needs_background": "light"
     },
     "output_type": "display_data"
    },
    {
     "data": {
      "image/png": "[encoded data removed]",
      "text/plain": [
       "<Figure size 432x288 with 1 Axes>"
      ]
     },
     "metadata": {
      "needs_background": "light"
     },
     "output_type": "display_data"
    },
    {
     "data": {
      "image/png": "[encoded data removed]",
      "text/plain": [
       "<Figure size 432x288 with 1 Axes>"
      ]
     },
     "metadata": {
      "needs_background": "light"
     },
     "output_type": "display_data"
    },
    {
     "data": {
      "image/png": "[encoded data removed]",
      "text/plain": [
       "<Figure size 432x288 with 1 Axes>"
      ]
     },
     "metadata": {
      "needs_background": "light"
     },
     "output_type": "display_data"
    },
    {
     "data": {
      "image/png": "[encoded data removed]",
      "text/plain": [
       "<Figure size 432x288 with 1 Axes>"
      ]
     },
     "metadata": {
      "needs_background": "light"
     },
     "output_type": "display_data"
    },
    {
     "data": {
      "image/png": "[encoded data removed]",
      "text/plain": [
       "<Figure size 432x288 with 1 Axes>"
      ]
     },
     "metadata": {
      "needs_background": "light"
     },
     "output_type": "display_data"
    },
    {
     "data": {
      "image/png": "[encoded data removed]",
      "text/plain": [
       "<Figure size 432x288 with 1 Axes>"
      ]
     },
     "metadata": {
      "needs_background": "light"
     },
     "output_type": "display_data"
    },
    {
     "data": {
      "image/png": "[encoded data removed]",
      "text/plain": [
       "<Figure size 432x288 with 1 Axes>"
      ]
     },
     "metadata": {
      "needs_background": "light"
     },
     "output_type": "display_data"
    },
    {
     "data": {
      "image/png": "[encoded data removed]",
      "text/plain": [
       "<Figure size 432x288 with 1 Axes>"
      ]
     },
     "metadata": {
      "needs_background": "light"
     },
     "output_type": "display_data"
    }
   ],
   "source": [
    "#matrices = [demand_matrix4, demand_matrix5, demand_matrix6, demand_matrix7, demand_matrix8]\n",
    "#matrices = [n4, n5, n6, n7, n8]\n",
    "matrices = [demand_matrix_selected_4]\n",
    "for matrix in matrices:\n",
    "    for ii in range(matrix.shape[0]):\n",
    "        if np.sum(matrix[ii]) != 0:\n",
    "            #plt.hist(matrix[ii], bins=50)\n",
    "            plt.hist(matrix[ii][matrix[ii]!=0],bins=)\n",
    "            plt.title(\"histogram \" + str(ii)) \n",
    "            plt.show()"
   ]
  },
  {
   "cell_type": "code",
   "execution_count": null,
   "metadata": {},
   "outputs": [],
   "source": [
    "transition_matrix4 = Transition_Matrix(demand_matrix4)\n",
    "transition_matrix5 = Transition_Matrix(demand_matrix5)\n",
    "transition_matrix6 = Transition_Matrix(demand_matrix6)\n",
    "transition_matrix7 = Transition_Matrix(demand_matrix7)\n",
    "transition_matrix8 = Transition_Matrix(demand_matrix8)"
   ]
  },
  {
   "cell_type": "markdown",
   "metadata": {},
   "source": [
    "# if you are in neighborhood 1, you can go to 0 or 2.\n",
    "# depending on what? wherever there is a better chance to catch a new ride.\n",
    "def Initial_State_Vector(initial_neighborhood, desired_n = desired_n):\n",
    "    _ = np.zeros(desired_n)\n",
    "    _[initial_neighborhood] = 1\n",
    "    return _"
   ]
  },
  {
   "cell_type": "markdown",
   "metadata": {},
   "source": [
    "def Number_Of_Rides_Vector(demand_mtx):\n",
    "    n_rows = len(demand_mtx[:,0])\n",
    "    row_sums = np.zeros(n_rows)\n",
    "    for row in range(n_rows):\n",
    "        row_sums[row] = np.sum(demand_mtx[row,:])\n",
    "    return row_sums"
   ]
  },
  {
   "cell_type": "markdown",
   "metadata": {},
   "source": [
    "def After_Ride_State_Vector(initial_state, number_of_rides_vector):\n",
    "    n = len(initial_state)\n",
    "    neighborhood = np.argmax(initial_state)\n",
    "    next_state = np.zeros(n)\n",
    "    \n",
    "    if neighborhood == 0:\n",
    "        if number_of_rides_vector[0]>number_of_rides_vector[1]:\n",
    "            next_state[0] = 1\n",
    "        else:\n",
    "            next_state[1] = 1         \n",
    "    elif neighborhood == n-1:\n",
    "        if number_of_rides_vector[-1]>number_of_rides_vector[-2]:\n",
    "            next_state[-1] = 1\n",
    "        else:\n",
    "            next_state[-2] = 1\n",
    "    else:        \n",
    "        _ = np.array(number_of_rides_vector[neighborhood-1], [number_of_rides_vector[neighborhood], number_of_rides_vector[neighborhood+1]])\n",
    "        max_index = np.random.choice(np.where(_ == np.max(_))[0])\n",
    "        next_state[neighborhood + max_index - 1] = 1\n",
    "        \n",
    "    return next_state"
   ]
  },
  {
   "cell_type": "markdown",
   "metadata": {},
   "source": [
    "def Probability_State_Vector(transition_matrix, initial_state_vector):\n",
    "    return transition_matrix.dot(initial_state_vector)"
   ]
  },
  {
   "cell_type": "markdown",
   "metadata": {},
   "source": [
    "def Passenger_State_Vector(probability_state_vector):\n",
    "    n = len(probability_state_vector)\n",
    "    next_state = np.zeros(n)\n",
    "    probabilities = probability_state_vector\n",
    "    index = np.random.choice(n, 1, p=probabilities)\n",
    "    next_state[index] = 1\n",
    "    return next_state"
   ]
  },
  {
   "cell_type": "markdown",
   "metadata": {},
   "source": []
  },
  {
   "cell_type": "markdown",
   "metadata": {},
   "source": [
    "pd.set_option(\"display.max_rows\", 8300, \"display.max_columns\", 8300)\n",
    "df = pd.read_csv(\"Demand_Jun_05_2011.csv\")"
   ]
  },
  {
   "cell_type": "markdown",
   "metadata": {},
   "source": [
    "df"
   ]
  },
  {
   "cell_type": "markdown",
   "metadata": {},
   "source": [
    "example = np.array([1,2,0,3,0,1])"
   ]
  },
  {
   "cell_type": "markdown",
   "metadata": {},
   "source": [
    "example[2]"
   ]
  },
  {
   "cell_type": "markdown",
   "metadata": {},
   "source": [
    "x = np.empty(len(example))"
   ]
  },
  {
   "cell_type": "markdown",
   "metadata": {},
   "source": [
    "x"
   ]
  },
  {
   "cell_type": "markdown",
   "metadata": {},
   "source": [
    "example2 = np.array([[0,0,1,0,0,0],[1,1,1,0,0,0]])"
   ]
  },
  {
   "cell_type": "markdown",
   "metadata": {},
   "source": [
    "example2"
   ]
  },
  {
   "cell_type": "markdown",
   "metadata": {},
   "source": [
    "np.sum(example2[0,:])"
   ]
  },
  {
   "cell_type": "markdown",
   "metadata": {},
   "source": [
    "len(example2[0,:])"
   ]
  },
  {
   "cell_type": "markdown",
   "metadata": {},
   "source": [
    "n = len(example2[:,0])\n",
    "print(n)\n",
    "for row in range(n):\n",
    "    suma = np.sum(example2[row,:])\n",
    "    print(suma)"
   ]
  },
  {
   "cell_type": "markdown",
   "metadata": {},
   "source": [
    "max(example[5],example[4])"
   ]
  },
  {
   "cell_type": "markdown",
   "metadata": {},
   "source": [
    "np.random.choice(np.where(example == max(example[5],example[4]))[0])"
   ]
  },
  {
   "cell_type": "markdown",
   "metadata": {},
   "source": [
    "next_state[np.where(number_of_rides_vector == max(number_of_rides_vector[0], number_of_rides_vector[1]))[0][0]]"
   ]
  },
  {
   "cell_type": "markdown",
   "metadata": {},
   "source": [
    "example[example==np.max(example)]"
   ]
  },
  {
   "cell_type": "markdown",
   "metadata": {},
   "source": [
    "np.random.choice(example==np.max(example))"
   ]
  },
  {
   "cell_type": "markdown",
   "metadata": {},
   "source": [
    "np.where(example == 1)[0]"
   ]
  },
  {
   "cell_type": "markdown",
   "metadata": {},
   "source": [
    "example3 = np.array([0,1])\n",
    "p_array = np.array([])"
   ]
  },
  {
   "cell_type": "markdown",
   "metadata": {},
   "source": [
    "for ii in range(10):\n",
    "    print(np.random.choice(example3, 1, p=np.array([0.8, 0.2])))"
   ]
  },
  {
   "cell_type": "markdown",
   "metadata": {},
   "source": [
    "np.random.choice(5, 1)"
   ]
  },
  {
   "cell_type": "markdown",
   "metadata": {},
   "source": [
    "np.arange(5)"
   ]
  },
  {
   "cell_type": "code",
   "execution_count": 5,
   "metadata": {},
   "outputs": [],
   "source": [
    "coords_map = pd.read_csv(\"master-grid-points.csv\")\n",
    "coords_map[\"index\"] = coords_map.index\n",
    "coords_map[\"id\"] = coords_map[\"id\"].astype(int)\n",
    "coords_map[\"index\"] = coords_map[\"index\"].astype(int)\n",
    "coords_map.dtypes\n",
    "coords_id = coords_map.drop(\"Latitude\", axis=1)\n",
    "coords_id = coords_id.drop(\"longitude\", axis=1)\n",
    "coords_id = coords_id.drop(\"index\", axis=1)"
   ]
  },
  {
   "cell_type": "code",
   "execution_count": 6,
   "metadata": {},
   "outputs": [
    {
     "data": {
      "text/html": [
       "<div>\n",
       "<style scoped>\n",
       "    .dataframe tbody tr th:only-of-type {\n",
       "        vertical-align: middle;\n",
       "    }\n",
       "\n",
       "    .dataframe tbody tr th {\n",
       "        vertical-align: top;\n",
       "    }\n",
       "\n",
       "    .dataframe thead th {\n",
       "        text-align: right;\n",
       "    }\n",
       "</style>\n",
       "<table border=\"1\" class=\"dataframe\">\n",
       "  <thead>\n",
       "    <tr style=\"text-align: right;\">\n",
       "      <th></th>\n",
       "      <th>id</th>\n",
       "      <th>Latitude</th>\n",
       "      <th>longitude</th>\n",
       "      <th>index</th>\n",
       "    </tr>\n",
       "  </thead>\n",
       "  <tbody>\n",
       "    <tr>\n",
       "      <th>0</th>\n",
       "      <td>309269</td>\n",
       "      <td>40.49343</td>\n",
       "      <td>-74.253005</td>\n",
       "      <td>0</td>\n",
       "    </tr>\n",
       "    <tr>\n",
       "      <th>1</th>\n",
       "      <td>309270</td>\n",
       "      <td>40.49343</td>\n",
       "      <td>-74.246979</td>\n",
       "      <td>1</td>\n",
       "    </tr>\n",
       "    <tr>\n",
       "      <th>2</th>\n",
       "      <td>309271</td>\n",
       "      <td>40.49343</td>\n",
       "      <td>-74.240953</td>\n",
       "      <td>2</td>\n",
       "    </tr>\n",
       "    <tr>\n",
       "      <th>3</th>\n",
       "      <td>309272</td>\n",
       "      <td>40.49343</td>\n",
       "      <td>-74.234927</td>\n",
       "      <td>3</td>\n",
       "    </tr>\n",
       "    <tr>\n",
       "      <th>4</th>\n",
       "      <td>309273</td>\n",
       "      <td>40.49343</td>\n",
       "      <td>-74.228901</td>\n",
       "      <td>4</td>\n",
       "    </tr>\n",
       "  </tbody>\n",
       "</table>\n",
       "</div>"
      ],
      "text/plain": [
       "       id  Latitude  longitude  index\n",
       "0  309269  40.49343 -74.253005      0\n",
       "1  309270  40.49343 -74.246979      1\n",
       "2  309271  40.49343 -74.240953      2\n",
       "3  309272  40.49343 -74.234927      3\n",
       "4  309273  40.49343 -74.228901      4"
      ]
     },
     "execution_count": 6,
     "metadata": {},
     "output_type": "execute_result"
    }
   ],
   "source": [
    "coords_map.head()"
   ]
  },
  {
   "cell_type": "code",
   "execution_count": 7,
   "metadata": {},
   "outputs": [
    {
     "data": {
      "text/plain": [
       "<matplotlib.axes._subplots.AxesSubplot at 0x7ff053e5a898>"
      ]
     },
     "execution_count": 7,
     "metadata": {},
     "output_type": "execute_result"
    },
    {
     "data": {
      "image/png": "[encoded data removed]",
      "text/plain": [
       "<Figure size 432x288 with 1 Axes>"
      ]
     },
     "metadata": {
      "needs_background": "light"
     },
     "output_type": "display_data"
    }
   ],
   "source": [
    "coords_map.plot(kind=\"scatter\", x=\"longitude\", y=\"Latitude\")"
   ]
  },
  {
   "cell_type": "code",
   "execution_count": 8,
   "metadata": {},
   "outputs": [],
   "source": [
    "coords = coords_map.values"
   ]
  },
  {
   "cell_type": "code",
   "execution_count": 43,
   "metadata": {},
   "outputs": [
    {
     "name": "stdout",
     "output_type": "stream",
     "text": [
      "309269.0\n",
      "391368.0\n"
     ]
    }
   ],
   "source": [
    "print(coords[0][0])\n",
    "print(coords[8299][0])"
   ]
  },
  {
   "cell_type": "code",
   "execution_count": 44,
   "metadata": {},
   "outputs": [],
   "source": [
    "lat_dist = coords[8299][1]-coords[0][1]"
   ]
  },
  {
   "cell_type": "code",
   "execution_count": 45,
   "metadata": {},
   "outputs": [],
   "source": [
    "lon_dist = coords[8299][2]-coords[0][2]"
   ]
  },
  {
   "cell_type": "code",
   "execution_count": 47,
   "metadata": {},
   "outputs": [
    {
     "data": {
      "text/plain": [
       "11029.737178111374"
      ]
     },
     "execution_count": 47,
     "metadata": {},
     "output_type": "execute_result"
    }
   ],
   "source": [
    "dist = math.sqrt(lat_dist**2 + lon_dist**2)\n",
    "dist*14231"
   ]
  },
  {
   "cell_type": "code",
   "execution_count": 70,
   "metadata": {},
   "outputs": [],
   "source": [
    "def e_distance(initial, final, coordinate_set):\n",
    "    lat_dist = coordinate_set[final][1]-coordinate_set[initial][1]\n",
    "    lon_dist = coordinate_set[final][2]-coordinate_set[initial][2]\n",
    "    distance = math.sqrt(lat_dist**2 + lon_dist**2)\n",
    "    return distance"
   ]
  },
  {
   "cell_type": "code",
   "execution_count": 15,
   "metadata": {},
   "outputs": [],
   "source": [
    "def new_coords(new_n):\n",
    "    \n",
    "    new_coords = []\n",
    "    \n",
    "    coords_map = pd.read_csv(\"master-grid-points.csv\")\n",
    "    coords_map[\"index\"] = coords_map.index\n",
    "    coords_map[\"id\"] = coords_map[\"id\"].astype(int)\n",
    "    coords_map[\"index\"] = coords_map[\"index\"].astype(int)\n",
    "    coords_id = coords_map.drop(\"Latitude\", axis=1)\n",
    "    coords_id = coords_id.drop(\"longitude\", axis=1)\n",
    "    coords_id = coords_id.drop(\"index\", axis=1)\n",
    "    \n",
    "    for ii in range(new_n):\n",
    "        new_coords.append(int(statistics.median(coords_id.values[(8300/new_n)*ii:(8300/new_n)*ii+1])))\n",
    "    \n",
    "    coords_reduced = {\"id\": new_coords}\n",
    "    c_r = pd.DataFrame(coords_reduced)\n",
    "    \n",
    "    return c_r"
   ]
  },
  {
   "cell_type": "code",
   "execution_count": null,
   "metadata": {},
   "outputs": [],
   "source": [
    "new_coords = []\n",
    "\n",
    "for ii in range(10):\n",
    "    new_coords.append(int(statistics.median( coords_id.values[830*ii:830*ii+1] )))\n",
    "    \n",
    "coords_reduced = {\"id\": new_coords}\n",
    "coordenadas_reducidas = pd.DataFrame(coords_reduced)"
   ]
  },
  {
   "cell_type": "code",
   "execution_count": 11,
   "metadata": {},
   "outputs": [],
   "source": [
    "pu_do = pd.read_csv(\"Medallion_2011_specifc_time_dataset.csv\")"
   ]
  },
  {
   "cell_type": "code",
   "execution_count": 13,
   "metadata": {},
   "outputs": [
    {
     "name": "stderr",
     "output_type": "stream",
     "text": [
      "/home/santiagortiz/anaconda3/lib/python3.7/site-packages/IPython/core/interactiveshell.py:2901: DtypeWarning: Columns (0) have mixed types. Specify dtype option on import or set low_memory=False.\n",
      "  if self.run_code(code, result):\n"
     ]
    }
   ],
   "source": [
    "pu_do_matrix = Demand_Matrix(\"Medallion_2011_specifc_time_dataset.csv\")"
   ]
  },
  {
   "cell_type": "code",
   "execution_count": 38,
   "metadata": {},
   "outputs": [],
   "source": [
    "distances = []\n",
    "for ii in range(pu_do_matrix.shape[0]):\n",
    "    for jj in range(pu_do_matrix.shape[1]):\n",
    "        if pu_do_matrix.item(ii,jj) != 0:\n",
    "            viajes = pu_do_matrix.item(ii,jj)\n",
    "            dist = abs(ii-jj)\n",
    "            for cantidad_de_viajes in range(int(viajes)):\n",
    "                distances.append(dist)"
   ]
  },
  {
   "cell_type": "code",
   "execution_count": 46,
   "metadata": {},
   "outputs": [
    {
     "data": {
      "image/png": "[encoded data removed]",
      "text/plain": [
       "<Figure size 432x288 with 1 Axes>"
      ]
     },
     "metadata": {
      "needs_background": "light"
     },
     "output_type": "display_data"
    }
   ],
   "source": [
    "plt.hist(distances, bins=83)\n",
    "plt.title(\"histogram distances\") \n",
    "plt.show()"
   ]
  },
  {
   "cell_type": "code",
   "execution_count": 11,
   "metadata": {},
   "outputs": [],
   "source": [
    "def distances_list(matrices_list):\n",
    "    distances = []\n",
    "    for matrix in matrices:\n",
    "        for ii in range(matrix.shape[0]):\n",
    "            for jj in range(matrix.shape[1]):\n",
    "                if matrix.item(ii,jj) != 0:\n",
    "                    viajes = matrix.item(ii,jj)\n",
    "                    dist = abs(ii-jj)\n",
    "                    for cantidad_de_viajes in range(int(viajes)):\n",
    "                        distances.append(dist)\n",
    "    return distances"
   ]
  },
  {
   "cell_type": "code",
   "execution_count": 9,
   "metadata": {},
   "outputs": [],
   "source": [
    "matrices = [complete_demand_matrix4, \n",
    "            complete_demand_matrix5,\n",
    "            complete_demand_matrix6,\n",
    "            complete_demand_matrix7,\n",
    "            complete_demand_matrix8]"
   ]
  },
  {
   "cell_type": "code",
   "execution_count": 37,
   "metadata": {},
   "outputs": [],
   "source": [
    "distancias = distances_list(matrices)"
   ]
  },
  {
   "cell_type": "code",
   "execution_count": 107,
   "metadata": {},
   "outputs": [
    {
     "data": {
      "text/plain": [
       "0.43610900392895513"
      ]
     },
     "execution_count": 107,
     "metadata": {},
     "output_type": "execute_result"
    }
   ],
   "source": [
    "max(dist4)"
   ]
  },
  {
   "cell_type": "code",
   "execution_count": 27,
   "metadata": {},
   "outputs": [
    {
     "data": {
      "text/plain": [
       "(array([618., 693., 372., ...,   0.,   0.,   1.]),\n",
       " array([   1,    2,    3, ..., 3578, 3579, 3580]),\n",
       " <a list of 3579 Patch objects>)"
      ]
     },
     "execution_count": 27,
     "metadata": {},
     "output_type": "execute_result"
    },
    {
     "data": {
      "image/png": "[encoded data removed]",
      "text/plain": [
       "<Figure size 432x288 with 1 Axes>"
      ]
     },
     "metadata": {
      "needs_background": "light"
     },
     "output_type": "display_data"
    }
   ],
   "source": [
    "plt.hist(distancias, bins=[ii for ii in range(1,3582)])"
   ]
  },
  {
   "cell_type": "code",
   "execution_count": 28,
   "metadata": {},
   "outputs": [
    {
     "data": {
      "image/png": "[encoded data removed]",
      "text/plain": [
       "<Figure size 432x288 with 1 Axes>"
      ]
     },
     "metadata": {
      "needs_background": "light"
     },
     "output_type": "display_data"
    }
   ],
   "source": [
    "n , bins, patches = plt.hist(distancias, bins=[ii for ii in range(1,3582)])"
   ]
  },
  {
   "cell_type": "code",
   "execution_count": 71,
   "metadata": {},
   "outputs": [],
   "source": [
    "def matrix_distances_list(matrix):    \n",
    "    distances = []\n",
    "    for ii in range(matrix.shape[0]):\n",
    "        for jj in range(matrix.shape[1]):\n",
    "            if matrix.item(ii,jj) != 0:\n",
    "                viajes = matrix.item(ii,jj)\n",
    "                dist = e_distance(ii,jj,coords)\n",
    "                for cantidad_de_viajes in range(int(viajes)):\n",
    "                    distances.append(dist)\n",
    "    return distances"
   ]
  },
  {
   "cell_type": "code",
   "execution_count": 74,
   "metadata": {},
   "outputs": [],
   "source": [
    "dist4 = matrix_distances_list(complete_demand_matrix4)\n",
    "dist5 = matrix_distances_list(complete_demand_matrix5)\n",
    "dist6 = matrix_distances_list(complete_demand_matrix6)\n",
    "dist7 = matrix_distances_list(complete_demand_matrix7)\n",
    "dist8 = matrix_distances_list(complete_demand_matrix8)"
   ]
  },
  {
   "cell_type": "code",
   "execution_count": 77,
   "metadata": {},
   "outputs": [],
   "source": [
    "distdf4 = pd.DataFrame({'viaje':dist4})\n",
    "\n",
    "distdf5 = pd.DataFrame({'viaje':dist5})\n",
    "distdf6 = pd.DataFrame({'viaje':dist6})\n",
    "distdf7 = pd.DataFrame({'viaje':dist7})\n",
    "distdf8 = pd.DataFrame({'viaje':dist8})"
   ]
  },
  {
   "cell_type": "code",
   "execution_count": 78,
   "metadata": {},
   "outputs": [],
   "source": [
    "distdf4.to_excel(\"dist4.xlsx\")\n",
    "\n",
    "distdf5.to_excel(\"dist5.xlsx\")\n",
    "distdf6.to_excel(\"dist6.xlsx\")\n",
    "distdf7.to_excel(\"dist7.xlsx\")\n",
    "distdf8.to_excel(\"dist8.xlsx\")"
   ]
  },
  {
   "cell_type": "code",
   "execution_count": 82,
   "metadata": {},
   "outputs": [
    {
     "data": {
      "text/plain": [
       "0.43610900392895513"
      ]
     },
     "execution_count": 82,
     "metadata": {},
     "output_type": "execute_result"
    }
   ],
   "source": [
    "max(dist4)"
   ]
  },
  {
   "cell_type": "code",
   "execution_count": 103,
   "metadata": {},
   "outputs": [],
   "source": [
    "import matplotlib"
   ]
  },
  {
   "cell_type": "code",
   "execution_count": 113,
   "metadata": {},
   "outputs": [
    {
     "data": {
      "image/png": "[encoded data removed]",
      "text/plain": [
       "<Figure size 432x288 with 1 Axes>"
      ]
     },
     "metadata": {
      "needs_background": "light"
     },
     "output_type": "display_data"
    },
    {
     "data": {
      "image/png": "[encoded data removed]",
      "text/plain": [
       "<Figure size 432x288 with 1 Axes>"
      ]
     },
     "metadata": {
      "needs_background": "light"
     },
     "output_type": "display_data"
    },
    {
     "data": {
      "image/png": "[encoded data removed]",
      "text/plain": [
       "<Figure size 432x288 with 1 Axes>"
      ]
     },
     "metadata": {
      "needs_background": "light"
     },
     "output_type": "display_data"
    },
    {
     "data": {
      "image/png": "[encoded data removed]",
      "text/plain": [
       "<Figure size 432x288 with 1 Axes>"
      ]
     },
     "metadata": {
      "needs_background": "light"
     },
     "output_type": "display_data"
    },
    {
     "data": {
      "image/png": "[encoded data removed]",
      "text/plain": [
       "<Figure size 432x288 with 1 Axes>"
      ]
     },
     "metadata": {
      "needs_background": "light"
     },
     "output_type": "display_data"
    }
   ],
   "source": [
    "for dist in [dist4, dist5, dist6, dist7, dist8]:\n",
    "    plt.axis(xlim=(0, 0.437), ylim=(0, 600))\n",
    "    plt.hist(dist, bins=200)\n",
    "    plt.title(\"histogram distances\") \n",
    "    plt.show()"
   ]
  },
  {
   "cell_type": "code",
   "execution_count": 132,
   "metadata": {},
   "outputs": [],
   "source": [
    "def l1_distance(initial, final, coordinate_set):\n",
    "    lat_dist = coordinate_set[final][1]-coordinate_set[initial][1]\n",
    "    lon_dist = coordinate_set[final][2]-coordinate_set[initial][2]\n",
    "    distance = abs(lat_dist + lon_dist)\n",
    "    return distance"
   ]
  },
  {
   "cell_type": "code",
   "execution_count": 133,
   "metadata": {},
   "outputs": [],
   "source": [
    "def matrixl_distances_list(matrix):    \n",
    "    distances = []\n",
    "    for ii in range(matrix.shape[0]):\n",
    "        for jj in range(matrix.shape[1]):\n",
    "            if matrix.item(ii,jj) != 0:\n",
    "                viajes = matrix.item(ii,jj)\n",
    "                dist = l1_distance(ii,jj,coords)\n",
    "                for cantidad_de_viajes in range(int(viajes)):\n",
    "                    distances.append(dist)\n",
    "    return distances"
   ]
  },
  {
   "cell_type": "code",
   "execution_count": 134,
   "metadata": {},
   "outputs": [],
   "source": [
    "ldist4 = matrixl_distances_list(complete_demand_matrix4)\n",
    "ldist5 = matrixl_distances_list(complete_demand_matrix5)\n",
    "ldist6 = matrixl_distances_list(complete_demand_matrix6)\n",
    "ldist7 = matrixl_distances_list(complete_demand_matrix7)\n",
    "ldist8 = matrixl_distances_list(complete_demand_matrix8)"
   ]
  },
  {
   "cell_type": "code",
   "execution_count": 135,
   "metadata": {},
   "outputs": [],
   "source": [
    "ldistdf4 = pd.DataFrame({'viaje':ldist4})\n",
    "ldistdf5 = pd.DataFrame({'viaje':ldist5})\n",
    "ldistdf6 = pd.DataFrame({'viaje':ldist6})\n",
    "ldistdf7 = pd.DataFrame({'viaje':ldist7})\n",
    "ldistdf8 = pd.DataFrame({'viaje':ldist8})"
   ]
  },
  {
   "cell_type": "code",
   "execution_count": 136,
   "metadata": {},
   "outputs": [],
   "source": [
    "ldistdf4.to_excel(\"ldist4.xlsx\")\n",
    "ldistdf5.to_excel(\"ldist5.xlsx\")\n",
    "ldistdf6.to_excel(\"ldist6.xlsx\")\n",
    "ldistdf7.to_excel(\"ldist7.xlsx\")\n",
    "ldistdf8.to_excel(\"ldist8.xlsx\")"
   ]
  },
  {
   "cell_type": "code",
   "execution_count": 138,
   "metadata": {},
   "outputs": [],
   "source": [
    "def separar_cola(distance_list):\n",
    "    sin_cola = []\n",
    "    cola = []\n",
    "    for distancia in distance_list:\n",
    "        if distancia == 0:\n",
    "            continue\n",
    "        if (distancia>0) & (distancia<=0.19):\n",
    "            sin_cola.append(distancia)\n",
    "        if distancia > 0.19:\n",
    "            cola.append(distancia)\n",
    "    return sin_cola, cola"
   ]
  },
  {
   "cell_type": "code",
   "execution_count": null,
   "metadata": {},
   "outputs": [],
   "source": [
    "sin_cola4, cola4 = separar_cola(ldist4)\n",
    "sin_cola5, cola5 = separar_cola(ldist5)\n",
    "sin_cola6, cola6 = separar_cola(ldist6)\n",
    "sin_cola7, cola7 = separar_cola(ldist7)\n",
    "sin_cola8, cola8 = separar_cola(ldist8)"
   ]
  },
  {
   "cell_type": "code",
   "execution_count": null,
   "metadata": {},
   "outputs": [],
   "source": [
    "sin4 = pd.DataFrame({'viaje':sin_cola4})\n",
    "sin5 = pd.DataFrame({'viaje':sin_cola5})\n",
    "sin6 = pd.DataFrame({'viaje':sin_cola6})\n",
    "sin7 = pd.DataFrame({'viaje':sin_cola7})\n",
    "sin8 = pd.DataFrame({'viaje':sin_cola8})"
   ]
  },
  {
   "cell_type": "code",
   "execution_count": 141,
   "metadata": {},
   "outputs": [
    {
     "data": {
      "image/png": "[encoded data removed]",
      "text/plain": [
       "<Figure size 432x288 with 1 Axes>"
      ]
     },
     "metadata": {
      "needs_background": "light"
     },
     "output_type": "display_data"
    },
    {
     "data": {
      "image/png": "[encoded data removed]",
      "text/plain": [
       "<Figure size 432x288 with 1 Axes>"
      ]
     },
     "metadata": {
      "needs_background": "light"
     },
     "output_type": "display_data"
    },
    {
     "data": {
      "image/png": "[encoded data removed]",
      "text/plain": [
       "<Figure size 432x288 with 1 Axes>"
      ]
     },
     "metadata": {
      "needs_background": "light"
     },
     "output_type": "display_data"
    },
    {
     "data": {
      "image/png": "[encoded data removed]",
      "text/plain": [
       "<Figure size 432x288 with 1 Axes>"
      ]
     },
     "metadata": {
      "needs_background": "light"
     },
     "output_type": "display_data"
    },
    {
     "data": {
      "image/png": "[encoded data removed]",
      "text/plain": [
       "<Figure size 432x288 with 1 Axes>"
      ]
     },
     "metadata": {
      "needs_background": "light"
     },
     "output_type": "display_data"
    }
   ],
   "source": [
    "for dist in [ldist4, ldist5, ldist6, ldist7, ldist8]:\n",
    "    plt.axis(xlim=(0, 0.437), ylim=(0, 600))\n",
    "    plt.hist(dist, bins=83)\n",
    "    plt.title(\"histogram distances\") \n",
    "    plt.show()"
   ]
  },
  {
   "cell_type": "code",
   "execution_count": null,
   "metadata": {},
   "outputs": [],
   "source": []
  }
 ],
 "metadata": {
  "kernelspec": {
   "display_name": "Python 3",
   "language": "python",
   "name": "python3"
  },
  "language_info": {
   "codemirror_mode": {
    "name": "ipython",
    "version": 3
   },
   "file_extension": ".py",
   "mimetype": "text/x-python",
   "name": "python",
   "nbconvert_exporter": "python",
   "pygments_lexer": "ipython3",
   "version": "3.7.3"
  }
 },
 "nbformat": 4,
 "nbformat_minor": 2
}
