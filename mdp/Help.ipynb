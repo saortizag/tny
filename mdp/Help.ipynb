{
 "cells": [
  {
   "cell_type": "code",
   "execution_count": 1,
   "metadata": {},
   "outputs": [],
   "source": [
    "import numpy as np\n",
    "from random import*"
   ]
  },
  {
   "cell_type": "code",
   "execution_count": 10,
   "metadata": {},
   "outputs": [],
   "source": [
    "A9=np.matrix([[0, 0, 0, 0, 0.5, 0], \n",
    "              [0.5, 0.5, 0.5, 0.5, 0.5, 1], \n",
    "              [0.5, 0, 0, 0, 0, 0], \n",
    "              [0, 0.5, 0, 0, 0, 0], \n",
    "              [0, 0, 0.5, 0, 0, 0], \n",
    "              [0, 0, 0, 0.5, 0, 0]])\n",
    "\n",
    "A9T=np.transpose(A9)\n",
    "\n",
    "vt9=np.matrix([0, 1, 0, 0, 0, 0])\n",
    "\n",
    "v9=np.transpose(vt9)\n",
    "\n",
    "A10=np.matrix([[1/6, 1/6, 1/6, 1/6, 1/6, 1/6], \n",
    "               [1/6, 1/6, 1/6, 1/6, 1/6, 1/6], \n",
    "               [1/6, 1/6, 1/6, 1/6, 1/6, 1/6], \n",
    "               [1/6, 1/6, 1/6, 1/6, 1/6, 1/6], \n",
    "               [1/6, 1/6, 1/6, 1/6, 1/6, 1/6], \n",
    "               [1/6, 1/6, 1/6, 1/6, 1/6, 1/6]])\n",
    "vt10=np.matrix([1, 0, 0, 0, 0, 0])\n",
    "v10=np.transpose(vt10)\n",
    "\n",
    "A=A9*A10\n"
   ]
  },
  {
   "cell_type": "code",
   "execution_count": 11,
   "metadata": {
    "scrolled": true
   },
   "outputs": [
    {
     "data": {
      "text/plain": [
       "matrix([[0. ],\n",
       "        [0.5],\n",
       "        [0. ],\n",
       "        [0.5],\n",
       "        [0. ],\n",
       "        [0. ]])"
      ]
     },
     "execution_count": 11,
     "metadata": {},
     "output_type": "execute_result"
    }
   ],
   "source": [
    "A9*v9"
   ]
  },
  {
   "cell_type": "code",
   "execution_count": 7,
   "metadata": {
    "scrolled": true
   },
   "outputs": [
    {
     "data": {
      "text/plain": [
       "(array([-0.25+0.4330127j, -0.25-0.4330127j,  1.  +0.j       ,\n",
       "         0.5 +0.j       , -0.25+0.4330127j, -0.25-0.4330127j]),\n",
       " matrix([[-2.70030862e-01+0.46770717j, -2.70030862e-01-0.46770717j,\n",
       "          -1.84729725e-16+0.j        ,  4.08248290e-01+0.j        ,\n",
       "          -2.32600386e-01-0.17938884j, -2.32600386e-01+0.17938884j],\n",
       "         [ 1.54303350e-01-0.13363062j,  1.54303350e-01+0.13363062j,\n",
       "          -8.72871561e-01+0.j        , -4.08248290e-01+0.j        ,\n",
       "           2.48520641e-01-0.43045038j,  2.48520641e-01+0.43045038j],\n",
       "         [ 5.40061725e-01+0.j        ,  5.40061725e-01-0.j        ,\n",
       "           1.64204200e-16+0.j        ,  4.08248290e-01+0.j        ,\n",
       "          -3.90551023e-02+0.29113226j, -3.90551023e-02-0.29113226j],\n",
       "         [-1.92879187e-01-0.06681531j, -1.92879187e-01+0.06681531j,\n",
       "          -4.36435780e-01+0.j        , -4.08248290e-01+0.j        ,\n",
       "          -4.97041283e-01+0.j        , -4.97041283e-01-0.j        ],\n",
       "         [-2.70030862e-01-0.46770717j, -2.70030862e-01+0.46770717j,\n",
       "           3.48933925e-16+0.j        ,  4.08248290e-01+0.j        ,\n",
       "           2.71655488e-01-0.11174342j,  2.71655488e-01+0.11174342j],\n",
       "         [ 3.85758375e-02+0.20044593j,  3.85758375e-02-0.20044593j,\n",
       "          -2.18217890e-01+0.j        , -4.08248290e-01+0.j        ,\n",
       "           2.48520641e-01+0.43045038j,  2.48520641e-01-0.43045038j]]))"
      ]
     },
     "execution_count": 7,
     "metadata": {},
     "output_type": "execute_result"
    }
   ],
   "source": [
    "np.linalg.eig(A9)"
   ]
  },
  {
   "cell_type": "code",
   "execution_count": 4,
   "metadata": {},
   "outputs": [
    {
     "data": {
      "text/plain": [
       "matrix([[1., 1., 1., 1., 1., 1.]])"
      ]
     },
     "execution_count": 4,
     "metadata": {},
     "output_type": "execute_result"
    }
   ],
   "source": [
    "np.sum(A,axis=0)"
   ]
  },
  {
   "cell_type": "code",
   "execution_count": 5,
   "metadata": {},
   "outputs": [
    {
     "data": {
      "text/plain": [
       "array([[ 2. , -0.5],\n",
       "       [-1. ,  1.5]])"
      ]
     },
     "execution_count": 5,
     "metadata": {},
     "output_type": "execute_result"
    }
   ],
   "source": [
    "np.linalg.inv([[0.6, 0.2],[0.4, 0.8]])"
   ]
  },
  {
   "cell_type": "code",
   "execution_count": 6,
   "metadata": {},
   "outputs": [
    {
     "data": {
      "text/plain": [
       "5.0"
      ]
     },
     "execution_count": 6,
     "metadata": {},
     "output_type": "execute_result"
    }
   ],
   "source": [
    "np.add(1.0, 4.0)\n"
   ]
  },
  {
   "cell_type": "code",
   "execution_count": 10,
   "metadata": {},
   "outputs": [
    {
     "name": "stdout",
     "output_type": "stream",
     "text": [
      "[[0. 1. 2.]\n",
      " [3. 4. 5.]\n",
      " [6. 7. 8.]]\n"
     ]
    }
   ],
   "source": [
    "x1 = np.arange(9.0).reshape((3, 3))\n",
    "print(x1)"
   ]
  },
  {
   "cell_type": "code",
   "execution_count": 9,
   "metadata": {},
   "outputs": [
    {
     "name": "stdout",
     "output_type": "stream",
     "text": [
      "[[0. 3. 6.]\n",
      " [1. 4. 7.]\n",
      " [2. 5. 8.]]\n"
     ]
    }
   ],
   "source": [
    "x2 = np.arange(9.0).reshape((3,3))\n",
    "x2t = np.transpose(x2)\n",
    "print(x2t)"
   ]
  },
  {
   "cell_type": "code",
   "execution_count": 13,
   "metadata": {},
   "outputs": [
    {
     "data": {
      "text/plain": [
       "array([[ 0.,  4.,  8.],\n",
       "       [ 4.,  8., 12.],\n",
       "       [ 8., 12., 16.]])"
      ]
     },
     "execution_count": 13,
     "metadata": {},
     "output_type": "execute_result"
    }
   ],
   "source": [
    "np.add(x1, x2t)"
   ]
  },
  {
   "cell_type": "code",
   "execution_count": 14,
   "metadata": {},
   "outputs": [
    {
     "data": {
      "text/plain": [
       "array([[ 0.,  3., 12.],\n",
       "       [ 3., 16., 35.],\n",
       "       [12., 35., 64.]])"
      ]
     },
     "execution_count": 14,
     "metadata": {},
     "output_type": "execute_result"
    }
   ],
   "source": [
    "np.multiply(x1,x2t)"
   ]
  },
  {
   "cell_type": "code",
   "execution_count": 22,
   "metadata": {},
   "outputs": [],
   "source": [
    "T=np.matrix([[1/4, 3/4, 1/2], \n",
    "              [1/2, 0, 1/2], \n",
    "              [1/4, 1/4, 0]])\n",
    "\n",
    "R=np.matrix([[1, 2, 3], \n",
    "              [4, 5, 6], \n",
    "              [7, 8, 9]])"
   ]
  },
  {
   "cell_type": "code",
   "execution_count": 27,
   "metadata": {},
   "outputs": [
    {
     "data": {
      "text/plain": [
       "matrix([[0.25, 1.5 , 1.5 ],\n",
       "        [2.  , 0.  , 3.  ],\n",
       "        [1.75, 2.  , 0.  ]])"
      ]
     },
     "execution_count": 27,
     "metadata": {},
     "output_type": "execute_result"
    }
   ],
   "source": [
    "W=np.multiply(T,R)\n",
    "W"
   ]
  },
  {
   "cell_type": "code",
   "execution_count": 35,
   "metadata": {},
   "outputs": [],
   "source": [
    "v0=np.matrix([[1/2], \n",
    "              [1/2], \n",
    "              [0]])"
   ]
  },
  {
   "cell_type": "code",
   "execution_count": 36,
   "metadata": {},
   "outputs": [
    {
     "data": {
      "text/plain": [
       "matrix([[0.875],\n",
       "        [1.   ],\n",
       "        [1.875]])"
      ]
     },
     "execution_count": 36,
     "metadata": {},
     "output_type": "execute_result"
    }
   ],
   "source": [
    "W*v0"
   ]
  },
  {
   "cell_type": "code",
   "execution_count": 3,
   "metadata": {},
   "outputs": [],
   "source": [
    "def Reward_Matrix(n):\n",
    "    RewardMatrix=np.zeros((n,n))\n",
    "    for ii in range(n):\n",
    "            for jj in range(n):\n",
    "                RewardMatrix[ii,jj]=normalvariate(30.0,10.0)\n",
    "    return RewardMatrix"
   ]
  },
  {
   "cell_type": "code",
   "execution_count": 23,
   "metadata": {},
   "outputs": [
    {
     "data": {
      "text/plain": [
       "numpy.ndarray"
      ]
     },
     "execution_count": 23,
     "metadata": {},
     "output_type": "execute_result"
    }
   ],
   "source": [
    "N = 100\n",
    "T = Reward_Matrix(N)\n",
    "type(T)"
   ]
  },
  {
   "cell_type": "code",
   "execution_count": 55,
   "metadata": {},
   "outputs": [
    {
     "name": "stdout",
     "output_type": "stream",
     "text": [
      "[[2933.54458177 2885.17212755 3077.20738533 3152.31941372 2974.84809815\n",
      "  2953.52945268 3122.80337403 3067.76571523 3133.92235446 2879.14315043]\n",
      " [3024.24867357 3106.58137818 2898.78199824 3036.76683064 3116.26998681\n",
      "  3232.6581888  2933.02567832 3113.43866714 3024.17089821 2954.92086236]\n",
      " [   0.            0.            0.            0.            0.\n",
      "     0.            0.            0.            0.            0.        ]\n",
      " [   0.            0.            0.            0.            0.\n",
      "     0.            0.            0.            0.            0.        ]\n",
      " [   0.            0.            0.            0.            0.\n",
      "     0.            0.            0.            0.            0.        ]\n",
      " [   0.            0.            0.            0.            0.\n",
      "     0.            0.            0.            0.            0.        ]\n",
      " [   0.            0.            0.            0.            0.\n",
      "     0.            0.            0.            0.            0.        ]\n",
      " [   0.            0.            0.            0.            0.\n",
      "     0.            0.            0.            0.            0.        ]\n",
      " [   0.            0.            0.            0.            0.\n",
      "     0.            0.            0.            0.            0.        ]\n",
      " [   0.            0.            0.            0.            0.\n",
      "     0.            0.            0.            0.            0.        ]]\n",
      "[[2933.54458177 2885.17212755 3077.20738533 3152.31941372 2974.84809815\n",
      "  2953.52945268 3122.80337403 3067.76571523 3133.92235446 2879.14315043]\n",
      " [3024.24867357 3106.58137818 2898.78199824 3036.76683064 3116.26998681\n",
      "  3232.6581888  2933.02567832 3113.43866714 3024.17089821 2954.92086236]\n",
      " [2980.97179768 3056.09251558 2831.31054991 3167.97780384 3034.83150365\n",
      "  3134.57037613 2915.26542239 3015.44834217 3084.22594135 3070.41539891]\n",
      " [2940.90192286 3138.58592946 3065.08149712 2909.42452779 3008.30813936\n",
      "  2906.96988586 3198.38147085 3055.23828103 2988.58259269 2975.72275091]\n",
      " [3052.29751888 2948.95997626 3021.21515664 3048.4260048  3084.82625019\n",
      "  2899.44293667 2916.96022566 3151.28207178 2736.33531562 2867.34973592]\n",
      " [2797.02856241 2826.23577594 3002.1008737  2983.03653474 2979.05755164\n",
      "  3126.40405146 2988.07680776 2768.34521068 2984.13161103 2820.5338854 ]\n",
      " [3006.42580637 2861.75060101 2824.2439472  2837.9025251  2971.43190768\n",
      "  2912.26163944 2840.91479103 3118.0348725  3144.90678056 3063.5040201 ]\n",
      " [3090.66863614 2925.11409876 2907.2319962  3101.013812   2957.31397881\n",
      "  3076.81502359 3037.69590695 2940.83002181 2873.81877643 3111.04982805]\n",
      " [3029.00011164 2927.6410544  3094.817647   2964.80151409 2843.35538782\n",
      "  3016.60897403 3058.16741395 3088.88844508 2964.78152644 3140.77543069]\n",
      " [2927.13899617 3085.6605704  3020.3846045  3005.93895014 2943.28061127\n",
      "  2967.83817716 2992.59749989 2987.93601075 2946.17337659 2887.33141887]]\n"
     ]
    }
   ],
   "source": [
    "L=int(N/10)\n",
    "\n",
    "K=np.zeros((L,L))\n",
    "F=np.zeros((L,L))\n",
    "\n",
    "K[0,0]=np.sum(T[0:10,0:10])\n",
    "K[0,1]=np.sum(T[0:10,10:20])\n",
    "K[0,2]=np.sum(T[0:10,20:30])\n",
    "K[0,3]=np.sum(T[0:10,30:40])\n",
    "K[0,4]=np.sum(T[0:10,40:50])\n",
    "K[0,5]=np.sum(T[0:10,50:60])\n",
    "K[0,6]=np.sum(T[0:10,60:70])\n",
    "K[0,7]=np.sum(T[0:10,70:80])\n",
    "K[0,8]=np.sum(T[0:10,80:90])\n",
    "K[0,9]=np.sum(T[0:10,90:100])\n",
    "\n",
    "K[1,0]=np.sum(T[10:20,0:10])\n",
    "K[1,1]=np.sum(T[10:20,10:20])\n",
    "K[1,2]=np.sum(T[10:20,20:30])\n",
    "K[1,3]=np.sum(T[10:20,30:40])\n",
    "K[1,4]=np.sum(T[10:20,40:50])\n",
    "K[1,5]=np.sum(T[10:20,50:60])\n",
    "K[1,6]=np.sum(T[10:20,60:70])\n",
    "K[1,7]=np.sum(T[10:20,70:80])\n",
    "K[1,8]=np.sum(T[10:20,80:90])\n",
    "K[1,9]=np.sum(T[10:20,90:100])\n",
    "\n",
    "for nn in range(L):\n",
    "    for mm in range(L):\n",
    "        F[nn,mm]=np.sum(T[(nn*L):((nn*L)+L),(mm*L):((mm*L)+L)])\n",
    "\n",
    "print(K)\n",
    "print(F)"
   ]
  },
  {
   "cell_type": "code",
   "execution_count": 46,
   "metadata": {},
   "outputs": [],
   "source": [
    "A10=np.matrix([[1/6, 1/6, 1/6, 1/6, 1/6], \n",
    "               [1/6, 1/6, 1/6, 1/6, 1/6], \n",
    "               [1/6, 1/6, 1/6, 1/6, 1/6], \n",
    "               [1/6, 1/6, 1/6, 1/6, 1/6], \n",
    "               [1/6, 1/6, 1/6, 1/6, 1/6], \n",
    "               [1/6, 1/6, 1/6, 1/6, 1/6]])"
   ]
  },
  {
   "cell_type": "code",
   "execution_count": 50,
   "metadata": {},
   "outputs": [
    {
     "data": {
      "text/plain": [
       "6"
      ]
     },
     "execution_count": 50,
     "metadata": {},
     "output_type": "execute_result"
    }
   ],
   "source": [
    "np.shape(A10)[0]"
   ]
  },
  {
   "cell_type": "code",
   "execution_count": 53,
   "metadata": {},
   "outputs": [
    {
     "data": {
      "text/plain": [
       "[0.8333333333333333,\n",
       " 0.8333333333333333,\n",
       " 0.8333333333333333,\n",
       " 0.8333333333333333,\n",
       " 0.8333333333333333,\n",
       " 0.8333333333333333]"
      ]
     },
     "execution_count": 53,
     "metadata": {},
     "output_type": "execute_result"
    }
   ],
   "source": [
    "AAAA=[]\n",
    "for ii in range ( np.shape(A10)[0] ):\n",
    "    AAAA.append(np.sum(A10[ii,:]))\n",
    "    \n",
    "AAAA"
   ]
  },
  {
   "cell_type": "code",
   "execution_count": null,
   "metadata": {},
   "outputs": [],
   "source": []
  }
 ],
 "metadata": {
  "kernelspec": {
   "display_name": "Python 3",
   "language": "python",
   "name": "python3"
  },
  "language_info": {
   "codemirror_mode": {
    "name": "ipython",
    "version": 3
   },
   "file_extension": ".py",
   "mimetype": "text/x-python",
   "name": "python",
   "nbconvert_exporter": "python",
   "pygments_lexer": "ipython3",
   "version": "3.7.2"
  }
 },
 "nbformat": 4,
 "nbformat_minor": 2
}
