{
 "cells": [
  {
   "cell_type": "code",
   "execution_count": 2,
   "metadata": {},
   "outputs": [],
   "source": [
    "import numpy as np\n",
    "import pandas as pd\n",
    "from random import*"
   ]
  },
  {
   "cell_type": "code",
   "execution_count": 2,
   "metadata": {},
   "outputs": [],
   "source": [
    "#Problem. Find the final payoffs of a taxi driver who is in place i at t=0.\n",
    "#Given data is: origin-destination matrices (OD), corresponding to 15 minutes time bins.\n",
    "#Imagined data is: Reward matrix (or matrices) of the price of a trip from place i to place j."
   ]
  },
  {
   "cell_type": "code",
   "execution_count": null,
   "metadata": {},
   "outputs": [],
   "source": [
    "#This creates a transition matrix. Paramenter <<case>> can be \"real\" or\n",
    "#\"imaginary\". <<n>> is the quantity of possible places to be (coordinates). \n",
    "\n",
    "def Transition_Matrix(case,n):\n",
    "    \n",
    "    if case==\"real\":\n",
    "        #Importing the origin destination matrices as ODi (i=1,2,3,...)\n",
    "        OD1 = pd.read_csv('Demand_Jun_04_2011.csv', header=None)\n",
    "        OD2 = pd.read_csv('Demand_Jun_05_2011.csv', header=None)\n",
    "        OD3 = pd.read_csv('Demand_Jun_06_2011.csv', header=None)\n",
    "        OD4 = pd.read_csv('Demand_Jun_07_2011.csv', header=None)\n",
    "        OD5 = pd.read_csv('Demand_Jun_08_2011.csv', header=None)\n",
    "        \n",
    "        #This creates a numpy matrix with the values of the pandas matrices above.\n",
    "        OD1ValuesRaw = OD1.values\n",
    "        OD2ValuesRaw = OD2.values\n",
    "        OD3ValuesRaw = OD3.values\n",
    "        OD4ValuesRaw = OD4.values\n",
    "        OD5ValuesRaw = OD5.values\n",
    "        \n",
    "        #This deletes the row and column headers\n",
    "        OD1Values = np.delete(OD1ValuesRaw,0,1)\n",
    "        OD1Values = np.delete(OD1Values,0,0)\n",
    "        OD2Values = np.delete(OD2ValuesRaw,0,1)\n",
    "        OD2Values = np.delete(OD2Values,0,0)\n",
    "        OD3Values = np.delete(OD3ValuesRaw,0,1)\n",
    "        OD3Values = np.delete(OD3Values,0,0)\n",
    "        OD4Values = np.delete(OD4ValuesRaw,0,1)\n",
    "        OD4Values = np.delete(OD4Values,0,0)\n",
    "        OD5Values = np.delete(OD5ValuesRaw,0,1)\n",
    "        OD5Values = np.delete(OD5Values,0,0)\n",
    "        \n",
    "        #This adds up the values of the specific day-time OD matrices.\n",
    "        sum1=np.add(OD1Values, OD2Values)\n",
    "        sum2=np.add(sum1, OD3Values)\n",
    "        sum3=np.add(sum2, OD4Values)\n",
    "        PreMeanMatrix_Int=np.add(sum3, OD5Values)\n",
    "        \n",
    "        #This changes the type of the values of the OD matrix.\n",
    "        PreMeanMatrix_Float=PreMeanMatrix_Int.astype(float)\n",
    "        \n",
    "        #This creates a Mean Matrix. This divides the Pre-Mean Matrix by N, the number of original matrices.\n",
    "        N=5\n",
    "        MeanMatrix_Float=(1/N)*PreMeanMatrix_Float\n",
    "        \n",
    "        #Creating a copy of the previous matrix, a list of the sum of the row elements.\n",
    "        PreTransitionMatrix=MeanMatrix_Float.copy()\n",
    "        RowList=[]\n",
    "        \n",
    "        #This is the process to transform the Mean Matrix in the Transition Matrix\n",
    "        for ii in range(0,PreTransitionMatrix.shape[0]):\n",
    "            sf=np.sum(PreTransitionMatrix[ii,:])\n",
    "            RowList.append(sf)\n",
    "            SumRowList=sum(RowList)\n",
    "            if sf!=0.0:\n",
    "                PreTransitionMatrix[ii,:]=PreTransitionMatrix[ii,:]/sf\n",
    "            else:\n",
    "                PreTransitionMatrix[ii,:]=1.0/8300\n",
    "        \n",
    "        TransitionMatrix=np.asmatrix(PreTransitionMatrix)\n",
    "        \n",
    "        return TransitionMatrix\n",
    "        \n",
    "    #Now I will suppose I have Q transitions, and n quantity of possible \n",
    "    #places do be.\n",
    "    elif case==\"imaginary\":\n",
    "        PreTransitionMatrix=np.zeros((n,n))\n",
    "        #Filling it with random numbers.\n",
    "        for ii in range(n):\n",
    "            for jj in range(n):\n",
    "                PreTransitionMatrix[ii,jj]=random()\n",
    "        #Normalizing rows.\n",
    "        for ii in range(n):\n",
    "            sf=np.sum(PreTransitionMatrix[ii,:])\n",
    "            PreTransitionMatrix[ii,:]=PreTransitionMatrix[ii,:]/sf\n",
    "        \n",
    "        TransitionMatrix = np.asarray(PreTransitionMatrix)\n",
    "            \n",
    "        return TransitionMatrix\n",
    "            "
   ]
  },
  {
   "cell_type": "code",
   "execution_count": 4,
   "metadata": {},
   "outputs": [],
   "source": [
    "#I invented a random Reward Matrix.\n",
    "def Reward_Matrix(n):\n",
    "    RewardMatrix=np.zeros((n,n))\n",
    "    for ii in range(n):\n",
    "            for jj in range(n):\n",
    "                RewardMatrix[ii,jj]=normalvariate(30.0,10.0)\n",
    "    return RewardMatrix"
   ]
  },
  {
   "cell_type": "code",
   "execution_count": 5,
   "metadata": {},
   "outputs": [
    {
     "data": {
      "text/plain": [
       "matrix([[1., 0., 0., ..., 0., 0., 0.]])"
      ]
     },
     "execution_count": 5,
     "metadata": {},
     "output_type": "execute_result"
    }
   ],
   "source": [
    "#Now, I define the initial state vector.\n",
    "v0Array=np.zeros(8300, dtype=float)\n",
    "v0Array[0]=1.0\n",
    "v0 = np.asmatrix(v0Array)\n",
    "v0\n"
   ]
  },
  {
   "cell_type": "code",
   "execution_count": 6,
   "metadata": {},
   "outputs": [
    {
     "name": "stderr",
     "output_type": "stream",
     "text": [
      "/home/santiagortiz/anaconda3/lib/python3.7/site-packages/IPython/core/interactiveshell.py:2901: DtypeWarning: Columns (0) have mixed types. Specify dtype option on import or set low_memory=False.\n",
      "  if self.run_code(code, result):\n"
     ]
    }
   ],
   "source": [
    "TM = Transition_Matrix(\"real\",8300)\n",
    "RM = Reward_Matrix(8300)"
   ]
  },
  {
   "cell_type": "code",
   "execution_count": 7,
   "metadata": {},
   "outputs": [
    {
     "name": "stdout",
     "output_type": "stream",
     "text": [
      "[[0.00012048 0.00012048 0.00012048 ... 0.00012048 0.00012048 0.00012048]\n",
      " [0.00012048 0.00012048 0.00012048 ... 0.00012048 0.00012048 0.00012048]\n",
      " [0.00012048 0.00012048 0.00012048 ... 0.00012048 0.00012048 0.00012048]\n",
      " ...\n",
      " [0.00012048 0.00012048 0.00012048 ... 0.00012048 0.00012048 0.00012048]\n",
      " [0.00012048 0.00012048 0.00012048 ... 0.00012048 0.00012048 0.00012048]\n",
      " [0.00012048 0.00012048 0.00012048 ... 0.00012048 0.00012048 0.00012048]]\n",
      "[[35.38741965 51.15890903 37.3510395  ... 25.7338995  23.81370964\n",
      "  33.01305957]\n",
      " [26.12553498 33.14245277 28.99290137 ... 16.88869449 25.51819214\n",
      "  16.90822586]\n",
      " [16.57505477 26.12296497 39.42857092 ... 24.37974895  5.84872788\n",
      "  18.20304916]\n",
      " ...\n",
      " [31.8517845  32.93663997 26.97727385 ... 27.61828509 33.44572679\n",
      "  34.55520493]\n",
      " [16.72613984 35.77327227 26.08539488 ... 28.68544912 32.17874022\n",
      "  30.90317362]\n",
      " [12.51192145 35.36813887 30.2419344  ... 31.7864421  53.06788972\n",
      "  24.60993554]]\n"
     ]
    }
   ],
   "source": [
    "print(TM)\n",
    "print(RM)"
   ]
  },
  {
   "cell_type": "code",
   "execution_count": 8,
   "metadata": {},
   "outputs": [
    {
     "data": {
      "text/plain": [
       "array([[0.00012048, 0.00012048, 0.00012048, ..., 0.00012048, 0.00012048,\n",
       "        0.00012048]])"
      ]
     },
     "execution_count": 8,
     "metadata": {},
     "output_type": "execute_result"
    }
   ],
   "source": [
    "#Following the equation: vf = v0*Transition_Matrix(\"case\",n)\n",
    "vfmatrix = v0*TM\n",
    "vfarray = np.asarray(vfmatrix)\n",
    "vfarray"
   ]
  },
  {
   "cell_type": "code",
   "execution_count": 9,
   "metadata": {},
   "outputs": [
    {
     "name": "stdout",
     "output_type": "stream",
     "text": [
      "[[0.00426354 0.00616372 0.00450013 ... 0.00310047 0.00286912 0.00397748]\n",
      " [0.00314765 0.00399307 0.00349312 ... 0.00203478 0.00307448 0.00203714]\n",
      " [0.00199699 0.00314735 0.00475043 ... 0.00293732 0.00070467 0.00219314]\n",
      " ...\n",
      " [0.00383756 0.00396827 0.00325027 ... 0.0033275  0.00402961 0.00416328]\n",
      " [0.0020152  0.00431003 0.00314282 ... 0.00345608 0.00387696 0.00372327]\n",
      " [0.00150746 0.00426122 0.00364361 ... 0.00382969 0.00639372 0.00296505]]\n",
      "29.999618455040775\n"
     ]
    }
   ],
   "source": [
    "#The final reward vector:\n",
    "\n",
    "#RewardVector = v0*(Transition_Matrix(\"imaginary\",5)*Reward_Matrix(5))\n",
    "RewardVector = vfarray*RM\n",
    "print(RewardVector)\n",
    "\n",
    "#Now I will calculate the mean reward, given the initial state vector v0.\n",
    "MeanReward = np.sum(RewardVector)/np.shape(RewardVector)[1]\n",
    "print(MeanReward)"
   ]
  },
  {
   "cell_type": "code",
   "execution_count": 10,
   "metadata": {},
   "outputs": [
    {
     "name": "stdout",
     "output_type": "stream",
     "text": [
      "[[120.40161345 117.94395736 120.73418965 ... 119.49970223 119.90102902\n",
      "  120.54980189]]\n",
      "119.99754126595981\n"
     ]
    }
   ],
   "source": [
    "#For N transitions.\n",
    "N = 4\n",
    "\n",
    "from numpy.linalg import matrix_power\n",
    "RewardVectorN = (v0*(matrix_power(TM,N)))*(N*RM)\n",
    "print(RewardVectorN)\n",
    "\n",
    "MeanRewardN = np.sum(RewardVectorN)/np.shape(RewardVectorN)[1]\n",
    "print(MeanRewardN)"
   ]
  },
  {
   "cell_type": "code",
   "execution_count": 33,
   "metadata": {},
   "outputs": [],
   "source": [
    "def Matrix_Reduced(n, divi):\n",
    "    \n",
    "    #Importing the origin destination matrices as ODi (i=1,2,3,...)\n",
    "    OD1 = pd.read_csv('Demand_Jun_04_2011.csv', header=None)\n",
    "    OD2 = pd.read_csv('Demand_Jun_05_2011.csv', header=None)\n",
    "    OD3 = pd.read_csv('Demand_Jun_06_2011.csv', header=None)\n",
    "    OD4 = pd.read_csv('Demand_Jun_07_2011.csv', header=None)\n",
    "    OD5 = pd.read_csv('Demand_Jun_08_2011.csv', header=None)\n",
    "    \n",
    "    #This creates a numpy matrix with the values of the pandas matrices above.\n",
    "    OD1ValuesRaw = OD1.values\n",
    "    OD2ValuesRaw = OD2.values\n",
    "    OD3ValuesRaw = OD3.values    \n",
    "    OD4ValuesRaw = OD4.values\n",
    "    OD5ValuesRaw = OD5.values\n",
    "        \n",
    "    #This deletes the row and column headers\n",
    "    OD1Values = np.delete(OD1ValuesRaw,0,1)\n",
    "    OD1Values = np.delete(OD1Values,0,0)\n",
    "    OD2Values = np.delete(OD2ValuesRaw,0,1)\n",
    "    OD2Values = np.delete(OD2Values,0,0)\n",
    "    OD3Values = np.delete(OD3ValuesRaw,0,1)\n",
    "    OD3Values = np.delete(OD3Values,0,0)\n",
    "    OD4Values = np.delete(OD4ValuesRaw,0,1)\n",
    "    OD4Values = np.delete(OD4Values,0,0)\n",
    "    OD5Values = np.delete(OD5ValuesRaw,0,1)\n",
    "    OD5Values = np.delete(OD5Values,0,0)\n",
    "        \n",
    "    #This adds up the values of the specific day-time OD matrices.\n",
    "    sum1=np.add(OD1Values, OD2Values)\n",
    "    sum2=np.add(sum1, OD3Values)\n",
    "    sum3=np.add(sum2, OD4Values)\n",
    "    PreMeanMatrix_Int=np.add(sum3, OD5Values)\n",
    "        \n",
    "    #This changes the type of the values of the OD matrix.\n",
    "    PreMeanMatrix_Float=PreMeanMatrix_Int.astype(float)\n",
    "        \n",
    "    #This creates a Mean Matrix. This divides the Pre-Mean Matrix by N, the number of original matrices.\n",
    "    N=5\n",
    "    MeanMatrix_Float=(1/N)*PreMeanMatrix_Float\n",
    "        \n",
    "    #Now, this takes the big matrix and divides it in a (d,d) matrix. \n",
    "        \n",
    "    d=int(n/divi)\n",
    "        \n",
    "    ReducedMatrix=np.zeros((d,d))\n",
    "        \n",
    "    for nn in range(d):\n",
    "        for mm in range(d):\n",
    "            ReducedMatrix[nn,mm]=np.sum(MeanMatrix_Float[(nn*divi):((nn*divi)+divi),(mm*divi):((mm*divi)+divi)])\n",
    "        \n",
    "    \n",
    "    return ReducedMatrix\n",
    "        "
   ]
  },
  {
   "cell_type": "code",
   "execution_count": 57,
   "metadata": {},
   "outputs": [
    {
     "name": "stderr",
     "output_type": "stream",
     "text": [
      "/home/santiagortiz/anaconda3/lib/python3.7/site-packages/IPython/core/interactiveshell.py:2901: DtypeWarning: Columns (0) have mixed types. Specify dtype option on import or set low_memory=False.\n",
      "  if self.run_code(code, result):\n"
     ]
    }
   ],
   "source": [
    "Reduced_M = Matrix_Reduced(8300, 4150)"
   ]
  },
  {
   "cell_type": "code",
   "execution_count": 60,
   "metadata": {},
   "outputs": [
    {
     "name": "stdout",
     "output_type": "stream",
     "text": [
      "[[ 642.4  955.4]\n",
      " [ 594.  2667. ]]\n",
      "[[0.40205282 0.59794718]\n",
      " [0.18215271 0.81784729]]\n"
     ]
    }
   ],
   "source": [
    "print(Reduced_M)\n",
    "\n",
    "R_M = Reduced_M.copy()\n",
    "\n",
    "RowList = []\n",
    "\n",
    "for ii in range(R_M.shape[0]):\n",
    "    sf=np.sum(R_M[ii,:])\n",
    "    RowList.append(sf)\n",
    "    SumRowList=sum(RowList)\n",
    "    if sf!=0.0:\n",
    "        R_M[ii,:]=R_M[ii,:]/sf\n",
    "    else:\n",
    "        R_M[ii,:]=1.0/2\n",
    "        \n",
    "M_Transition=np.asmatrix(R_M)\n",
    "\n",
    "print(M_Transition)\n"
   ]
  },
  {
   "cell_type": "code",
   "execution_count": 64,
   "metadata": {},
   "outputs": [
    {
     "name": "stdout",
     "output_type": "stream",
     "text": [
      "[1236.3999999999999, 3622.399999999996]\n",
      "[0.2544661233226313, 0.7455338766773687]\n"
     ]
    }
   ],
   "source": [
    "#If you were in ii, you had this quantity of trips:\n",
    "\n",
    "trips_from_ii = []\n",
    "for ii in range ( np.shape(Reduced_M)[0] ):\n",
    "    trips_from_ii.append(np.sum(Reduced_M[:,ii]))\n",
    "    \n",
    "#And probability P_ii_any to move to some place.\n",
    "P_ii_any=[]\n",
    "for ii in range (2):\n",
    "    P_ii_any.append(trips_from_ii[ii]/np.sum(trips_from_ii))\n",
    "\n",
    "print(trips_from_ii)\n",
    "print(P_ii_any)\n"
   ]
  },
  {
   "cell_type": "code",
   "execution_count": 65,
   "metadata": {},
   "outputs": [
    {
     "name": "stdout",
     "output_type": "stream",
     "text": [
      "[1597.8000000000009, 3260.999999999995]\n",
      "[0.32884662879723436, 0.6711533712027656]\n"
     ]
    }
   ],
   "source": [
    "#trips to jj\n",
    "\n",
    "trips_to_jj = []\n",
    "for jj in range ( np.shape(Reduced_M)[1] ):\n",
    "    trips_to_jj.append(np.sum(Reduced_M[jj,:]))\n",
    "    \n",
    "#And probability P_any_jj to move to some place.\n",
    "P_any_jj=[]\n",
    "for jj in range (2):\n",
    "    P_any_jj.append(trips_to_jj[jj]/np.sum(trips_to_jj))\n",
    "\n",
    "print(trips_to_jj)\n",
    "print(P_any_jj)\n"
   ]
  },
  {
   "cell_type": "code",
   "execution_count": null,
   "metadata": {},
   "outputs": [],
   "source": []
  }
 ],
 "metadata": {
  "kernelspec": {
   "display_name": "Python 3",
   "language": "python",
   "name": "python3"
  },
  "language_info": {
   "codemirror_mode": {
    "name": "ipython",
    "version": 3
   },
   "file_extension": ".py",
   "mimetype": "text/x-python",
   "name": "python",
   "nbconvert_exporter": "python",
   "pygments_lexer": "ipython3",
   "version": "3.7.2"
  }
 },
 "nbformat": 4,
 "nbformat_minor": 2
}
