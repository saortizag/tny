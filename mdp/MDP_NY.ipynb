{
 "cells": [
  {
   "cell_type": "code",
   "execution_count": 1,
   "metadata": {},
   "outputs": [],
   "source": [
    "import numpy as np\n",
    "import pandas as pd\n",
    "from random import*\n",
    "import mdptoolbox\n",
    "import time"
   ]
  },
  {
   "cell_type": "code",
   "execution_count": null,
   "metadata": {},
   "outputs": [],
   "source": [
    "def Mean_Matrix():\n",
    "    \n",
    "    "
   ]
  },
  {
   "cell_type": "code",
   "execution_count": 2,
   "metadata": {},
   "outputs": [],
   "source": [
    "def Mean_Matrix1(case,n):\n",
    "    \n",
    "    if case==\"real\":\n",
    "        #Importing the origin destination matrices as ODi (i=1,2,3,...)\n",
    "        OD1 = pd.read_csv('Demand_Jun_04_2011.csv', header=None)\n",
    "        OD2 = pd.read_csv('Demand_Jun_05_2011.csv', header=None)\n",
    "        OD3 = pd.read_csv('Demand_Jun_06_2011.csv', header=None)\n",
    "        \n",
    "        #This creates a numpy matrix with the values of the pandas matrices above.\n",
    "        OD1ValuesRaw = OD1.values\n",
    "        OD2ValuesRaw = OD2.values\n",
    "        OD3ValuesRaw = OD3.values\n",
    "        \n",
    "        #This deletes the row and column headers\n",
    "        OD1Values = np.delete(OD1ValuesRaw,0,1)\n",
    "        OD1Values = np.delete(OD1Values,0,0)\n",
    "        OD2Values = np.delete(OD2ValuesRaw,0,1)\n",
    "        OD2Values = np.delete(OD2Values,0,0)\n",
    "        OD3Values = np.delete(OD3ValuesRaw,0,1)\n",
    "        OD3Values = np.delete(OD3Values,0,0)\n",
    "        \n",
    "        #This adds up the values of the specific day-time OD matrices.\n",
    "        sum1=np.add(OD1Values, OD2Values)\n",
    "        PreMeanMatrix1_Int=np.add(sum1, OD3Values)\n",
    "        \n",
    "        #This changes the type of the values of the OD matrix.\n",
    "        PreMeanMatrix1_Float=PreMeanMatrix1_Int.astype(float)\n",
    "\n",
    "        #This creates a Mean Matrix. This divides the Pre-Mean Matrix by N, the number of original matrices.\n",
    "        N_1 = 3\n",
    "        MeanMatrix1_Float=(1/N_1)*PreMeanMatrix1_Float\n",
    "\n",
    "        #Creating a copy of the previous matrix, a list of the sum of the row elements.\n",
    "        PreTransitionMatrix1=MeanMatrix1_Float.copy()\n",
    "             \n",
    "        MeanMatrix1=np.asmatrix(MeanMatrix1_Float.copy())\n",
    "\n",
    "        return MeanMatrix1\n",
    "    \n",
    "    else:\n",
    "        pass"
   ]
  },
  {
   "cell_type": "code",
   "execution_count": 3,
   "metadata": {},
   "outputs": [],
   "source": [
    "def Mean_Matrix2(case,n):\n",
    "    \n",
    "    if case==\"real\":\n",
    "        #Importing the origin destination matrices as ODi (i=1,2,3,...)        \n",
    "        OD4 = pd.read_csv('Demand_Jun_07_2011.csv', header=None)\n",
    "        OD5 = pd.read_csv('Demand_Jun_08_2011.csv', header=None)\n",
    "        \n",
    "        #This creates a numpy matrix with the values of the pandas matrices above.        \n",
    "        OD4ValuesRaw = OD4.values\n",
    "        OD5ValuesRaw = OD5.values\n",
    "        \n",
    "        #This deletes the row and column headers\n",
    "        OD4Values = np.delete(OD4ValuesRaw,0,1)\n",
    "        OD4Values = np.delete(OD4Values,0,0)\n",
    "        OD5Values = np.delete(OD5ValuesRaw,0,1)\n",
    "        OD5Values = np.delete(OD5Values,0,0)\n",
    "        \n",
    "        #This adds up the values of the specific day-time OD matrices.\n",
    "        PreMeanMatrix2_Int=np.add(OD4Values, OD5Values)\n",
    "        \n",
    "        #This changes the type of the values of the OD matrix.\n",
    "        PreMeanMatrix2_Float=PreMeanMatrix2_Int.astype(float)\n",
    "        \n",
    "        #This creates a Mean Matrix. This divides the Pre-Mean Matrix by N, the number of original matrices.\n",
    "        N_2 = 2\n",
    "        MeanMatrix2_Float=(1/N_2)*PreMeanMatrix2_Float\n",
    "        \n",
    "        #Creating a copy of the previous matrix, a list of the sum of the row elements.\n",
    "        PreTransitionMatrix2=MeanMatrix2_Float.copy()\n",
    "        \n",
    "        MeanMatrix2=np.asmatrix(MeanMatrix2_Float.copy())\n",
    "        \n",
    "        return MeanMatrix2\n",
    "    \n",
    "    else:\n",
    "        pass"
   ]
  },
  {
   "cell_type": "code",
   "execution_count": 4,
   "metadata": {},
   "outputs": [
    {
     "name": "stderr",
     "output_type": "stream",
     "text": [
      "/home/santiagortiz/anaconda3/lib/python3.7/site-packages/IPython/core/interactiveshell.py:2901: DtypeWarning: Columns (0) have mixed types. Specify dtype option on import or set low_memory=False.\n",
      "  if self.run_code(code, result):\n"
     ]
    },
    {
     "name": "stdout",
     "output_type": "stream",
     "text": [
      "76.60527563095093\n"
     ]
    }
   ],
   "source": [
    "ti=time.time()\n",
    "MM1 = Mean_Matrix1(\"real\", 8300)\n",
    "print(time.time()-ti)"
   ]
  },
  {
   "cell_type": "code",
   "execution_count": 5,
   "metadata": {},
   "outputs": [
    {
     "name": "stderr",
     "output_type": "stream",
     "text": [
      "/home/santiagortiz/anaconda3/lib/python3.7/site-packages/IPython/core/interactiveshell.py:2901: DtypeWarning: Columns (0) have mixed types. Specify dtype option on import or set low_memory=False.\n",
      "  if self.run_code(code, result):\n"
     ]
    },
    {
     "name": "stdout",
     "output_type": "stream",
     "text": [
      "36.710004806518555\n"
     ]
    }
   ],
   "source": [
    "ti=time.time()\n",
    "MM2 = Mean_Matrix2(\"real\", 8300)\n",
    "print(time.time()-ti)"
   ]
  },
  {
   "cell_type": "code",
   "execution_count": 6,
   "metadata": {},
   "outputs": [
    {
     "name": "stdout",
     "output_type": "stream",
     "text": [
      "[[0. 0. 0. ... 0. 0. 0.]\n",
      " [0. 0. 0. ... 0. 0. 0.]\n",
      " [0. 0. 0. ... 0. 0. 0.]\n",
      " ...\n",
      " [0. 0. 0. ... 0. 0. 0.]\n",
      " [0. 0. 0. ... 0. 0. 0.]\n",
      " [0. 0. 0. ... 0. 0. 0.]]\n"
     ]
    }
   ],
   "source": [
    "print(MM1)"
   ]
  },
  {
   "cell_type": "code",
   "execution_count": 7,
   "metadata": {},
   "outputs": [
    {
     "name": "stdout",
     "output_type": "stream",
     "text": [
      "[[0. 0. 0. ... 0. 0. 0.]\n",
      " [0. 0. 0. ... 0. 0. 0.]\n",
      " [0. 0. 0. ... 0. 0. 0.]\n",
      " ...\n",
      " [0. 0. 0. ... 0. 0. 0.]\n",
      " [0. 0. 0. ... 0. 0. 0.]\n",
      " [0. 0. 0. ... 0. 0. 0.]]\n"
     ]
    }
   ],
   "source": [
    "print(MM2)"
   ]
  },
  {
   "cell_type": "code",
   "execution_count": 3,
   "metadata": {},
   "outputs": [],
   "source": [
    "NewMM1 = np.empty((10,10), dtype=int)\n",
    "NewMM2 = np.empty((10,10), dtype=int)\n",
    "l = 830"
   ]
  },
  {
   "cell_type": "markdown",
   "metadata": {},
   "source": [
    "ti=time.time()\n",
    "suma00 = 0.0\n",
    "for ii in range(0, l):\n",
    "    for jj in range(0, l):\n",
    "        suma00 = suma00 + MM[ii,jj]\n",
    "    for jj in range()\n",
    "\n",
    "for ii in range(l, 2*l):\n",
    "    for jj in range(l, 2*l)\n",
    "\n",
    "print(time.time()-ti)"
   ]
  },
  {
   "cell_type": "code",
   "execution_count": 16,
   "metadata": {},
   "outputs": [
    {
     "data": {
      "text/plain": [
       "array([[0.5   , 0.    ],\n",
       "       [0.0625, 0.875 ],\n",
       "       [0.    , 0.    ]])"
      ]
     },
     "execution_count": 16,
     "metadata": {},
     "output_type": "execute_result"
    }
   ],
   "source": [
    "TT=np.array([[0.5   , 0.    , 0.5   ],\n",
    "              [0.0625, 0.875 , 0.0625],\n",
    "              [0.    , 0.    , 1.    ]]\n",
    "            )\n",
    "\n",
    "TTB = TT[0:3,0:2]\n",
    "\n",
    "TTB\n",
    "\n",
    "\n",
    "#suma = 0.0\n",
    "\n",
    "#for ii in range(0,2):\n",
    "#    for jj in range(0,2):\n",
    "#        suma = suma + TT[ii,jj]\n",
    "#print(suma)\n",
    "#print(0.5 + 0.0625 + 0.875)\n",
    "#NewTT = np.empty((10,10), dtype=int)\n",
    "#NewTT[0,0] = np.sum(TT[0:2,0:2])\n",
    "#print(NewTT)"
   ]
  },
  {
   "cell_type": "code",
   "execution_count": 9,
   "metadata": {},
   "outputs": [],
   "source": [
    "#because it wouldn't work with nested loops.\n",
    "\n",
    "NewMM1[0,0] = np.sum(MM1[0*l:1*l, 0:(0+1)*l])\n",
    "NewMM1[1,0] = np.sum(MM1[1*l:2*l, 0:(0+1)*l])\n",
    "NewMM1[2,0] = np.sum(MM1[2*l:3*l, 0:(0+1)*l])\n",
    "NewMM1[3,0] = np.sum(MM1[3*l:4*l, 0:(0+1)*l])\n",
    "NewMM1[4,0] = np.sum(MM1[4*l:5*l, 0:(0+1)*l])\n",
    "NewMM1[5,0] = np.sum(MM1[5*l:6*l, 0:(0+1)*l])\n",
    "NewMM1[6,0] = np.sum(MM1[6*l:7*l, 0:(0+1)*l])\n",
    "NewMM1[7,0] = np.sum(MM1[7*l:8*l, 0:(0+1)*l])\n",
    "NewMM1[8,0] = np.sum(MM1[8*l:9*l, 0:(0+1)*l])\n",
    "NewMM1[9,0] = np.sum(MM1[9*l:10*l, 0:(0+1)*l])    \n",
    "NewMM1[0,1] = np.sum(MM1[0*l:1*l, 1*l:(1+1)*l])\n",
    "NewMM1[1,1] = np.sum(MM1[1*l:2*l, 1*l:(1+1)*l])\n",
    "NewMM1[2,1] = np.sum(MM1[2*l:3*l, 1*l:(1+1)*l])\n",
    "NewMM1[3,1] = np.sum(MM1[3*l:4*l, 1*l:(1+1)*l])\n",
    "NewMM1[4,1] = np.sum(MM1[4*l:5*l, 1*l:(1+1)*l])\n",
    "NewMM1[5,1] = np.sum(MM1[5*l:6*l, 1*l:(1+1)*l])\n",
    "NewMM1[6,1] = np.sum(MM1[6*l:7*l, 1*l:(1+1)*l])\n",
    "NewMM1[7,1] = np.sum(MM1[7*l:8*l, 1*l:(1+1)*l])\n",
    "NewMM1[8,1] = np.sum(MM1[8*l:9*l, 1*l:(1+1)*l])\n",
    "NewMM1[9,1] = np.sum(MM1[9*l:10*l, 1*l:(1+1)*l])\n",
    "NewMM1[0,2] = np.sum(MM1[0*l:1*l, 2*l:(2+1)*l])\n",
    "NewMM1[1,2] = np.sum(MM1[1*l:2*l, 2*l:(2+1)*l])\n",
    "NewMM1[2,2] = np.sum(MM1[2*l:3*l, 2*l:(2+1)*l])\n",
    "NewMM1[3,2] = np.sum(MM1[3*l:4*l, 2*l:(2+1)*l])\n",
    "NewMM1[4,2] = np.sum(MM1[4*l:5*l, 2*l:(2+1)*l])\n",
    "NewMM1[5,2] = np.sum(MM1[5*l:6*l, 2*l:(2+1)*l])\n",
    "NewMM1[6,2] = np.sum(MM1[6*l:7*l, 2*l:(2+1)*l])\n",
    "NewMM1[7,2] = np.sum(MM1[7*l:8*l, 2*l:(2+1)*l])\n",
    "NewMM1[8,2] = np.sum(MM1[8*l:9*l, 2*l:(2+1)*l])\n",
    "NewMM1[9,2] = np.sum(MM1[9*l:10*l, 2*l:(2+1)*l])\n",
    "NewMM1[0,3] = np.sum(MM1[0*l:1*l, 3*l:(3+1)*l])\n",
    "NewMM1[1,3] = np.sum(MM1[1*l:2*l, 3*l:(3+1)*l])\n",
    "NewMM1[2,3] = np.sum(MM1[2*l:3*l, 3*l:(3+1)*l])\n",
    "NewMM1[3,3] = np.sum(MM1[3*l:4*l, 3*l:(3+1)*l])\n",
    "NewMM1[4,3] = np.sum(MM1[4*l:5*l, 3*l:(3+1)*l])\n",
    "NewMM1[5,3] = np.sum(MM1[5*l:6*l, 3*l:(3+1)*l])\n",
    "NewMM1[6,3] = np.sum(MM1[6*l:7*l, 3*l:(3+1)*l])\n",
    "NewMM1[7,3] = np.sum(MM1[7*l:8*l, 3*l:(3+1)*l])\n",
    "NewMM1[8,3] = np.sum(MM1[8*l:9*l, 3*l:(3+1)*l])\n",
    "NewMM1[9,3] = np.sum(MM1[9*l:10*l, 3*l:(3+1)*l])\n",
    "NewMM1[0,4] = np.sum(MM1[0*l:1*l, 4*l:(4+1)*l])\n",
    "NewMM1[1,4] = np.sum(MM1[1*l:2*l, 4*l:(4+1)*l])\n",
    "NewMM1[2,4] = np.sum(MM1[2*l:3*l, 4*l:(4+1)*l])\n",
    "NewMM1[3,4] = np.sum(MM1[3*l:4*l, 4*l:(4+1)*l])\n",
    "NewMM1[4,4] = np.sum(MM1[4*l:5*l, 4*l:(4+1)*l])\n",
    "NewMM1[5,4] = np.sum(MM1[5*l:6*l, 4*l:(4+1)*l])\n",
    "NewMM1[6,4] = np.sum(MM1[6*l:7*l, 4*l:(4+1)*l])\n",
    "NewMM1[7,4] = np.sum(MM1[7*l:8*l, 4*l:(4+1)*l])\n",
    "NewMM1[8,4] = np.sum(MM1[8*l:9*l, 4*l:(4+1)*l])\n",
    "NewMM1[9,4] = np.sum(MM1[9*l:10*l, 4*l:(4+1)*l])\n",
    "NewMM1[0,5] = np.sum(MM1[0*l:1*l, 5*l:(5+1)*l])\n",
    "NewMM1[1,5] = np.sum(MM1[1*l:2*l, 5*l:(5+1)*l])\n",
    "NewMM1[2,5] = np.sum(MM1[2*l:3*l, 5*l:(5+1)*l])\n",
    "NewMM1[3,5] = np.sum(MM1[3*l:4*l, 5*l:(5+1)*l])\n",
    "NewMM1[4,5] = np.sum(MM1[4*l:5*l, 5*l:(5+1)*l])\n",
    "NewMM1[5,5] = np.sum(MM1[5*l:6*l, 5*l:(5+1)*l])\n",
    "NewMM1[6,5] = np.sum(MM1[6*l:7*l, 5*l:(5+1)*l])\n",
    "NewMM1[7,5] = np.sum(MM1[7*l:8*l, 5*l:(5+1)*l])\n",
    "NewMM1[8,5] = np.sum(MM1[8*l:9*l, 5*l:(5+1)*l])\n",
    "NewMM1[9,5] = np.sum(MM1[9*l:10*l, 5*l:(5+1)*l])\n",
    "NewMM1[0,6] = np.sum(MM1[0*l:1*l, 6*l:(6+1)*l])\n",
    "NewMM1[1,6] = np.sum(MM1[1*l:2*l, 6*l:(6+1)*l])\n",
    "NewMM1[2,6] = np.sum(MM1[2*l:3*l, 6*l:(6+1)*l])\n",
    "NewMM1[3,6] = np.sum(MM1[3*l:4*l, 6*l:(6+1)*l])\n",
    "NewMM1[4,6] = np.sum(MM1[4*l:5*l, 6*l:(6+1)*l])\n",
    "NewMM1[5,6] = np.sum(MM1[5*l:6*l, 6*l:(6+1)*l])\n",
    "NewMM1[6,6] = np.sum(MM1[6*l:7*l, 6*l:(6+1)*l])\n",
    "NewMM1[7,6] = np.sum(MM1[7*l:8*l, 6*l:(6+1)*l])\n",
    "NewMM1[8,6] = np.sum(MM1[8*l:9*l, 6*l:(6+1)*l])\n",
    "NewMM1[9,6] = np.sum(MM1[9*l:10*l, 6*l:(6+1)*l])\n",
    "NewMM1[0,7] = np.sum(MM1[0*l:1*l, 7*l:(7+1)*l])\n",
    "NewMM1[1,7] = np.sum(MM1[1*l:2*l, 7*l:(7+1)*l])\n",
    "NewMM1[2,7] = np.sum(MM1[2*l:3*l, 7*l:(7+1)*l])\n",
    "NewMM1[3,7] = np.sum(MM1[3*l:4*l, 7*l:(7+1)*l])\n",
    "NewMM1[4,7] = np.sum(MM1[4*l:5*l, 7*l:(7+1)*l])\n",
    "NewMM1[5,7] = np.sum(MM1[5*l:6*l, 7*l:(7+1)*l])\n",
    "NewMM1[6,7] = np.sum(MM1[6*l:7*l, 7*l:(7+1)*l])\n",
    "NewMM1[7,7] = np.sum(MM1[7*l:8*l, 7*l:(7+1)*l])\n",
    "NewMM1[8,7] = np.sum(MM1[8*l:9*l, 7*l:(7+1)*l])\n",
    "NewMM1[9,7] = np.sum(MM1[9*l:10*l, 7*l:(7+1)*l])\n",
    "NewMM1[0,8] = np.sum(MM1[0*l:1*l, 8*l:(8+1)*l])\n",
    "NewMM1[1,8] = np.sum(MM1[1*l:2*l, 8*l:(8+1)*l])\n",
    "NewMM1[2,8] = np.sum(MM1[2*l:3*l, 8*l:(8+1)*l])\n",
    "NewMM1[3,8] = np.sum(MM1[3*l:4*l, 8*l:(8+1)*l])\n",
    "NewMM1[4,8] = np.sum(MM1[4*l:5*l, 8*l:(8+1)*l])\n",
    "NewMM1[5,8] = np.sum(MM1[5*l:6*l, 8*l:(8+1)*l])\n",
    "NewMM1[6,8] = np.sum(MM1[6*l:7*l, 8*l:(8+1)*l])\n",
    "NewMM1[7,8] = np.sum(MM1[7*l:8*l, 8*l:(8+1)*l])\n",
    "NewMM1[8,8] = np.sum(MM1[8*l:9*l, 8*l:(8+1)*l])\n",
    "NewMM1[9,8] = np.sum(MM1[9*l:10*l, 8*l:(8+1)*l])\n",
    "NewMM1[0,9] = np.sum(MM1[0*l:1*l, 9*l:(9+1)*l])\n",
    "NewMM1[1,9] = np.sum(MM1[1*l:2*l, 9*l:(9+1)*l])\n",
    "NewMM1[2,9] = np.sum(MM1[2*l:3*l, 9*l:(9+1)*l])\n",
    "NewMM1[3,9] = np.sum(MM1[3*l:4*l, 9*l:(9+1)*l])\n",
    "NewMM1[4,9] = np.sum(MM1[4*l:5*l, 9*l:(9+1)*l])\n",
    "NewMM1[5,9] = np.sum(MM1[5*l:6*l, 9*l:(9+1)*l])\n",
    "NewMM1[6,9] = np.sum(MM1[6*l:7*l, 9*l:(9+1)*l])\n",
    "NewMM1[7,9] = np.sum(MM1[7*l:8*l, 9*l:(9+1)*l])\n",
    "NewMM1[8,9] = np.sum(MM1[8*l:9*l, 9*l:(9+1)*l])\n",
    "NewMM1[9,9] = np.sum(MM1[9*l:10*l, 9*l:(9+1)*l])\n",
    "\n",
    "#because it wouldn't work with nested loops.\n",
    "\n",
    "NewMM2[0,0] = np.sum(MM2[0*l:1*l, 0:(0+1)*l])\n",
    "NewMM2[1,0] = np.sum(MM2[1*l:2*l, 0:(0+1)*l])\n",
    "NewMM2[2,0] = np.sum(MM2[2*l:3*l, 0:(0+1)*l])\n",
    "NewMM2[3,0] = np.sum(MM2[3*l:4*l, 0:(0+1)*l])\n",
    "NewMM2[4,0] = np.sum(MM2[4*l:5*l, 0:(0+1)*l])\n",
    "NewMM2[5,0] = np.sum(MM2[5*l:6*l, 0:(0+1)*l])\n",
    "NewMM2[6,0] = np.sum(MM2[6*l:7*l, 0:(0+1)*l])\n",
    "NewMM2[7,0] = np.sum(MM2[7*l:8*l, 0:(0+1)*l])\n",
    "NewMM2[8,0] = np.sum(MM2[8*l:9*l, 0:(0+1)*l])\n",
    "NewMM2[9,0] = np.sum(MM2[9*l:10*l, 0:(0+1)*l])    \n",
    "NewMM2[0,1] = np.sum(MM2[0*l:1*l, 1*l:(1+1)*l])\n",
    "NewMM2[1,1] = np.sum(MM2[1*l:2*l, 1*l:(1+1)*l])\n",
    "NewMM2[2,1] = np.sum(MM2[2*l:3*l, 1*l:(1+1)*l])\n",
    "NewMM2[3,1] = np.sum(MM2[3*l:4*l, 1*l:(1+1)*l])\n",
    "NewMM2[4,1] = np.sum(MM2[4*l:5*l, 1*l:(1+1)*l])\n",
    "NewMM2[5,1] = np.sum(MM2[5*l:6*l, 1*l:(1+1)*l])\n",
    "NewMM2[6,1] = np.sum(MM2[6*l:7*l, 1*l:(1+1)*l])\n",
    "NewMM2[7,1] = np.sum(MM2[7*l:8*l, 1*l:(1+1)*l])\n",
    "NewMM2[8,1] = np.sum(MM2[8*l:9*l, 1*l:(1+1)*l])\n",
    "NewMM2[9,1] = np.sum(MM2[9*l:10*l, 1*l:(1+1)*l])\n",
    "NewMM2[0,2] = np.sum(MM2[0*l:1*l, 2*l:(2+1)*l])\n",
    "NewMM2[1,2] = np.sum(MM2[1*l:2*l, 2*l:(2+1)*l])\n",
    "NewMM2[2,2] = np.sum(MM2[2*l:3*l, 2*l:(2+1)*l])\n",
    "NewMM2[3,2] = np.sum(MM2[3*l:4*l, 2*l:(2+1)*l])\n",
    "NewMM2[4,2] = np.sum(MM2[4*l:5*l, 2*l:(2+1)*l])\n",
    "NewMM2[5,2] = np.sum(MM2[5*l:6*l, 2*l:(2+1)*l])\n",
    "NewMM2[6,2] = np.sum(MM2[6*l:7*l, 2*l:(2+1)*l])\n",
    "NewMM2[7,2] = np.sum(MM2[7*l:8*l, 2*l:(2+1)*l])\n",
    "NewMM2[8,2] = np.sum(MM2[8*l:9*l, 2*l:(2+1)*l])\n",
    "NewMM2[9,2] = np.sum(MM2[9*l:10*l, 2*l:(2+1)*l])\n",
    "NewMM2[0,3] = np.sum(MM2[0*l:1*l, 3*l:(3+1)*l])\n",
    "NewMM2[1,3] = np.sum(MM2[1*l:2*l, 3*l:(3+1)*l])\n",
    "NewMM2[2,3] = np.sum(MM2[2*l:3*l, 3*l:(3+1)*l])\n",
    "NewMM2[3,3] = np.sum(MM2[3*l:4*l, 3*l:(3+1)*l])\n",
    "NewMM2[4,3] = np.sum(MM2[4*l:5*l, 3*l:(3+1)*l])\n",
    "NewMM2[5,3] = np.sum(MM2[5*l:6*l, 3*l:(3+1)*l])\n",
    "NewMM2[6,3] = np.sum(MM2[6*l:7*l, 3*l:(3+1)*l])\n",
    "NewMM2[7,3] = np.sum(MM2[7*l:8*l, 3*l:(3+1)*l])\n",
    "NewMM2[8,3] = np.sum(MM2[8*l:9*l, 3*l:(3+1)*l])\n",
    "NewMM2[9,3] = np.sum(MM2[9*l:10*l, 3*l:(3+1)*l])\n",
    "NewMM2[0,4] = np.sum(MM2[0*l:1*l, 4*l:(4+1)*l])\n",
    "NewMM2[1,4] = np.sum(MM2[1*l:2*l, 4*l:(4+1)*l])\n",
    "NewMM2[2,4] = np.sum(MM2[2*l:3*l, 4*l:(4+1)*l])\n",
    "NewMM2[3,4] = np.sum(MM2[3*l:4*l, 4*l:(4+1)*l])\n",
    "NewMM2[4,4] = np.sum(MM2[4*l:5*l, 4*l:(4+1)*l])\n",
    "NewMM2[5,4] = np.sum(MM2[5*l:6*l, 4*l:(4+1)*l])\n",
    "NewMM2[6,4] = np.sum(MM2[6*l:7*l, 4*l:(4+1)*l])\n",
    "NewMM2[7,4] = np.sum(MM2[7*l:8*l, 4*l:(4+1)*l])\n",
    "NewMM2[8,4] = np.sum(MM2[8*l:9*l, 4*l:(4+1)*l])\n",
    "NewMM2[9,4] = np.sum(MM2[9*l:10*l, 4*l:(4+1)*l])\n",
    "NewMM2[0,5] = np.sum(MM2[0*l:1*l, 5*l:(5+1)*l])\n",
    "NewMM2[1,5] = np.sum(MM2[1*l:2*l, 5*l:(5+1)*l])\n",
    "NewMM2[2,5] = np.sum(MM2[2*l:3*l, 5*l:(5+1)*l])\n",
    "NewMM2[3,5] = np.sum(MM2[3*l:4*l, 5*l:(5+1)*l])\n",
    "NewMM2[4,5] = np.sum(MM2[4*l:5*l, 5*l:(5+1)*l])\n",
    "NewMM2[5,5] = np.sum(MM2[5*l:6*l, 5*l:(5+1)*l])\n",
    "NewMM2[6,5] = np.sum(MM2[6*l:7*l, 5*l:(5+1)*l])\n",
    "NewMM2[7,5] = np.sum(MM2[7*l:8*l, 5*l:(5+1)*l])\n",
    "NewMM2[8,5] = np.sum(MM2[8*l:9*l, 5*l:(5+1)*l])\n",
    "NewMM2[9,5] = np.sum(MM2[9*l:10*l, 5*l:(5+1)*l])\n",
    "NewMM2[0,6] = np.sum(MM2[0*l:1*l, 6*l:(6+1)*l])\n",
    "NewMM2[1,6] = np.sum(MM2[1*l:2*l, 6*l:(6+1)*l])\n",
    "NewMM2[2,6] = np.sum(MM2[2*l:3*l, 6*l:(6+1)*l])\n",
    "NewMM2[3,6] = np.sum(MM2[3*l:4*l, 6*l:(6+1)*l])\n",
    "NewMM2[4,6] = np.sum(MM2[4*l:5*l, 6*l:(6+1)*l])\n",
    "NewMM2[5,6] = np.sum(MM2[5*l:6*l, 6*l:(6+1)*l])\n",
    "NewMM2[6,6] = np.sum(MM2[6*l:7*l, 6*l:(6+1)*l])\n",
    "NewMM2[7,6] = np.sum(MM2[7*l:8*l, 6*l:(6+1)*l])\n",
    "NewMM2[8,6] = np.sum(MM2[8*l:9*l, 6*l:(6+1)*l])\n",
    "NewMM2[9,6] = np.sum(MM2[9*l:10*l, 6*l:(6+1)*l])\n",
    "NewMM2[0,7] = np.sum(MM2[0*l:1*l, 7*l:(7+1)*l])\n",
    "NewMM2[1,7] = np.sum(MM2[1*l:2*l, 7*l:(7+1)*l])\n",
    "NewMM2[2,7] = np.sum(MM2[2*l:3*l, 7*l:(7+1)*l])\n",
    "NewMM2[3,7] = np.sum(MM2[3*l:4*l, 7*l:(7+1)*l])\n",
    "NewMM2[4,7] = np.sum(MM2[4*l:5*l, 7*l:(7+1)*l])\n",
    "NewMM2[5,7] = np.sum(MM2[5*l:6*l, 7*l:(7+1)*l])\n",
    "NewMM2[6,7] = np.sum(MM2[6*l:7*l, 7*l:(7+1)*l])\n",
    "NewMM2[7,7] = np.sum(MM2[7*l:8*l, 7*l:(7+1)*l])\n",
    "NewMM2[8,7] = np.sum(MM2[8*l:9*l, 7*l:(7+1)*l])\n",
    "NewMM2[9,7] = np.sum(MM2[9*l:10*l, 7*l:(7+1)*l])\n",
    "NewMM2[0,8] = np.sum(MM2[0*l:1*l, 8*l:(8+1)*l])\n",
    "NewMM2[1,8] = np.sum(MM2[1*l:2*l, 8*l:(8+1)*l])\n",
    "NewMM2[2,8] = np.sum(MM2[2*l:3*l, 8*l:(8+1)*l])\n",
    "NewMM2[3,8] = np.sum(MM2[3*l:4*l, 8*l:(8+1)*l])\n",
    "NewMM2[4,8] = np.sum(MM2[4*l:5*l, 8*l:(8+1)*l])\n",
    "NewMM2[5,8] = np.sum(MM2[5*l:6*l, 8*l:(8+1)*l])\n",
    "NewMM2[6,8] = np.sum(MM2[6*l:7*l, 8*l:(8+1)*l])\n",
    "NewMM2[7,8] = np.sum(MM2[7*l:8*l, 8*l:(8+1)*l])\n",
    "NewMM2[8,8] = np.sum(MM2[8*l:9*l, 8*l:(8+1)*l])\n",
    "NewMM2[9,8] = np.sum(MM2[9*l:10*l, 8*l:(8+1)*l])\n",
    "NewMM2[0,9] = np.sum(MM2[0*l:1*l, 9*l:(9+1)*l])\n",
    "NewMM2[1,9] = np.sum(MM2[1*l:2*l, 9*l:(9+1)*l])\n",
    "NewMM2[2,9] = np.sum(MM2[2*l:3*l, 9*l:(9+1)*l])\n",
    "NewMM2[3,9] = np.sum(MM2[3*l:4*l, 9*l:(9+1)*l])\n",
    "NewMM2[4,9] = np.sum(MM2[4*l:5*l, 9*l:(9+1)*l])\n",
    "NewMM2[5,9] = np.sum(MM2[5*l:6*l, 9*l:(9+1)*l])\n",
    "NewMM2[6,9] = np.sum(MM2[6*l:7*l, 9*l:(9+1)*l])\n",
    "NewMM2[7,9] = np.sum(MM2[7*l:8*l, 9*l:(9+1)*l])\n",
    "NewMM2[8,9] = np.sum(MM2[8*l:9*l, 9*l:(9+1)*l])\n",
    "NewMM2[9,9] = np.sum(MM2[9*l:10*l, 9*l:(9+1)*l])"
   ]
  },
  {
   "cell_type": "markdown",
   "metadata": {},
   "source": [
    "Now I will create two 10x10 matrices that have the condensed information of the 8300x8300 matrices."
   ]
  },
  {
   "cell_type": "code",
   "execution_count": 10,
   "metadata": {},
   "outputs": [
    {
     "data": {
      "text/plain": [
       "array([[   0,    0,    0,    0,    0,    0,    0,    0,    0,    0],\n",
       "       [   0,    0,    0,    0,    0,    0,    0,    0,    0,    0],\n",
       "       [   0,    0,    2,    2,    3,    2,    0,    0,    0,    0],\n",
       "       [   0,    0,    4,   20,   60,   64,    3,    0,    0,    0],\n",
       "       [   0,    0,    7,   26,  574, 1019,   10,    1,    0,    0],\n",
       "       [   0,    0,    6,   29,  621, 2750,  122,    8,    0,    0],\n",
       "       [   0,    0,    1,    2,   16,  126,   49,    1,    0,    0],\n",
       "       [   0,    0,    0,    0,    0,    0,    0,    1,    0,    0],\n",
       "       [   0,    0,    0,    0,    0,    0,    0,    0,    0,    0],\n",
       "       [   0,    0,    0,    0,    0,    0,    0,    0,    0,    0]])"
      ]
     },
     "execution_count": 10,
     "metadata": {},
     "output_type": "execute_result"
    }
   ],
   "source": [
    "NewMM1"
   ]
  },
  {
   "cell_type": "code",
   "execution_count": 11,
   "metadata": {},
   "outputs": [
    {
     "data": {
      "text/plain": [
       "array([[   0,    0,    0,    0,    0,    0,    0,    0,    0,    0],\n",
       "       [   0,    0,    0,    0,    0,    0,    0,    0,    0,    0],\n",
       "       [   0,    0,    2,    1,    2,    4,    0,    0,    0,    0],\n",
       "       [   0,    0,    3,   26,   42,   55,    2,    1,    0,    0],\n",
       "       [   0,    0,    3,   28,  440,  659,   10,    2,    0,    0],\n",
       "       [   0,    0,    9,   36,  404, 1842,   72,    8,    2,    0],\n",
       "       [   0,    0,    0,    2,   16,  101,   43,    1,    0,    0],\n",
       "       [   0,    0,    0,    0,    0,    1,    0,    1,    0,    0],\n",
       "       [   0,    0,    0,    0,    0,    0,    0,    0,    0,    0],\n",
       "       [   0,    0,    0,    0,    0,    0,    0,    0,    0,    0]])"
      ]
     },
     "execution_count": 11,
     "metadata": {},
     "output_type": "execute_result"
    }
   ],
   "source": [
    "NewMM2"
   ]
  },
  {
   "cell_type": "code",
   "execution_count": 50,
   "metadata": {},
   "outputs": [],
   "source": [
    "def Reward_Matrix1(n):\n",
    "    RewardMatrix1=np.zeros((n,n))\n",
    "    for ii in range(n):\n",
    "            for jj in range(n):\n",
    "                RewardMatrix1[ii,jj]=normalvariate(31.0,9.0)\n",
    "    return RewardMatrix1"
   ]
  },
  {
   "cell_type": "code",
   "execution_count": 51,
   "metadata": {},
   "outputs": [],
   "source": [
    "def Reward_Matrix2(n):\n",
    "    RewardMatrix2=np.zeros((n,n))\n",
    "    for ii in range(n):\n",
    "            for jj in range(n):\n",
    "                RewardMatrix2[ii,jj]=normalvariate(30.0,5.0)\n",
    "    return RewardMatrix2"
   ]
  },
  {
   "cell_type": "code",
   "execution_count": 52,
   "metadata": {},
   "outputs": [],
   "source": [
    "#Creating the reward matrices.\n",
    "R1=Reward_Matrix1(10)\n",
    "R2=Reward_Matrix2(10)"
   ]
  },
  {
   "cell_type": "code",
   "execution_count": 53,
   "metadata": {},
   "outputs": [],
   "source": [
    "#Creating the initial policy vector.\n",
    "p0 = np.array([1,1,1,1,1,1,1,1,1,1])"
   ]
  },
  {
   "cell_type": "code",
   "execution_count": 54,
   "metadata": {},
   "outputs": [
    {
     "data": {
      "text/plain": [
       "10"
      ]
     },
     "execution_count": 54,
     "metadata": {},
     "output_type": "execute_result"
    }
   ],
   "source": [
    "NewMM1.shape[0]"
   ]
  },
  {
   "cell_type": "code",
   "execution_count": 55,
   "metadata": {},
   "outputs": [
    {
     "data": {
      "text/plain": [
       "array([[1.00000000e-01, 1.00000000e-01, 1.00000000e-01, 1.00000000e-01,\n",
       "        1.00000000e-01, 1.00000000e-01, 1.00000000e-01, 1.00000000e-01,\n",
       "        1.00000000e-01, 1.00000000e-01],\n",
       "       [1.00000000e-01, 1.00000000e-01, 1.00000000e-01, 1.00000000e-01,\n",
       "        1.00000000e-01, 1.00000000e-01, 1.00000000e-01, 1.00000000e-01,\n",
       "        1.00000000e-01, 1.00000000e-01],\n",
       "       [0.00000000e+00, 0.00000000e+00, 2.22222222e-01, 2.22222222e-01,\n",
       "        3.33333333e-01, 2.22222222e-01, 0.00000000e+00, 0.00000000e+00,\n",
       "        0.00000000e+00, 0.00000000e+00],\n",
       "       [0.00000000e+00, 0.00000000e+00, 2.64900662e-02, 1.32450331e-01,\n",
       "        3.97350993e-01, 4.23841060e-01, 1.98675497e-02, 0.00000000e+00,\n",
       "        0.00000000e+00, 0.00000000e+00],\n",
       "       [0.00000000e+00, 0.00000000e+00, 4.27611484e-03, 1.58827123e-02,\n",
       "        3.50641417e-01, 6.22480147e-01, 6.10873549e-03, 6.10873549e-04,\n",
       "        0.00000000e+00, 0.00000000e+00],\n",
       "       [0.00000000e+00, 0.00000000e+00, 1.69683258e-03, 8.20135747e-03,\n",
       "        1.75622172e-01, 7.77714932e-01, 3.45022624e-02, 2.26244344e-03,\n",
       "        0.00000000e+00, 0.00000000e+00],\n",
       "       [0.00000000e+00, 0.00000000e+00, 5.12820513e-03, 1.02564103e-02,\n",
       "        8.20512821e-02, 6.46153846e-01, 2.51282051e-01, 5.12820513e-03,\n",
       "        0.00000000e+00, 0.00000000e+00],\n",
       "       [0.00000000e+00, 0.00000000e+00, 0.00000000e+00, 0.00000000e+00,\n",
       "        0.00000000e+00, 0.00000000e+00, 0.00000000e+00, 1.00000000e+00,\n",
       "        0.00000000e+00, 0.00000000e+00],\n",
       "       [1.00000000e-01, 1.00000000e-01, 1.00000000e-01, 1.00000000e-01,\n",
       "        1.00000000e-01, 1.00000000e-01, 1.00000000e-01, 1.00000000e-01,\n",
       "        1.00000000e-01, 1.00000000e-01],\n",
       "       [1.00000000e-01, 1.00000000e-01, 1.00000000e-01, 1.00000000e-01,\n",
       "        1.00000000e-01, 1.00000000e-01, 1.00000000e-01, 1.00000000e-01,\n",
       "        1.00000000e-01, 1.00000000e-01]])"
      ]
     },
     "execution_count": 55,
     "metadata": {},
     "output_type": "execute_result"
    }
   ],
   "source": [
    "#This is the process to transform the Mean Matrix in the Transition Matrix\n",
    "\n",
    "MMM1 = NewMM1.copy()\n",
    "MMM1\n",
    "\n",
    "T1 = np.zeros((10,10), dtype=float)\n",
    "\n",
    "for ii in range (0,10):\n",
    "    sf1 = np.sum(MMM1[ii,:])\n",
    "    if sf1 != 0:\n",
    "        T1[ii,:] = MMM1[ii,:]/(np.sum(MMM1[ii,:]))\n",
    "    else:\n",
    "        T1[ii,:] = 1/10\n",
    "T1"
   ]
  },
  {
   "cell_type": "code",
   "execution_count": 56,
   "metadata": {},
   "outputs": [
    {
     "data": {
      "text/plain": [
       "array([[0.1       , 0.1       , 0.1       , 0.1       , 0.1       ,\n",
       "        0.1       , 0.1       , 0.1       , 0.1       , 0.1       ],\n",
       "       [0.1       , 0.1       , 0.1       , 0.1       , 0.1       ,\n",
       "        0.1       , 0.1       , 0.1       , 0.1       , 0.1       ],\n",
       "       [0.        , 0.        , 0.22222222, 0.11111111, 0.22222222,\n",
       "        0.44444444, 0.        , 0.        , 0.        , 0.        ],\n",
       "       [0.        , 0.        , 0.02325581, 0.20155039, 0.3255814 ,\n",
       "        0.42635659, 0.01550388, 0.00775194, 0.        , 0.        ],\n",
       "       [0.        , 0.        , 0.00262697, 0.02451839, 0.38528897,\n",
       "        0.57705779, 0.00875657, 0.00175131, 0.        , 0.        ],\n",
       "       [0.        , 0.        , 0.00379267, 0.01517067, 0.17024863,\n",
       "        0.77623262, 0.03034134, 0.00337126, 0.00084282, 0.        ],\n",
       "       [0.        , 0.        , 0.        , 0.01226994, 0.09815951,\n",
       "        0.6196319 , 0.26380368, 0.00613497, 0.        , 0.        ],\n",
       "       [0.        , 0.        , 0.        , 0.        , 0.        ,\n",
       "        0.5       , 0.        , 0.5       , 0.        , 0.        ],\n",
       "       [0.1       , 0.1       , 0.1       , 0.1       , 0.1       ,\n",
       "        0.1       , 0.1       , 0.1       , 0.1       , 0.1       ],\n",
       "       [0.1       , 0.1       , 0.1       , 0.1       , 0.1       ,\n",
       "        0.1       , 0.1       , 0.1       , 0.1       , 0.1       ]])"
      ]
     },
     "execution_count": 56,
     "metadata": {},
     "output_type": "execute_result"
    }
   ],
   "source": [
    "#This is the process to transform the Mean Matrix in the Transition Matrix\n",
    "\n",
    "MMM2 = NewMM2.copy()\n",
    "MMM2\n",
    "\n",
    "T2 = np.zeros((10,10), dtype=float)\n",
    "\n",
    "for ii in range (0,10):\n",
    "    sf2 = np.sum(MMM2[ii,:])\n",
    "    if sf2 != 0:\n",
    "        T2[ii,:] = MMM2[ii,:]/(np.sum(MMM2[ii,:]))\n",
    "    else:\n",
    "        T2[ii,:] = 1/10\n",
    "T2"
   ]
  },
  {
   "cell_type": "code",
   "execution_count": 57,
   "metadata": {},
   "outputs": [
    {
     "data": {
      "text/plain": [
       "(2, 10, 10)"
      ]
     },
     "execution_count": 57,
     "metadata": {},
     "output_type": "execute_result"
    }
   ],
   "source": [
    "T = np.array([T1,T2])\n",
    "T.shape"
   ]
  },
  {
   "cell_type": "code",
   "execution_count": 58,
   "metadata": {},
   "outputs": [
    {
     "data": {
      "text/plain": [
       "(2, 10, 10)"
      ]
     },
     "execution_count": 58,
     "metadata": {},
     "output_type": "execute_result"
    }
   ],
   "source": [
    "R = np.array([R1,R2])\n",
    "R.shape"
   ]
  },
  {
   "cell_type": "code",
   "execution_count": 59,
   "metadata": {},
   "outputs": [],
   "source": [
    "pi = mdptoolbox.mdp.PolicyIteration(T, R, 0.1, policy0=p0)"
   ]
  },
  {
   "cell_type": "code",
   "execution_count": 60,
   "metadata": {},
   "outputs": [],
   "source": [
    "pi.run()"
   ]
  },
  {
   "cell_type": "code",
   "execution_count": 61,
   "metadata": {},
   "outputs": [
    {
     "data": {
      "text/plain": [
       "(1, 0, 0, 1, 0, 1, 1, 1, 0, 1)"
      ]
     },
     "execution_count": 61,
     "metadata": {},
     "output_type": "execute_result"
    }
   ],
   "source": [
    "pi.policy"
   ]
  },
  {
   "cell_type": "code",
   "execution_count": 62,
   "metadata": {},
   "outputs": [
    {
     "data": {
      "text/plain": [
       "(34.87967086268432,\n",
       " 36.266310752296995,\n",
       " 37.81416133786079,\n",
       " 39.722429009753526,\n",
       " 41.292264080118954,\n",
       " 44.03414148657187,\n",
       " 30.31138683185166,\n",
       " 41.11525797830183,\n",
       " 37.075000433036934,\n",
       " 34.47614944211456)"
      ]
     },
     "execution_count": 62,
     "metadata": {},
     "output_type": "execute_result"
    }
   ],
   "source": [
    "pi.V"
   ]
  },
  {
   "cell_type": "code",
   "execution_count": 63,
   "metadata": {},
   "outputs": [
    {
     "data": {
      "text/plain": [
       "0.004553079605102539"
      ]
     },
     "execution_count": 63,
     "metadata": {},
     "output_type": "execute_result"
    }
   ],
   "source": [
    "pi.time"
   ]
  },
  {
   "cell_type": "code",
   "execution_count": null,
   "metadata": {},
   "outputs": [],
   "source": []
  }
 ],
 "metadata": {
  "kernelspec": {
   "display_name": "Python 3",
   "language": "python",
   "name": "python3"
  },
  "language_info": {
   "codemirror_mode": {
    "name": "ipython",
    "version": 3
   },
   "file_extension": ".py",
   "mimetype": "text/x-python",
   "name": "python",
   "nbconvert_exporter": "python",
   "pygments_lexer": "ipython3",
   "version": "3.7.2"
  }
 },
 "nbformat": 4,
 "nbformat_minor": 2
}
