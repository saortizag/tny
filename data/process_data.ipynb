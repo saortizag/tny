{
 "cells": [
  {
   "cell_type": "code",
   "execution_count": 1,
   "metadata": {},
   "outputs": [],
   "source": [
    "import pandas as pd\n",
    "import numpy as np\n",
    "import os\n",
    "import pathlib\n",
    "import matplotlib.pyplot as plt\n",
    "%matplotlib inline"
   ]
  },
  {
   "cell_type": "code",
   "execution_count": 2,
   "metadata": {},
   "outputs": [
    {
     "data": {
      "text/plain": [
       "'/mnt/EC86AD3086ACFC68/unal/tny/data'"
      ]
     },
     "execution_count": 2,
     "metadata": {},
     "output_type": "execute_result"
    }
   ],
   "source": [
    "cwd = os.getcwd()\n",
    "cwd"
   ]
  },
  {
   "cell_type": "code",
   "execution_count": 3,
   "metadata": {},
   "outputs": [],
   "source": [
    "def load_data(csv):\n",
    "    return pd.read_csv(csv, index_col=0)"
   ]
  },
  {
   "cell_type": "code",
   "execution_count": 4,
   "metadata": {},
   "outputs": [],
   "source": [
    "def save_list_2_csv(list_, name, path):\n",
    "    \"list_: list to save; name: file name\"\n",
    "    pd.DataFrame({name:list(list_)}).to_csv(os.path.join(path, name+'.csv'))\n",
    "    print(\"--- List was saved as: \"+name+\".csv\")"
   ]
  },
  {
   "cell_type": "code",
   "execution_count": 5,
   "metadata": {},
   "outputs": [],
   "source": [
    "def time_elements2int(array_):\n",
    "    for list_ in array_:\n",
    "        for ii in range(len(list_)):\n",
    "            if list_[ii] == '00':\n",
    "                list_[ii] = 0\n",
    "            elif list_[ii][0] == '0':\n",
    "                list_[ii] = int(list_[ii][1])\n",
    "            else:\n",
    "                list_[ii] = int(list_[ii])\n",
    "    return array_"
   ]
  },
  {
   "cell_type": "code",
   "execution_count": 6,
   "metadata": {},
   "outputs": [],
   "source": [
    "def date_elements2int(list_):\n",
    "    for date in list_:\n",
    "        date[0] = int(date[0])\n",
    "        if date[1].startswith(\"0\"):\n",
    "            date[1] = int(date[1][1])\n",
    "        else:\n",
    "            date[1] = int(date[1])\n",
    "        if date[2].startswith(\"0\"):\n",
    "            date[2] = int(date[2][1])\n",
    "        else:\n",
    "            date[2] = int(date[2])\n",
    "    return list_"
   ]
  },
  {
   "cell_type": "code",
   "execution_count": 7,
   "metadata": {},
   "outputs": [],
   "source": [
    "def total_times(do_hour, do_min, do_sec, pu_hour, pu_min, pu_sec):\n",
    "    assert len(pu_min) == len(do_min)\n",
    "    range_ = len(pu_min)\n",
    "    total_times_list = []\n",
    "    for ii in range(range_):\n",
    "        hour_diff = do_hour[ii] - pu_hour[ii]\n",
    "        mins_diff = do_min[ii] - pu_min[ii]\n",
    "        secs_diff = do_sec[ii] - pu_sec[ii]\n",
    "        if hour_diff < 0:\n",
    "            hour_diff = 24+hour_diff  \n",
    "        if mins_diff < 0:\n",
    "            mins_diff = 60+mins_diff\n",
    "        if secs_diff < 0:\n",
    "            secs_diff = 60+secs_diff    \n",
    "        total_time = hour_diff*60*60 + mins_diff*60 + secs_diff\n",
    "        total_times_list.append(total_time)\n",
    "    return total_times_list"
   ]
  },
  {
   "cell_type": "markdown",
   "metadata": {},
   "source": [
    "# LOAD"
   ]
  },
  {
   "cell_type": "code",
   "execution_count": 8,
   "metadata": {},
   "outputs": [
    {
     "name": "stderr",
     "output_type": "stream",
     "text": [
      "/home/santiago/anaconda3/envs/tny/lib/python3.7/site-packages/numpy/lib/arraysetops.py:568: FutureWarning: elementwise comparison failed; returning scalar instead, but in the future will perform elementwise comparison\n",
      "  mask |= (ar1 == a)\n"
     ]
    },
    {
     "data": {
      "text/plain": [
       "Index(['tpep_pickup_datetime', 'tpep_dropoff_datetime', 'passenger_count',\n",
       "       'trip_distance', 'RatecodeID', 'store_and_fwd_flag', 'PULocationID',\n",
       "       'DOLocationID', 'payment_type', 'fare_amount', 'extra', 'mta_tax',\n",
       "       'tip_amount', 'tolls_amount', 'improvement_surcharge', 'total_amount',\n",
       "       'congestion_surcharge'],\n",
       "      dtype='object')"
      ]
     },
     "execution_count": 8,
     "metadata": {},
     "output_type": "execute_result"
    }
   ],
   "source": [
    "base = load_data(\"yellow_tripdata_2019-03.csv\")\n",
    "base.columns"
   ]
  },
  {
   "cell_type": "markdown",
   "metadata": {},
   "source": [
    "# PROCESS"
   ]
  },
  {
   "cell_type": "code",
   "execution_count": 9,
   "metadata": {},
   "outputs": [
    {
     "data": {
      "text/plain": [
       "Index(['pu_year', 'pu_month', 'pu_day', 'do_year', 'do_month', 'do_day',\n",
       "       'trip_distance', 'total_amount', 'pu_hour', 'pu_min', 'pu_sec',\n",
       "       'do_hour', 'do_min', 'do_sec', 'RatecodeID'],\n",
       "      dtype='object')"
      ]
     },
     "execution_count": 9,
     "metadata": {},
     "output_type": "execute_result"
    }
   ],
   "source": [
    "base = base[['tpep_pickup_datetime', 'tpep_dropoff_datetime',\n",
    "             'trip_distance', 'fare_amount', 'total_amount', 'RatecodeID']]\n",
    "\n",
    "# datetime -> date, time\n",
    "base[[\"pu_date\", \"pu_time\"]] = base[\"tpep_pickup_datetime\"].str.split(\" \", expand=True)\n",
    "base[[\"do_date\", \"do_time\"]] = base[\"tpep_dropoff_datetime\"].str.split(\" \", expand=True)\n",
    "base = base[['pu_date', 'pu_time', 'do_date', 'do_time', 'trip_distance', \n",
    "             'total_amount', 'RatecodeID']]\n",
    "\n",
    "# date -> year, month, day\n",
    "base[[\"pu_year\", \"pu_month\", \"pu_day\"]] = base[\"pu_date\"].str.split(\"-\", expand=True)\n",
    "base[[\"do_year\", \"do_month\", \"do_day\"]] = base[\"do_date\"].str.split(\"-\", expand=True)\n",
    "base = base[['pu_year', 'pu_month', 'pu_day', 'pu_time', 'do_year', 'do_month', \n",
    "             'do_day', 'do_time','trip_distance', 'total_amount', 'RatecodeID']]\n",
    "\n",
    "# time -> hour, min, sec\n",
    "base[['pu_hour', 'pu_min', 'pu_sec']] = base['pu_time'].str.split(\":\", expand=True)\n",
    "base[['do_hour', 'do_min', 'do_sec']] = base['do_time'].str.split(\":\", expand=True)\n",
    "base = base[['pu_year', 'pu_month', 'pu_day', 'do_year', 'do_month',\n",
    "             'do_day', 'trip_distance', 'total_amount', 'pu_hour',\n",
    "             'pu_min', 'pu_sec', 'do_hour', 'do_min', 'do_sec', 'RatecodeID']]\n",
    "\n",
    "base.columns"
   ]
  },
  {
   "cell_type": "code",
   "execution_count": 10,
   "metadata": {},
   "outputs": [
    {
     "data": {
      "text/plain": [
       "Index(['pu_year', 'pu_month', 'pu_day', 'do_year', 'do_month', 'do_day',\n",
       "       'trip_distance', 'total_amount', 'RatecodeID', 'pu_hour', 'pu_min',\n",
       "       'pu_sec', 'do_hour', 'do_min', 'do_sec'],\n",
       "      dtype='object')"
      ]
     },
     "execution_count": 10,
     "metadata": {},
     "output_type": "execute_result"
    }
   ],
   "source": [
    "# times str to int\n",
    "\n",
    "times = {'pu_hour':list(base.pu_hour), 'pu_min':list(base.pu_min), \n",
    "         'pu_sec':list(base.pu_sec), 'do_hour':list(base.do_hour), \n",
    "         'do_min':list(base.do_min), 'do_sec':list(base.do_sec)}\n",
    "\n",
    "for ii in range(len(base)):\n",
    "    # pu\n",
    "    if times[\"pu_hour\"][ii][0]==\"0\":\n",
    "        times[\"pu_hour\"][ii] = int(times[\"pu_hour\"][ii][1])\n",
    "    else:\n",
    "        times[\"pu_hour\"][ii] = int(times[\"pu_hour\"][ii])\n",
    "    \n",
    "    if times[\"pu_min\"][ii][0]==\"0\":\n",
    "        times[\"pu_min\"][ii] = int(times[\"pu_min\"][ii][1])\n",
    "    else:\n",
    "        times[\"pu_min\"][ii] = int(times[\"pu_min\"][ii])\n",
    "    \n",
    "    if times[\"pu_sec\"][ii][0]==\"0\":\n",
    "        times[\"pu_sec\"][ii] = int(times[\"pu_sec\"][ii][1])\n",
    "    else:\n",
    "        times[\"pu_sec\"][ii] = int(times[\"pu_sec\"][ii])\n",
    "        \n",
    "    # do\n",
    "    if times[\"do_hour\"][ii][0]==\"0\":\n",
    "        times[\"do_hour\"][ii] = int(times[\"do_hour\"][ii][1])\n",
    "    else:\n",
    "        times[\"do_hour\"][ii] = int(times[\"do_hour\"][ii])\n",
    "    \n",
    "    if times[\"do_min\"][ii][0]==\"0\":\n",
    "        times[\"do_min\"][ii] = int(times[\"do_min\"][ii][1])\n",
    "    else:\n",
    "        times[\"do_min\"][ii] = int(times[\"do_min\"][ii])\n",
    "    \n",
    "    if times[\"do_sec\"][ii][0]==\"0\":\n",
    "        times[\"do_sec\"][ii] = int(times[\"do_sec\"][ii][1])\n",
    "    else:\n",
    "        times[\"do_sec\"][ii] = int(times[\"do_sec\"][ii])\n",
    "        \n",
    "drop_list = ['pu_hour', 'pu_min', 'pu_sec', 'do_hour', \n",
    "                         'do_min', 'do_sec']\n",
    "\n",
    "base = base.drop(columns=drop_list)\n",
    "\n",
    "for col in drop_list:\n",
    "    base[col] = times[col]\n",
    "\n",
    "base.columns"
   ]
  },
  {
   "cell_type": "code",
   "execution_count": 11,
   "metadata": {},
   "outputs": [
    {
     "data": {
      "text/plain": [
       "Index(['pu_year', 'pu_month', 'pu_day', 'do_year', 'do_month', 'do_day',\n",
       "       'trip_distance', 'total_amount', 'RatecodeID', 'pu_hour', 'pu_min',\n",
       "       'pu_sec', 'do_hour', 'do_min', 'do_sec', 'trip_time(s)'],\n",
       "      dtype='object')"
      ]
     },
     "execution_count": 11,
     "metadata": {},
     "output_type": "execute_result"
    }
   ],
   "source": [
    "trip_times = total_times(list(base[\"do_hour\"]), list(base[\"do_min\"]), \n",
    "                         list(base[\"do_sec\"]), list(base[\"pu_hour\"]), \n",
    "                         list(base[\"pu_min\"]), list(base[\"pu_sec\"]))\n",
    "\n",
    "base[\"trip_time(s)\"] = trip_times\n",
    "\n",
    "base.columns"
   ]
  },
  {
   "cell_type": "markdown",
   "metadata": {},
   "source": [
    "# CLEANING"
   ]
  },
  {
   "cell_type": "code",
   "execution_count": 12,
   "metadata": {},
   "outputs": [],
   "source": [
    "base = base[(base.trip_distance<201) & (base.trip_distance>0.05)]\n",
    "base = base[(base.total_amount<650) & (base.total_amount>0.5)]\n",
    "base = base[(base.pu_year==\"2019\") & (base.do_year==\"2019\")]\n",
    "base = base[(base.pu_month==\"03\") & (base.do_month==\"03\")]"
   ]
  },
  {
   "cell_type": "code",
   "execution_count": 13,
   "metadata": {},
   "outputs": [
    {
     "data": {
      "text/html": [
       "<div>\n",
       "<style scoped>\n",
       "    .dataframe tbody tr th:only-of-type {\n",
       "        vertical-align: middle;\n",
       "    }\n",
       "\n",
       "    .dataframe tbody tr th {\n",
       "        vertical-align: top;\n",
       "    }\n",
       "\n",
       "    .dataframe thead th {\n",
       "        text-align: right;\n",
       "    }\n",
       "</style>\n",
       "<table border=\"1\" class=\"dataframe\">\n",
       "  <thead>\n",
       "    <tr style=\"text-align: right;\">\n",
       "      <th></th>\n",
       "      <th>pu_year</th>\n",
       "      <th>pu_month</th>\n",
       "      <th>pu_day</th>\n",
       "      <th>do_year</th>\n",
       "      <th>do_month</th>\n",
       "      <th>do_day</th>\n",
       "      <th>trip_distance</th>\n",
       "      <th>total_amount</th>\n",
       "      <th>RatecodeID</th>\n",
       "      <th>pu_hour</th>\n",
       "      <th>pu_min</th>\n",
       "      <th>pu_sec</th>\n",
       "      <th>do_hour</th>\n",
       "      <th>do_min</th>\n",
       "      <th>do_sec</th>\n",
       "      <th>trip_time(s)</th>\n",
       "    </tr>\n",
       "    <tr>\n",
       "      <th>VendorID</th>\n",
       "      <th></th>\n",
       "      <th></th>\n",
       "      <th></th>\n",
       "      <th></th>\n",
       "      <th></th>\n",
       "      <th></th>\n",
       "      <th></th>\n",
       "      <th></th>\n",
       "      <th></th>\n",
       "      <th></th>\n",
       "      <th></th>\n",
       "      <th></th>\n",
       "      <th></th>\n",
       "      <th></th>\n",
       "      <th></th>\n",
       "      <th></th>\n",
       "    </tr>\n",
       "  </thead>\n",
       "  <tbody>\n",
       "    <tr>\n",
       "      <th>1</th>\n",
       "      <td>2019</td>\n",
       "      <td>03</td>\n",
       "      <td>02</td>\n",
       "      <td>2019</td>\n",
       "      <td>03</td>\n",
       "      <td>03</td>\n",
       "      <td>200.90</td>\n",
       "      <td>471.30</td>\n",
       "      <td>5</td>\n",
       "      <td>22</td>\n",
       "      <td>3</td>\n",
       "      <td>47</td>\n",
       "      <td>1</td>\n",
       "      <td>0</td>\n",
       "      <td>3</td>\n",
       "      <td>14236</td>\n",
       "    </tr>\n",
       "    <tr>\n",
       "      <th>1</th>\n",
       "      <td>2019</td>\n",
       "      <td>03</td>\n",
       "      <td>24</td>\n",
       "      <td>2019</td>\n",
       "      <td>03</td>\n",
       "      <td>24</td>\n",
       "      <td>150.90</td>\n",
       "      <td>450.00</td>\n",
       "      <td>5</td>\n",
       "      <td>15</td>\n",
       "      <td>8</td>\n",
       "      <td>54</td>\n",
       "      <td>17</td>\n",
       "      <td>51</td>\n",
       "      <td>57</td>\n",
       "      <td>9783</td>\n",
       "    </tr>\n",
       "    <tr>\n",
       "      <th>2</th>\n",
       "      <td>2019</td>\n",
       "      <td>03</td>\n",
       "      <td>22</td>\n",
       "      <td>2019</td>\n",
       "      <td>03</td>\n",
       "      <td>22</td>\n",
       "      <td>142.98</td>\n",
       "      <td>300.86</td>\n",
       "      <td>5</td>\n",
       "      <td>11</td>\n",
       "      <td>42</td>\n",
       "      <td>12</td>\n",
       "      <td>14</td>\n",
       "      <td>16</td>\n",
       "      <td>34</td>\n",
       "      <td>12862</td>\n",
       "    </tr>\n",
       "    <tr>\n",
       "      <th>2</th>\n",
       "      <td>2019</td>\n",
       "      <td>03</td>\n",
       "      <td>24</td>\n",
       "      <td>2019</td>\n",
       "      <td>03</td>\n",
       "      <td>24</td>\n",
       "      <td>139.44</td>\n",
       "      <td>368.82</td>\n",
       "      <td>1</td>\n",
       "      <td>10</td>\n",
       "      <td>38</td>\n",
       "      <td>38</td>\n",
       "      <td>13</td>\n",
       "      <td>30</td>\n",
       "      <td>49</td>\n",
       "      <td>13931</td>\n",
       "    </tr>\n",
       "    <tr>\n",
       "      <th>2</th>\n",
       "      <td>2019</td>\n",
       "      <td>03</td>\n",
       "      <td>16</td>\n",
       "      <td>2019</td>\n",
       "      <td>03</td>\n",
       "      <td>16</td>\n",
       "      <td>131.51</td>\n",
       "      <td>256.06</td>\n",
       "      <td>5</td>\n",
       "      <td>15</td>\n",
       "      <td>37</td>\n",
       "      <td>39</td>\n",
       "      <td>18</td>\n",
       "      <td>26</td>\n",
       "      <td>5</td>\n",
       "      <td>13766</td>\n",
       "    </tr>\n",
       "  </tbody>\n",
       "</table>\n",
       "</div>"
      ],
      "text/plain": [
       "         pu_year pu_month pu_day do_year do_month do_day  trip_distance  \\\n",
       "VendorID                                                                  \n",
       "1           2019       03     02    2019       03     03         200.90   \n",
       "1           2019       03     24    2019       03     24         150.90   \n",
       "2           2019       03     22    2019       03     22         142.98   \n",
       "2           2019       03     24    2019       03     24         139.44   \n",
       "2           2019       03     16    2019       03     16         131.51   \n",
       "\n",
       "          total_amount  RatecodeID  pu_hour  pu_min  pu_sec  do_hour  do_min  \\\n",
       "VendorID                                                                       \n",
       "1               471.30           5       22       3      47        1       0   \n",
       "1               450.00           5       15       8      54       17      51   \n",
       "2               300.86           5       11      42      12       14      16   \n",
       "2               368.82           1       10      38      38       13      30   \n",
       "2               256.06           5       15      37      39       18      26   \n",
       "\n",
       "          do_sec  trip_time(s)  \n",
       "VendorID                        \n",
       "1              3         14236  \n",
       "1             57          9783  \n",
       "2             34         12862  \n",
       "2             49         13931  \n",
       "2              5         13766  "
      ]
     },
     "execution_count": 13,
     "metadata": {},
     "output_type": "execute_result"
    }
   ],
   "source": [
    "base.sort_values(by=[\"trip_distance\"], ascending=False).head()"
   ]
  },
  {
   "cell_type": "code",
   "execution_count": 14,
   "metadata": {},
   "outputs": [
    {
     "data": {
      "text/html": [
       "<div>\n",
       "<style scoped>\n",
       "    .dataframe tbody tr th:only-of-type {\n",
       "        vertical-align: middle;\n",
       "    }\n",
       "\n",
       "    .dataframe tbody tr th {\n",
       "        vertical-align: top;\n",
       "    }\n",
       "\n",
       "    .dataframe thead th {\n",
       "        text-align: right;\n",
       "    }\n",
       "</style>\n",
       "<table border=\"1\" class=\"dataframe\">\n",
       "  <thead>\n",
       "    <tr style=\"text-align: right;\">\n",
       "      <th></th>\n",
       "      <th>pu_year</th>\n",
       "      <th>pu_month</th>\n",
       "      <th>pu_day</th>\n",
       "      <th>do_year</th>\n",
       "      <th>do_month</th>\n",
       "      <th>do_day</th>\n",
       "      <th>trip_distance</th>\n",
       "      <th>total_amount</th>\n",
       "      <th>RatecodeID</th>\n",
       "      <th>pu_hour</th>\n",
       "      <th>pu_min</th>\n",
       "      <th>pu_sec</th>\n",
       "      <th>do_hour</th>\n",
       "      <th>do_min</th>\n",
       "      <th>do_sec</th>\n",
       "      <th>trip_time(s)</th>\n",
       "    </tr>\n",
       "    <tr>\n",
       "      <th>VendorID</th>\n",
       "      <th></th>\n",
       "      <th></th>\n",
       "      <th></th>\n",
       "      <th></th>\n",
       "      <th></th>\n",
       "      <th></th>\n",
       "      <th></th>\n",
       "      <th></th>\n",
       "      <th></th>\n",
       "      <th></th>\n",
       "      <th></th>\n",
       "      <th></th>\n",
       "      <th></th>\n",
       "      <th></th>\n",
       "      <th></th>\n",
       "      <th></th>\n",
       "    </tr>\n",
       "  </thead>\n",
       "  <tbody>\n",
       "    <tr>\n",
       "      <th>2</th>\n",
       "      <td>2019</td>\n",
       "      <td>03</td>\n",
       "      <td>10</td>\n",
       "      <td>2019</td>\n",
       "      <td>03</td>\n",
       "      <td>10</td>\n",
       "      <td>0.06</td>\n",
       "      <td>6.3</td>\n",
       "      <td>1</td>\n",
       "      <td>21</td>\n",
       "      <td>4</td>\n",
       "      <td>9</td>\n",
       "      <td>21</td>\n",
       "      <td>4</td>\n",
       "      <td>37</td>\n",
       "      <td>28</td>\n",
       "    </tr>\n",
       "    <tr>\n",
       "      <th>2</th>\n",
       "      <td>2019</td>\n",
       "      <td>03</td>\n",
       "      <td>07</td>\n",
       "      <td>2019</td>\n",
       "      <td>03</td>\n",
       "      <td>07</td>\n",
       "      <td>0.06</td>\n",
       "      <td>4.3</td>\n",
       "      <td>1</td>\n",
       "      <td>16</td>\n",
       "      <td>54</td>\n",
       "      <td>47</td>\n",
       "      <td>16</td>\n",
       "      <td>55</td>\n",
       "      <td>29</td>\n",
       "      <td>102</td>\n",
       "    </tr>\n",
       "    <tr>\n",
       "      <th>2</th>\n",
       "      <td>2019</td>\n",
       "      <td>03</td>\n",
       "      <td>30</td>\n",
       "      <td>2019</td>\n",
       "      <td>03</td>\n",
       "      <td>30</td>\n",
       "      <td>0.06</td>\n",
       "      <td>3.3</td>\n",
       "      <td>1</td>\n",
       "      <td>8</td>\n",
       "      <td>40</td>\n",
       "      <td>38</td>\n",
       "      <td>8</td>\n",
       "      <td>40</td>\n",
       "      <td>51</td>\n",
       "      <td>13</td>\n",
       "    </tr>\n",
       "    <tr>\n",
       "      <th>2</th>\n",
       "      <td>2019</td>\n",
       "      <td>03</td>\n",
       "      <td>08</td>\n",
       "      <td>2019</td>\n",
       "      <td>03</td>\n",
       "      <td>08</td>\n",
       "      <td>0.06</td>\n",
       "      <td>4.3</td>\n",
       "      <td>1</td>\n",
       "      <td>18</td>\n",
       "      <td>42</td>\n",
       "      <td>10</td>\n",
       "      <td>18</td>\n",
       "      <td>42</td>\n",
       "      <td>43</td>\n",
       "      <td>33</td>\n",
       "    </tr>\n",
       "    <tr>\n",
       "      <th>2</th>\n",
       "      <td>2019</td>\n",
       "      <td>03</td>\n",
       "      <td>17</td>\n",
       "      <td>2019</td>\n",
       "      <td>03</td>\n",
       "      <td>17</td>\n",
       "      <td>0.06</td>\n",
       "      <td>6.3</td>\n",
       "      <td>1</td>\n",
       "      <td>14</td>\n",
       "      <td>11</td>\n",
       "      <td>25</td>\n",
       "      <td>14</td>\n",
       "      <td>12</td>\n",
       "      <td>49</td>\n",
       "      <td>84</td>\n",
       "    </tr>\n",
       "  </tbody>\n",
       "</table>\n",
       "</div>"
      ],
      "text/plain": [
       "         pu_year pu_month pu_day do_year do_month do_day  trip_distance  \\\n",
       "VendorID                                                                  \n",
       "2           2019       03     10    2019       03     10           0.06   \n",
       "2           2019       03     07    2019       03     07           0.06   \n",
       "2           2019       03     30    2019       03     30           0.06   \n",
       "2           2019       03     08    2019       03     08           0.06   \n",
       "2           2019       03     17    2019       03     17           0.06   \n",
       "\n",
       "          total_amount  RatecodeID  pu_hour  pu_min  pu_sec  do_hour  do_min  \\\n",
       "VendorID                                                                       \n",
       "2                  6.3           1       21       4       9       21       4   \n",
       "2                  4.3           1       16      54      47       16      55   \n",
       "2                  3.3           1        8      40      38        8      40   \n",
       "2                  4.3           1       18      42      10       18      42   \n",
       "2                  6.3           1       14      11      25       14      12   \n",
       "\n",
       "          do_sec  trip_time(s)  \n",
       "VendorID                        \n",
       "2             37            28  \n",
       "2             29           102  \n",
       "2             51            13  \n",
       "2             43            33  \n",
       "2             49            84  "
      ]
     },
     "execution_count": 14,
     "metadata": {},
     "output_type": "execute_result"
    }
   ],
   "source": [
    "base.sort_values(by=[\"trip_distance\"], ascending=False).tail()"
   ]
  },
  {
   "cell_type": "markdown",
   "metadata": {},
   "source": [
    "# FILTERING"
   ]
  },
  {
   "cell_type": "markdown",
   "metadata": {},
   "source": [
    "## BY DAY"
   ]
  },
  {
   "cell_type": "code",
   "execution_count": 15,
   "metadata": {},
   "outputs": [],
   "source": [
    "fridays = ['01', '08', '15', '22', '29']\n",
    "saturdays = ['02', '09', '16', '23', '30']\n",
    "sundays = ['03', '10', '17', '24', '31']\n",
    "mondays = ['04', '11', '18', '25']\n",
    "tuesdays = ['05', '12', '19', '26']\n",
    "wednesdays = ['06', '13', '20', '27']\n",
    "thursdays = ['07', '14', '21', '28']"
   ]
  },
  {
   "cell_type": "code",
   "execution_count": 16,
   "metadata": {},
   "outputs": [],
   "source": [
    "monday = base[(base.pu_day==mondays[0])]\n",
    "tuesday = base[(base.pu_day==tuesdays[0])]\n",
    "wednesday = base[(base.pu_day==wednesdays[0])]\n",
    "thursday = base[(base.pu_day==thursdays[0])]\n",
    "friday = base[(base.pu_day==fridays[0])]\n",
    "saturday = base[(base.pu_day==saturdays[0])]\n",
    "sunday = base[(base.pu_day==sundays[0])]\n",
    "\n",
    "days_list = [friday, saturday, sunday, monday, tuesday, wednesday, thursday]"
   ]
  },
  {
   "cell_type": "code",
   "execution_count": 17,
   "metadata": {},
   "outputs": [],
   "source": [
    "days_names_list = ['friday', 'saturday', 'sunday', 'monday', 'tuesday', 'wednesday', 'thursday']"
   ]
  },
  {
   "cell_type": "code",
   "execution_count": 18,
   "metadata": {},
   "outputs": [],
   "source": [
    "del base"
   ]
  },
  {
   "cell_type": "code",
   "execution_count": 19,
   "metadata": {},
   "outputs": [
    {
     "data": {
      "text/html": [
       "<div>\n",
       "<style scoped>\n",
       "    .dataframe tbody tr th:only-of-type {\n",
       "        vertical-align: middle;\n",
       "    }\n",
       "\n",
       "    .dataframe tbody tr th {\n",
       "        vertical-align: top;\n",
       "    }\n",
       "\n",
       "    .dataframe thead th {\n",
       "        text-align: right;\n",
       "    }\n",
       "</style>\n",
       "<table border=\"1\" class=\"dataframe\">\n",
       "  <thead>\n",
       "    <tr style=\"text-align: right;\">\n",
       "      <th></th>\n",
       "      <th>pu_year</th>\n",
       "      <th>pu_month</th>\n",
       "      <th>pu_day</th>\n",
       "      <th>do_year</th>\n",
       "      <th>do_month</th>\n",
       "      <th>do_day</th>\n",
       "      <th>trip_distance</th>\n",
       "      <th>total_amount</th>\n",
       "      <th>RatecodeID</th>\n",
       "      <th>pu_hour</th>\n",
       "      <th>pu_min</th>\n",
       "      <th>pu_sec</th>\n",
       "      <th>do_hour</th>\n",
       "      <th>do_min</th>\n",
       "      <th>do_sec</th>\n",
       "      <th>trip_time(s)</th>\n",
       "    </tr>\n",
       "    <tr>\n",
       "      <th>VendorID</th>\n",
       "      <th></th>\n",
       "      <th></th>\n",
       "      <th></th>\n",
       "      <th></th>\n",
       "      <th></th>\n",
       "      <th></th>\n",
       "      <th></th>\n",
       "      <th></th>\n",
       "      <th></th>\n",
       "      <th></th>\n",
       "      <th></th>\n",
       "      <th></th>\n",
       "      <th></th>\n",
       "      <th></th>\n",
       "      <th></th>\n",
       "      <th></th>\n",
       "    </tr>\n",
       "  </thead>\n",
       "  <tbody>\n",
       "    <tr>\n",
       "      <th>2</th>\n",
       "      <td>2019</td>\n",
       "      <td>03</td>\n",
       "      <td>04</td>\n",
       "      <td>2019</td>\n",
       "      <td>03</td>\n",
       "      <td>04</td>\n",
       "      <td>8.59</td>\n",
       "      <td>40.27</td>\n",
       "      <td>1</td>\n",
       "      <td>5</td>\n",
       "      <td>33</td>\n",
       "      <td>57</td>\n",
       "      <td>5</td>\n",
       "      <td>50</td>\n",
       "      <td>56</td>\n",
       "      <td>1079</td>\n",
       "    </tr>\n",
       "    <tr>\n",
       "      <th>2</th>\n",
       "      <td>2019</td>\n",
       "      <td>03</td>\n",
       "      <td>04</td>\n",
       "      <td>2019</td>\n",
       "      <td>03</td>\n",
       "      <td>04</td>\n",
       "      <td>0.93</td>\n",
       "      <td>6.80</td>\n",
       "      <td>1</td>\n",
       "      <td>6</td>\n",
       "      <td>4</td>\n",
       "      <td>56</td>\n",
       "      <td>6</td>\n",
       "      <td>8</td>\n",
       "      <td>27</td>\n",
       "      <td>271</td>\n",
       "    </tr>\n",
       "    <tr>\n",
       "      <th>2</th>\n",
       "      <td>2019</td>\n",
       "      <td>03</td>\n",
       "      <td>04</td>\n",
       "      <td>2019</td>\n",
       "      <td>03</td>\n",
       "      <td>04</td>\n",
       "      <td>9.23</td>\n",
       "      <td>43.82</td>\n",
       "      <td>1</td>\n",
       "      <td>6</td>\n",
       "      <td>24</td>\n",
       "      <td>47</td>\n",
       "      <td>6</td>\n",
       "      <td>42</td>\n",
       "      <td>52</td>\n",
       "      <td>1085</td>\n",
       "    </tr>\n",
       "    <tr>\n",
       "      <th>2</th>\n",
       "      <td>2019</td>\n",
       "      <td>03</td>\n",
       "      <td>04</td>\n",
       "      <td>2019</td>\n",
       "      <td>03</td>\n",
       "      <td>04</td>\n",
       "      <td>1.22</td>\n",
       "      <td>12.25</td>\n",
       "      <td>1</td>\n",
       "      <td>7</td>\n",
       "      <td>22</td>\n",
       "      <td>10</td>\n",
       "      <td>7</td>\n",
       "      <td>28</td>\n",
       "      <td>58</td>\n",
       "      <td>408</td>\n",
       "    </tr>\n",
       "    <tr>\n",
       "      <th>2</th>\n",
       "      <td>2019</td>\n",
       "      <td>03</td>\n",
       "      <td>04</td>\n",
       "      <td>2019</td>\n",
       "      <td>03</td>\n",
       "      <td>04</td>\n",
       "      <td>9.27</td>\n",
       "      <td>40.06</td>\n",
       "      <td>1</td>\n",
       "      <td>7</td>\n",
       "      <td>33</td>\n",
       "      <td>54</td>\n",
       "      <td>7</td>\n",
       "      <td>55</td>\n",
       "      <td>1</td>\n",
       "      <td>1327</td>\n",
       "    </tr>\n",
       "  </tbody>\n",
       "</table>\n",
       "</div>"
      ],
      "text/plain": [
       "         pu_year pu_month pu_day do_year do_month do_day  trip_distance  \\\n",
       "VendorID                                                                  \n",
       "2           2019       03     04    2019       03     04           8.59   \n",
       "2           2019       03     04    2019       03     04           0.93   \n",
       "2           2019       03     04    2019       03     04           9.23   \n",
       "2           2019       03     04    2019       03     04           1.22   \n",
       "2           2019       03     04    2019       03     04           9.27   \n",
       "\n",
       "          total_amount  RatecodeID  pu_hour  pu_min  pu_sec  do_hour  do_min  \\\n",
       "VendorID                                                                       \n",
       "2                40.27           1        5      33      57        5      50   \n",
       "2                 6.80           1        6       4      56        6       8   \n",
       "2                43.82           1        6      24      47        6      42   \n",
       "2                12.25           1        7      22      10        7      28   \n",
       "2                40.06           1        7      33      54        7      55   \n",
       "\n",
       "          do_sec  trip_time(s)  \n",
       "VendorID                        \n",
       "2             56          1079  \n",
       "2             27           271  \n",
       "2             52          1085  \n",
       "2             58           408  \n",
       "2              1          1327  "
      ]
     },
     "execution_count": 19,
     "metadata": {},
     "output_type": "execute_result"
    }
   ],
   "source": [
    "monday.head()"
   ]
  },
  {
   "cell_type": "markdown",
   "metadata": {},
   "source": [
    "### SAVING"
   ]
  },
  {
   "cell_type": "markdown",
   "metadata": {},
   "source": [
    "#### DISTANCES BY DAY"
   ]
  },
  {
   "cell_type": "code",
   "execution_count": 20,
   "metadata": {},
   "outputs": [],
   "source": [
    "dist_dir = cwd+\"/output/distances/\"\n",
    "pathlib.Path(cwd+dist_dir).mkdir(parents=True, exist_ok=True)"
   ]
  },
  {
   "cell_type": "code",
   "execution_count": 21,
   "metadata": {},
   "outputs": [
    {
     "name": "stdout",
     "output_type": "stream",
     "text": [
      "--- List was saved as: monday_distances.csv\n"
     ]
    }
   ],
   "source": [
    "m_distances = list(monday.trip_distance)\n",
    "save_list_2_csv(m_distances, \"monday_distances\", dist_dir)"
   ]
  },
  {
   "cell_type": "code",
   "execution_count": 22,
   "metadata": {},
   "outputs": [
    {
     "name": "stdout",
     "output_type": "stream",
     "text": [
      "--- List was saved as: tuesday_distances.csv\n"
     ]
    }
   ],
   "source": [
    "tu_distances = list(tuesday.trip_distance)\n",
    "save_list_2_csv(tu_distances, \"tuesday_distances\", dist_dir)"
   ]
  },
  {
   "cell_type": "code",
   "execution_count": 23,
   "metadata": {},
   "outputs": [
    {
     "name": "stdout",
     "output_type": "stream",
     "text": [
      "--- List was saved as: wednesday_distances.csv\n"
     ]
    }
   ],
   "source": [
    "we_distances = list(wednesday.trip_distance)\n",
    "save_list_2_csv(we_distances, \"wednesday_distances\", dist_dir)"
   ]
  },
  {
   "cell_type": "code",
   "execution_count": 24,
   "metadata": {},
   "outputs": [
    {
     "name": "stdout",
     "output_type": "stream",
     "text": [
      "--- List was saved as: thursday_distances.csv\n"
     ]
    }
   ],
   "source": [
    "th_distances = list(thursday.trip_distance)\n",
    "save_list_2_csv(th_distances, \"thursday_distances\", dist_dir)"
   ]
  },
  {
   "cell_type": "code",
   "execution_count": 25,
   "metadata": {},
   "outputs": [
    {
     "name": "stdout",
     "output_type": "stream",
     "text": [
      "--- List was saved as: friday_distances.csv\n"
     ]
    }
   ],
   "source": [
    "fr_distances = list(friday.trip_distance)\n",
    "save_list_2_csv(fr_distances, \"friday_distances\", dist_dir)"
   ]
  },
  {
   "cell_type": "code",
   "execution_count": 26,
   "metadata": {},
   "outputs": [
    {
     "name": "stdout",
     "output_type": "stream",
     "text": [
      "--- List was saved as: saturday_distances.csv\n"
     ]
    }
   ],
   "source": [
    "sa_distances = list(saturday.trip_distance)\n",
    "save_list_2_csv(sa_distances, \"saturday_distances\", dist_dir)"
   ]
  },
  {
   "cell_type": "code",
   "execution_count": 27,
   "metadata": {},
   "outputs": [
    {
     "name": "stdout",
     "output_type": "stream",
     "text": [
      "--- List was saved as: sunday_distances.csv\n"
     ]
    }
   ],
   "source": [
    "su_distances = list(sunday.trip_distance)\n",
    "save_list_2_csv(su_distances, \"sunday_distances\", dist_dir)"
   ]
  },
  {
   "cell_type": "code",
   "execution_count": 28,
   "metadata": {},
   "outputs": [
    {
     "data": {
      "image/png": "[encoded data removed]",
      "text/plain": [
       "<Figure size 432x288 with 1 Axes>"
      ]
     },
     "metadata": {
      "needs_background": "light"
     },
     "output_type": "display_data"
    }
   ],
   "source": [
    "plt.hist(m_distances, bins=300, range=(0,30), density=True)\n",
    "plt.show()"
   ]
  },
  {
   "cell_type": "markdown",
   "metadata": {},
   "source": [
    "#### MONEY BY DAY"
   ]
  },
  {
   "cell_type": "code",
   "execution_count": 29,
   "metadata": {},
   "outputs": [],
   "source": [
    "money_dir = cwd+\"/output/money/\"\n",
    "pathlib.Path(money_dir).mkdir(parents=True, exist_ok=True)"
   ]
  },
  {
   "cell_type": "code",
   "execution_count": 30,
   "metadata": {},
   "outputs": [
    {
     "name": "stdout",
     "output_type": "stream",
     "text": [
      "--- List was saved as: monday_fares.csv\n"
     ]
    }
   ],
   "source": [
    "m_fares = list(monday.total_amount)\n",
    "save_list_2_csv(m_fares, \"monday_fares\", money_dir)"
   ]
  },
  {
   "cell_type": "code",
   "execution_count": 31,
   "metadata": {},
   "outputs": [
    {
     "name": "stdout",
     "output_type": "stream",
     "text": [
      "--- List was saved as: tuesday_fares.csv\n"
     ]
    }
   ],
   "source": [
    "tu_fares = list(tuesday.total_amount)\n",
    "save_list_2_csv(tu_fares, \"tuesday_fares\", money_dir)"
   ]
  },
  {
   "cell_type": "code",
   "execution_count": 32,
   "metadata": {},
   "outputs": [
    {
     "name": "stdout",
     "output_type": "stream",
     "text": [
      "--- List was saved as: wednesday_fares.csv\n"
     ]
    }
   ],
   "source": [
    "we_fares = list(wednesday.total_amount)\n",
    "save_list_2_csv(we_fares, \"wednesday_fares\", money_dir)"
   ]
  },
  {
   "cell_type": "code",
   "execution_count": 33,
   "metadata": {},
   "outputs": [
    {
     "name": "stdout",
     "output_type": "stream",
     "text": [
      "--- List was saved as: thursday_fares.csv\n"
     ]
    }
   ],
   "source": [
    "th_fares = list(thursday.total_amount)\n",
    "save_list_2_csv(th_fares, \"thursday_fares\", money_dir)"
   ]
  },
  {
   "cell_type": "code",
   "execution_count": 34,
   "metadata": {},
   "outputs": [
    {
     "name": "stdout",
     "output_type": "stream",
     "text": [
      "--- List was saved as: friday_fares.csv\n"
     ]
    }
   ],
   "source": [
    "fr_fares = list(friday.total_amount)\n",
    "save_list_2_csv(fr_fares, \"friday_fares\", money_dir)"
   ]
  },
  {
   "cell_type": "code",
   "execution_count": 35,
   "metadata": {},
   "outputs": [
    {
     "name": "stdout",
     "output_type": "stream",
     "text": [
      "--- List was saved as: saturday_fares.csv\n"
     ]
    }
   ],
   "source": [
    "sa_fares = list(saturday.total_amount)\n",
    "save_list_2_csv(sa_fares, \"saturday_fares\", money_dir)"
   ]
  },
  {
   "cell_type": "code",
   "execution_count": 36,
   "metadata": {},
   "outputs": [
    {
     "name": "stdout",
     "output_type": "stream",
     "text": [
      "--- List was saved as: sunday_fares.csv\n"
     ]
    }
   ],
   "source": [
    "su_fares = list(sunday.total_amount)\n",
    "save_list_2_csv(su_fares, \"sunday_fares\", money_dir)"
   ]
  },
  {
   "cell_type": "code",
   "execution_count": 37,
   "metadata": {},
   "outputs": [
    {
     "data": {
      "text/plain": [
       "<function matplotlib.pyplot.show(*args, **kw)>"
      ]
     },
     "execution_count": 37,
     "metadata": {},
     "output_type": "execute_result"
    },
    {
     "data": {
      "image/png": "[encoded data removed]",
      "text/plain": [
       "<Figure size 432x288 with 1 Axes>"
      ]
     },
     "metadata": {
      "needs_background": "light"
     },
     "output_type": "display_data"
    }
   ],
   "source": [
    "plt.hist(m_fares, bins=300, range=(0,100), density=True)\n",
    "plt.show"
   ]
  },
  {
   "cell_type": "markdown",
   "metadata": {},
   "source": [
    "## BY TIME OF DAY"
   ]
  },
  {
   "cell_type": "code",
   "execution_count": 21,
   "metadata": {},
   "outputs": [
    {
     "data": {
      "text/html": [
       "<div>\n",
       "<style scoped>\n",
       "    .dataframe tbody tr th:only-of-type {\n",
       "        vertical-align: middle;\n",
       "    }\n",
       "\n",
       "    .dataframe tbody tr th {\n",
       "        vertical-align: top;\n",
       "    }\n",
       "\n",
       "    .dataframe thead th {\n",
       "        text-align: right;\n",
       "    }\n",
       "</style>\n",
       "<table border=\"1\" class=\"dataframe\">\n",
       "  <thead>\n",
       "    <tr style=\"text-align: right;\">\n",
       "      <th></th>\n",
       "      <th>pu_year</th>\n",
       "      <th>pu_month</th>\n",
       "      <th>pu_day</th>\n",
       "      <th>do_year</th>\n",
       "      <th>do_month</th>\n",
       "      <th>do_day</th>\n",
       "      <th>trip_distance</th>\n",
       "      <th>total_amount</th>\n",
       "      <th>RatecodeID</th>\n",
       "      <th>pu_hour</th>\n",
       "      <th>pu_min</th>\n",
       "      <th>pu_sec</th>\n",
       "      <th>do_hour</th>\n",
       "      <th>do_min</th>\n",
       "      <th>do_sec</th>\n",
       "      <th>trip_time(s)</th>\n",
       "    </tr>\n",
       "    <tr>\n",
       "      <th>VendorID</th>\n",
       "      <th></th>\n",
       "      <th></th>\n",
       "      <th></th>\n",
       "      <th></th>\n",
       "      <th></th>\n",
       "      <th></th>\n",
       "      <th></th>\n",
       "      <th></th>\n",
       "      <th></th>\n",
       "      <th></th>\n",
       "      <th></th>\n",
       "      <th></th>\n",
       "      <th></th>\n",
       "      <th></th>\n",
       "      <th></th>\n",
       "      <th></th>\n",
       "    </tr>\n",
       "  </thead>\n",
       "  <tbody>\n",
       "    <tr>\n",
       "      <th>2</th>\n",
       "      <td>2019</td>\n",
       "      <td>03</td>\n",
       "      <td>04</td>\n",
       "      <td>2019</td>\n",
       "      <td>03</td>\n",
       "      <td>04</td>\n",
       "      <td>8.59</td>\n",
       "      <td>40.27</td>\n",
       "      <td>1</td>\n",
       "      <td>5</td>\n",
       "      <td>33</td>\n",
       "      <td>57</td>\n",
       "      <td>5</td>\n",
       "      <td>50</td>\n",
       "      <td>56</td>\n",
       "      <td>1079</td>\n",
       "    </tr>\n",
       "    <tr>\n",
       "      <th>2</th>\n",
       "      <td>2019</td>\n",
       "      <td>03</td>\n",
       "      <td>04</td>\n",
       "      <td>2019</td>\n",
       "      <td>03</td>\n",
       "      <td>04</td>\n",
       "      <td>0.93</td>\n",
       "      <td>6.80</td>\n",
       "      <td>1</td>\n",
       "      <td>6</td>\n",
       "      <td>4</td>\n",
       "      <td>56</td>\n",
       "      <td>6</td>\n",
       "      <td>8</td>\n",
       "      <td>27</td>\n",
       "      <td>271</td>\n",
       "    </tr>\n",
       "    <tr>\n",
       "      <th>2</th>\n",
       "      <td>2019</td>\n",
       "      <td>03</td>\n",
       "      <td>04</td>\n",
       "      <td>2019</td>\n",
       "      <td>03</td>\n",
       "      <td>04</td>\n",
       "      <td>9.23</td>\n",
       "      <td>43.82</td>\n",
       "      <td>1</td>\n",
       "      <td>6</td>\n",
       "      <td>24</td>\n",
       "      <td>47</td>\n",
       "      <td>6</td>\n",
       "      <td>42</td>\n",
       "      <td>52</td>\n",
       "      <td>1085</td>\n",
       "    </tr>\n",
       "    <tr>\n",
       "      <th>2</th>\n",
       "      <td>2019</td>\n",
       "      <td>03</td>\n",
       "      <td>04</td>\n",
       "      <td>2019</td>\n",
       "      <td>03</td>\n",
       "      <td>04</td>\n",
       "      <td>1.22</td>\n",
       "      <td>12.25</td>\n",
       "      <td>1</td>\n",
       "      <td>7</td>\n",
       "      <td>22</td>\n",
       "      <td>10</td>\n",
       "      <td>7</td>\n",
       "      <td>28</td>\n",
       "      <td>58</td>\n",
       "      <td>408</td>\n",
       "    </tr>\n",
       "    <tr>\n",
       "      <th>2</th>\n",
       "      <td>2019</td>\n",
       "      <td>03</td>\n",
       "      <td>04</td>\n",
       "      <td>2019</td>\n",
       "      <td>03</td>\n",
       "      <td>04</td>\n",
       "      <td>9.27</td>\n",
       "      <td>40.06</td>\n",
       "      <td>1</td>\n",
       "      <td>7</td>\n",
       "      <td>33</td>\n",
       "      <td>54</td>\n",
       "      <td>7</td>\n",
       "      <td>55</td>\n",
       "      <td>1</td>\n",
       "      <td>1327</td>\n",
       "    </tr>\n",
       "  </tbody>\n",
       "</table>\n",
       "</div>"
      ],
      "text/plain": [
       "         pu_year pu_month pu_day do_year do_month do_day  trip_distance  \\\n",
       "VendorID                                                                  \n",
       "2           2019       03     04    2019       03     04           8.59   \n",
       "2           2019       03     04    2019       03     04           0.93   \n",
       "2           2019       03     04    2019       03     04           9.23   \n",
       "2           2019       03     04    2019       03     04           1.22   \n",
       "2           2019       03     04    2019       03     04           9.27   \n",
       "\n",
       "          total_amount  RatecodeID  pu_hour  pu_min  pu_sec  do_hour  do_min  \\\n",
       "VendorID                                                                       \n",
       "2                40.27           1        5      33      57        5      50   \n",
       "2                 6.80           1        6       4      56        6       8   \n",
       "2                43.82           1        6      24      47        6      42   \n",
       "2                12.25           1        7      22      10        7      28   \n",
       "2                40.06           1        7      33      54        7      55   \n",
       "\n",
       "          do_sec  trip_time(s)  \n",
       "VendorID                        \n",
       "2             56          1079  \n",
       "2             27           271  \n",
       "2             52          1085  \n",
       "2             58           408  \n",
       "2              1          1327  "
      ]
     },
     "execution_count": 21,
     "metadata": {},
     "output_type": "execute_result"
    }
   ],
   "source": [
    "monday.head()"
   ]
  },
  {
   "cell_type": "code",
   "execution_count": 28,
   "metadata": {
    "collapsed": true,
    "jupyter": {
     "outputs_hidden": true
    }
   },
   "outputs": [
    {
     "name": "stdout",
     "output_type": "stream",
     "text": [
      "--- List was saved as: 0_money.csv\n",
      "--- List was saved as: 0_money.csv\n",
      "--- List was saved as: 1_money.csv\n",
      "--- List was saved as: 1_money.csv\n",
      "--- List was saved as: 2_money.csv\n",
      "--- List was saved as: 2_money.csv\n",
      "--- List was saved as: 3_money.csv\n",
      "--- List was saved as: 3_money.csv\n",
      "--- List was saved as: 4_money.csv\n",
      "--- List was saved as: 4_money.csv\n",
      "--- List was saved as: 5_money.csv\n",
      "--- List was saved as: 5_money.csv\n",
      "--- List was saved as: 6_money.csv\n",
      "--- List was saved as: 6_money.csv\n",
      "--- List was saved as: 7_money.csv\n",
      "--- List was saved as: 7_money.csv\n",
      "--- List was saved as: 8_money.csv\n",
      "--- List was saved as: 8_money.csv\n",
      "--- List was saved as: 9_money.csv\n",
      "--- List was saved as: 9_money.csv\n",
      "--- List was saved as: 10_money.csv\n",
      "--- List was saved as: 10_money.csv\n",
      "--- List was saved as: 11_money.csv\n",
      "--- List was saved as: 11_money.csv\n",
      "--- List was saved as: 12_money.csv\n",
      "--- List was saved as: 12_money.csv\n",
      "--- List was saved as: 13_money.csv\n",
      "--- List was saved as: 13_money.csv\n",
      "--- List was saved as: 14_money.csv\n",
      "--- List was saved as: 14_money.csv\n",
      "--- List was saved as: 15_money.csv\n",
      "--- List was saved as: 15_money.csv\n",
      "--- List was saved as: 16_money.csv\n",
      "--- List was saved as: 16_money.csv\n",
      "--- List was saved as: 17_money.csv\n",
      "--- List was saved as: 17_money.csv\n",
      "--- List was saved as: 18_money.csv\n",
      "--- List was saved as: 18_money.csv\n",
      "--- List was saved as: 19_money.csv\n",
      "--- List was saved as: 19_money.csv\n",
      "--- List was saved as: 20_money.csv\n",
      "--- List was saved as: 20_money.csv\n",
      "--- List was saved as: 21_money.csv\n",
      "--- List was saved as: 21_money.csv\n",
      "--- List was saved as: 22_money.csv\n",
      "--- List was saved as: 22_money.csv\n",
      "--- List was saved as: 23_money.csv\n",
      "--- List was saved as: 23_money.csv\n",
      "--- List was saved as: 0_money.csv\n",
      "--- List was saved as: 0_money.csv\n",
      "--- List was saved as: 1_money.csv\n",
      "--- List was saved as: 1_money.csv\n",
      "--- List was saved as: 2_money.csv\n",
      "--- List was saved as: 2_money.csv\n",
      "--- List was saved as: 3_money.csv\n",
      "--- List was saved as: 3_money.csv\n",
      "--- List was saved as: 4_money.csv\n",
      "--- List was saved as: 4_money.csv\n",
      "--- List was saved as: 5_money.csv\n",
      "--- List was saved as: 5_money.csv\n",
      "--- List was saved as: 6_money.csv\n",
      "--- List was saved as: 6_money.csv\n",
      "--- List was saved as: 7_money.csv\n",
      "--- List was saved as: 7_money.csv\n",
      "--- List was saved as: 8_money.csv\n",
      "--- List was saved as: 8_money.csv\n",
      "--- List was saved as: 9_money.csv\n",
      "--- List was saved as: 9_money.csv\n",
      "--- List was saved as: 10_money.csv\n",
      "--- List was saved as: 10_money.csv\n",
      "--- List was saved as: 11_money.csv\n",
      "--- List was saved as: 11_money.csv\n",
      "--- List was saved as: 12_money.csv\n",
      "--- List was saved as: 12_money.csv\n",
      "--- List was saved as: 13_money.csv\n",
      "--- List was saved as: 13_money.csv\n",
      "--- List was saved as: 14_money.csv\n",
      "--- List was saved as: 14_money.csv\n",
      "--- List was saved as: 15_money.csv\n",
      "--- List was saved as: 15_money.csv\n",
      "--- List was saved as: 16_money.csv\n",
      "--- List was saved as: 16_money.csv\n",
      "--- List was saved as: 17_money.csv\n",
      "--- List was saved as: 17_money.csv\n",
      "--- List was saved as: 18_money.csv\n",
      "--- List was saved as: 18_money.csv\n",
      "--- List was saved as: 19_money.csv\n",
      "--- List was saved as: 19_money.csv\n",
      "--- List was saved as: 20_money.csv\n",
      "--- List was saved as: 20_money.csv\n",
      "--- List was saved as: 21_money.csv\n",
      "--- List was saved as: 21_money.csv\n",
      "--- List was saved as: 22_money.csv\n",
      "--- List was saved as: 22_money.csv\n",
      "--- List was saved as: 23_money.csv\n",
      "--- List was saved as: 23_money.csv\n",
      "--- List was saved as: 0_money.csv\n",
      "--- List was saved as: 0_money.csv\n",
      "--- List was saved as: 1_money.csv\n",
      "--- List was saved as: 1_money.csv\n",
      "--- List was saved as: 2_money.csv\n",
      "--- List was saved as: 2_money.csv\n",
      "--- List was saved as: 3_money.csv\n",
      "--- List was saved as: 3_money.csv\n",
      "--- List was saved as: 4_money.csv\n",
      "--- List was saved as: 4_money.csv\n",
      "--- List was saved as: 5_money.csv\n",
      "--- List was saved as: 5_money.csv\n",
      "--- List was saved as: 6_money.csv\n",
      "--- List was saved as: 6_money.csv\n",
      "--- List was saved as: 7_money.csv\n",
      "--- List was saved as: 7_money.csv\n",
      "--- List was saved as: 8_money.csv\n",
      "--- List was saved as: 8_money.csv\n",
      "--- List was saved as: 9_money.csv\n",
      "--- List was saved as: 9_money.csv\n",
      "--- List was saved as: 10_money.csv\n",
      "--- List was saved as: 10_money.csv\n",
      "--- List was saved as: 11_money.csv\n",
      "--- List was saved as: 11_money.csv\n",
      "--- List was saved as: 12_money.csv\n",
      "--- List was saved as: 12_money.csv\n",
      "--- List was saved as: 13_money.csv\n",
      "--- List was saved as: 13_money.csv\n",
      "--- List was saved as: 14_money.csv\n",
      "--- List was saved as: 14_money.csv\n",
      "--- List was saved as: 15_money.csv\n",
      "--- List was saved as: 15_money.csv\n",
      "--- List was saved as: 16_money.csv\n",
      "--- List was saved as: 16_money.csv\n",
      "--- List was saved as: 17_money.csv\n",
      "--- List was saved as: 17_money.csv\n",
      "--- List was saved as: 18_money.csv\n",
      "--- List was saved as: 18_money.csv\n",
      "--- List was saved as: 19_money.csv\n",
      "--- List was saved as: 19_money.csv\n",
      "--- List was saved as: 20_money.csv\n",
      "--- List was saved as: 20_money.csv\n",
      "--- List was saved as: 21_money.csv\n",
      "--- List was saved as: 21_money.csv\n",
      "--- List was saved as: 22_money.csv\n",
      "--- List was saved as: 22_money.csv\n",
      "--- List was saved as: 23_money.csv\n",
      "--- List was saved as: 23_money.csv\n",
      "--- List was saved as: 0_money.csv\n",
      "--- List was saved as: 0_money.csv\n",
      "--- List was saved as: 1_money.csv\n",
      "--- List was saved as: 1_money.csv\n",
      "--- List was saved as: 2_money.csv\n",
      "--- List was saved as: 2_money.csv\n",
      "--- List was saved as: 3_money.csv\n",
      "--- List was saved as: 3_money.csv\n",
      "--- List was saved as: 4_money.csv\n",
      "--- List was saved as: 4_money.csv\n",
      "--- List was saved as: 5_money.csv\n",
      "--- List was saved as: 5_money.csv\n",
      "--- List was saved as: 6_money.csv\n",
      "--- List was saved as: 6_money.csv\n",
      "--- List was saved as: 7_money.csv\n",
      "--- List was saved as: 7_money.csv\n",
      "--- List was saved as: 8_money.csv\n",
      "--- List was saved as: 8_money.csv\n",
      "--- List was saved as: 9_money.csv\n",
      "--- List was saved as: 9_money.csv\n",
      "--- List was saved as: 10_money.csv\n",
      "--- List was saved as: 10_money.csv\n",
      "--- List was saved as: 11_money.csv\n",
      "--- List was saved as: 11_money.csv\n",
      "--- List was saved as: 12_money.csv\n",
      "--- List was saved as: 12_money.csv\n",
      "--- List was saved as: 13_money.csv\n",
      "--- List was saved as: 13_money.csv\n",
      "--- List was saved as: 14_money.csv\n",
      "--- List was saved as: 14_money.csv\n",
      "--- List was saved as: 15_money.csv\n",
      "--- List was saved as: 15_money.csv\n",
      "--- List was saved as: 16_money.csv\n",
      "--- List was saved as: 16_money.csv\n",
      "--- List was saved as: 17_money.csv\n",
      "--- List was saved as: 17_money.csv\n",
      "--- List was saved as: 18_money.csv\n",
      "--- List was saved as: 18_money.csv\n",
      "--- List was saved as: 19_money.csv\n",
      "--- List was saved as: 19_money.csv\n",
      "--- List was saved as: 20_money.csv\n",
      "--- List was saved as: 20_money.csv\n",
      "--- List was saved as: 21_money.csv\n",
      "--- List was saved as: 21_money.csv\n",
      "--- List was saved as: 22_money.csv\n",
      "--- List was saved as: 22_money.csv\n",
      "--- List was saved as: 23_money.csv\n",
      "--- List was saved as: 23_money.csv\n",
      "--- List was saved as: 0_money.csv\n",
      "--- List was saved as: 0_money.csv\n",
      "--- List was saved as: 1_money.csv\n",
      "--- List was saved as: 1_money.csv\n",
      "--- List was saved as: 2_money.csv\n",
      "--- List was saved as: 2_money.csv\n",
      "--- List was saved as: 3_money.csv\n",
      "--- List was saved as: 3_money.csv\n",
      "--- List was saved as: 4_money.csv\n",
      "--- List was saved as: 4_money.csv\n",
      "--- List was saved as: 5_money.csv\n",
      "--- List was saved as: 5_money.csv\n",
      "--- List was saved as: 6_money.csv\n",
      "--- List was saved as: 6_money.csv\n",
      "--- List was saved as: 7_money.csv\n",
      "--- List was saved as: 7_money.csv\n",
      "--- List was saved as: 8_money.csv\n",
      "--- List was saved as: 8_money.csv\n",
      "--- List was saved as: 9_money.csv\n",
      "--- List was saved as: 9_money.csv\n",
      "--- List was saved as: 10_money.csv\n",
      "--- List was saved as: 10_money.csv\n",
      "--- List was saved as: 11_money.csv\n",
      "--- List was saved as: 11_money.csv\n",
      "--- List was saved as: 12_money.csv\n",
      "--- List was saved as: 12_money.csv\n",
      "--- List was saved as: 13_money.csv\n",
      "--- List was saved as: 13_money.csv\n",
      "--- List was saved as: 14_money.csv\n",
      "--- List was saved as: 14_money.csv\n",
      "--- List was saved as: 15_money.csv\n",
      "--- List was saved as: 15_money.csv\n",
      "--- List was saved as: 16_money.csv\n",
      "--- List was saved as: 16_money.csv\n",
      "--- List was saved as: 17_money.csv\n",
      "--- List was saved as: 17_money.csv\n",
      "--- List was saved as: 18_money.csv\n",
      "--- List was saved as: 18_money.csv\n",
      "--- List was saved as: 19_money.csv\n",
      "--- List was saved as: 19_money.csv\n",
      "--- List was saved as: 20_money.csv\n",
      "--- List was saved as: 20_money.csv\n",
      "--- List was saved as: 21_money.csv\n",
      "--- List was saved as: 21_money.csv\n",
      "--- List was saved as: 22_money.csv\n",
      "--- List was saved as: 22_money.csv\n",
      "--- List was saved as: 23_money.csv\n",
      "--- List was saved as: 23_money.csv\n",
      "--- List was saved as: 0_money.csv\n",
      "--- List was saved as: 0_money.csv\n",
      "--- List was saved as: 1_money.csv\n",
      "--- List was saved as: 1_money.csv\n",
      "--- List was saved as: 2_money.csv\n",
      "--- List was saved as: 2_money.csv\n",
      "--- List was saved as: 3_money.csv\n",
      "--- List was saved as: 3_money.csv\n",
      "--- List was saved as: 4_money.csv\n",
      "--- List was saved as: 4_money.csv\n",
      "--- List was saved as: 5_money.csv\n",
      "--- List was saved as: 5_money.csv\n",
      "--- List was saved as: 6_money.csv\n",
      "--- List was saved as: 6_money.csv\n",
      "--- List was saved as: 7_money.csv\n",
      "--- List was saved as: 7_money.csv\n",
      "--- List was saved as: 8_money.csv\n",
      "--- List was saved as: 8_money.csv\n",
      "--- List was saved as: 9_money.csv\n",
      "--- List was saved as: 9_money.csv\n",
      "--- List was saved as: 10_money.csv\n",
      "--- List was saved as: 10_money.csv\n",
      "--- List was saved as: 11_money.csv\n",
      "--- List was saved as: 11_money.csv\n",
      "--- List was saved as: 12_money.csv\n",
      "--- List was saved as: 12_money.csv\n",
      "--- List was saved as: 13_money.csv\n",
      "--- List was saved as: 13_money.csv\n",
      "--- List was saved as: 14_money.csv\n",
      "--- List was saved as: 14_money.csv\n",
      "--- List was saved as: 15_money.csv\n",
      "--- List was saved as: 15_money.csv\n",
      "--- List was saved as: 16_money.csv\n",
      "--- List was saved as: 16_money.csv\n",
      "--- List was saved as: 17_money.csv\n",
      "--- List was saved as: 17_money.csv\n",
      "--- List was saved as: 18_money.csv\n",
      "--- List was saved as: 18_money.csv\n",
      "--- List was saved as: 19_money.csv\n",
      "--- List was saved as: 19_money.csv\n",
      "--- List was saved as: 20_money.csv\n",
      "--- List was saved as: 20_money.csv\n",
      "--- List was saved as: 21_money.csv\n",
      "--- List was saved as: 21_money.csv\n",
      "--- List was saved as: 22_money.csv\n",
      "--- List was saved as: 22_money.csv\n",
      "--- List was saved as: 23_money.csv\n",
      "--- List was saved as: 23_money.csv\n",
      "--- List was saved as: 0_money.csv\n",
      "--- List was saved as: 0_money.csv\n",
      "--- List was saved as: 1_money.csv\n",
      "--- List was saved as: 1_money.csv\n",
      "--- List was saved as: 2_money.csv\n",
      "--- List was saved as: 2_money.csv\n",
      "--- List was saved as: 3_money.csv\n",
      "--- List was saved as: 3_money.csv\n",
      "--- List was saved as: 4_money.csv\n",
      "--- List was saved as: 4_money.csv\n",
      "--- List was saved as: 5_money.csv\n",
      "--- List was saved as: 5_money.csv\n",
      "--- List was saved as: 6_money.csv\n",
      "--- List was saved as: 6_money.csv\n",
      "--- List was saved as: 7_money.csv\n",
      "--- List was saved as: 7_money.csv\n",
      "--- List was saved as: 8_money.csv\n",
      "--- List was saved as: 8_money.csv\n",
      "--- List was saved as: 9_money.csv\n",
      "--- List was saved as: 9_money.csv\n",
      "--- List was saved as: 10_money.csv\n",
      "--- List was saved as: 10_money.csv\n",
      "--- List was saved as: 11_money.csv\n",
      "--- List was saved as: 11_money.csv\n",
      "--- List was saved as: 12_money.csv\n",
      "--- List was saved as: 12_money.csv\n",
      "--- List was saved as: 13_money.csv\n",
      "--- List was saved as: 13_money.csv\n",
      "--- List was saved as: 14_money.csv\n",
      "--- List was saved as: 14_money.csv\n",
      "--- List was saved as: 15_money.csv\n",
      "--- List was saved as: 15_money.csv\n",
      "--- List was saved as: 16_money.csv\n",
      "--- List was saved as: 16_money.csv\n",
      "--- List was saved as: 17_money.csv\n",
      "--- List was saved as: 17_money.csv\n",
      "--- List was saved as: 18_money.csv\n",
      "--- List was saved as: 18_money.csv\n",
      "--- List was saved as: 19_money.csv\n",
      "--- List was saved as: 19_money.csv\n",
      "--- List was saved as: 20_money.csv\n",
      "--- List was saved as: 20_money.csv\n",
      "--- List was saved as: 21_money.csv\n",
      "--- List was saved as: 21_money.csv\n",
      "--- List was saved as: 22_money.csv\n",
      "--- List was saved as: 22_money.csv\n",
      "--- List was saved as: 23_money.csv\n",
      "--- List was saved as: 23_money.csv\n"
     ]
    }
   ],
   "source": [
    "var = \"money\"\n",
    "for day, day_name in zip(days_list, days_names_list):\n",
    "    day_dir = cwd+\"/output/\"+var+\"/\"+day_name\n",
    "    day_dir_f = cwd+\"/output/\"+var+\"_filtered/\"+day_name\n",
    "    pathlib.Path(day_dir).mkdir(parents=True, exist_ok=True)\n",
    "    pathlib.Path(day_dir_f).mkdir(parents=True, exist_ok=True)\n",
    "    for hour in range(24):\n",
    "        day_ = day.copy()\n",
    "        day_hour = day_[(day_.pu_hour==hour)]\n",
    "        day_hour_list = list(day_hour[\"trip_time(s)\"])\n",
    "        save_list_2_csv(day_hour_list, str(hour)+\"_\"+var, day_dir)\n",
    "        \n",
    "        day_f = day.copy()\n",
    "        day_f = day_f[day_f.RatecodeID==1]\n",
    "        day_hour_f = day_f[(day_f.pu_hour==hour)]\n",
    "        day_hour_f_list = list(day_hour_f[\"trip_time(s)\"])\n",
    "        save_list_2_csv(day_hour_f_list, str(hour)+\"_\"+var , day_dir_f)"
   ]
  }
 ],
 "metadata": {
  "kernelspec": {
   "display_name": "Python 3",
   "language": "python",
   "name": "python3"
  },
  "language_info": {
   "codemirror_mode": {
    "name": "ipython",
    "version": 3
   },
   "file_extension": ".py",
   "mimetype": "text/x-python",
   "name": "python",
   "nbconvert_exporter": "python",
   "pygments_lexer": "ipython3",
   "version": "3.7.5"
  }
 },
 "nbformat": 4,
 "nbformat_minor": 4
}
