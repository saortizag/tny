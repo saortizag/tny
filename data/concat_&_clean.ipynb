{
 "cells": [
  {
   "cell_type": "code",
   "execution_count": 1,
   "metadata": {},
   "outputs": [],
   "source": [
    "import pandas as pd\n",
    "import numpy as np\n",
    "import os"
   ]
  },
  {
   "cell_type": "code",
   "execution_count": 2,
   "metadata": {},
   "outputs": [
    {
     "data": {
      "text/plain": [
       "['yellow_tripdata_2019-04.csv',\n",
       " 'yellow_tripdata_2019-06.csv',\n",
       " 'yellow_tripdata_2019-05.csv',\n",
       " 'yellow_tripdata_2019-03.csv']"
      ]
     },
     "execution_count": 2,
     "metadata": {},
     "output_type": "execute_result"
    }
   ],
   "source": [
    "cwd = os.getcwd()\n",
    "bases = os.listdir(cwd)\n",
    "bases = [base for base in bases if base.endswith(\".csv\")]\n",
    "bases"
   ]
  },
  {
   "cell_type": "code",
   "execution_count": 3,
   "metadata": {},
   "outputs": [
    {
     "name": "stdout",
     "output_type": "stream",
     "text": [
      "--- DONE CONCAT\n"
     ]
    }
   ],
   "source": [
    "base = pd.read_csv(bases[0])\n",
    "for ii in range(1,len(bases)):\n",
    "    try:\n",
    "        del base_siguiente\n",
    "    except:\n",
    "        pass\n",
    "    base_siguiente = pd.read_csv(bases[ii])\n",
    "    base = pd.concat([base, base_siguiente], axis=0)\n",
    "del base_siguiente\n",
    "print(\"--- DONE CONCAT\")"
   ]
  },
  {
   "cell_type": "code",
   "execution_count": 4,
   "metadata": {},
   "outputs": [
    {
     "name": "stdout",
     "output_type": "stream",
     "text": [
      "--- DONE DROP\n"
     ]
    }
   ],
   "source": [
    "base = base[['tpep_pickup_datetime', 'tpep_dropoff_datetime', 'trip_distance',\n",
    "             'PULocationID', 'DOLocationID', 'fare_amount', 'total_amount']]\n",
    "\n",
    "print(\"--- DONE DROP\")"
   ]
  },
  {
   "cell_type": "code",
   "execution_count": 5,
   "metadata": {},
   "outputs": [
    {
     "name": "stdout",
     "output_type": "stream",
     "text": [
      "--- DONE SPLITTING\n"
     ]
    }
   ],
   "source": [
    "base[['pu_date', 'pu_time']] = base['tpep_pickup_datetime'].str.split(\" \", expand=True)\n",
    "base = base[['pu_date', 'pu_time', 'tpep_dropoff_datetime', 'trip_distance',\n",
    "             'PULocationID', 'DOLocationID', 'fare_amount', 'total_amount']]\n",
    "\n",
    "print(\"--- DONE SPLITTING\")"
   ]
  },
  {
   "cell_type": "code",
   "execution_count": 6,
   "metadata": {},
   "outputs": [
    {
     "name": "stdout",
     "output_type": "stream",
     "text": [
      "--- DONE SPLITTING\n"
     ]
    }
   ],
   "source": [
    "base[['do_date', 'do_time']] = base['tpep_dropoff_datetime'].str.split(\" \", expand=True)\n",
    "base = base[['pu_date', 'pu_time', 'do_date', 'do_time', 'trip_distance',\n",
    "             'PULocationID', 'DOLocationID', 'fare_amount', 'total_amount']]\n",
    "\n",
    "print(\"--- DONE SPLITTING\")"
   ]
  },
  {
   "cell_type": "code",
   "execution_count": 7,
   "metadata": {},
   "outputs": [
    {
     "name": "stdout",
     "output_type": "stream",
     "text": [
      "---  DONE SAVING\n"
     ]
    }
   ],
   "source": [
    "base.to_csv(\"2019_MAR-JUN.csv\")\n",
    "print(\"---  DONE SAVING\")"
   ]
  },
  {
   "cell_type": "code",
   "execution_count": 8,
   "metadata": {},
   "outputs": [],
   "source": [
    "del base"
   ]
  }
 ],
 "metadata": {
  "kernelspec": {
   "display_name": "Python 3",
   "language": "python",
   "name": "python3"
  },
  "language_info": {
   "codemirror_mode": {
    "name": "ipython",
    "version": 3
   },
   "file_extension": ".py",
   "mimetype": "text/x-python",
   "name": "python",
   "nbconvert_exporter": "python",
   "pygments_lexer": "ipython3",
   "version": "3.7.3"
  }
 },
 "nbformat": 4,
 "nbformat_minor": 2
}
